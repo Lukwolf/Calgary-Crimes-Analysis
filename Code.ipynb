{
  "cells": [
    {
      "cell_type": "markdown",
      "metadata": {
        "id": "view-in-github",
        "colab_type": "text"
      },
      "source": [
        "<a href=\"https://colab.research.google.com/github/Lukwolf/Calgary-Crimes-Analysis/blob/main/Code.ipynb\" target=\"_parent\"><img src=\"https://colab.research.google.com/assets/colab-badge.svg\" alt=\"Open In Colab\"/></a>"
      ]
    },
    {
      "cell_type": "markdown",
      "metadata": {
        "id": "rxXTf2ojYHQa"
      },
      "source": [
        "# Data Preparation and Cleaning\n",
        "## <span style=\"color:red;\">Open this file in Google Colab to see plotly charts</span>"
      ]
    },
    {
      "cell_type": "code",
      "source": [
        "!pip install chart-studio"
      ],
      "metadata": {
        "colab": {
          "base_uri": "https://localhost:8080/"
        },
        "id": "wKgwZM_Zma8b",
        "outputId": "485d2bdf-d9dc-4234-9dfe-e6f56011cff9"
      },
      "execution_count": 65,
      "outputs": [
        {
          "output_type": "stream",
          "name": "stdout",
          "text": [
            "Requirement already satisfied: chart-studio in /usr/local/lib/python3.10/dist-packages (1.1.0)\n",
            "Requirement already satisfied: plotly in /usr/local/lib/python3.10/dist-packages (from chart-studio) (5.15.0)\n",
            "Requirement already satisfied: requests in /usr/local/lib/python3.10/dist-packages (from chart-studio) (2.31.0)\n",
            "Requirement already satisfied: retrying>=1.3.3 in /usr/local/lib/python3.10/dist-packages (from chart-studio) (1.3.4)\n",
            "Requirement already satisfied: six in /usr/local/lib/python3.10/dist-packages (from chart-studio) (1.16.0)\n",
            "Requirement already satisfied: tenacity>=6.2.0 in /usr/local/lib/python3.10/dist-packages (from plotly->chart-studio) (8.2.3)\n",
            "Requirement already satisfied: packaging in /usr/local/lib/python3.10/dist-packages (from plotly->chart-studio) (23.2)\n",
            "Requirement already satisfied: charset-normalizer<4,>=2 in /usr/local/lib/python3.10/dist-packages (from requests->chart-studio) (3.3.2)\n",
            "Requirement already satisfied: idna<4,>=2.5 in /usr/local/lib/python3.10/dist-packages (from requests->chart-studio) (3.6)\n",
            "Requirement already satisfied: urllib3<3,>=1.21.1 in /usr/local/lib/python3.10/dist-packages (from requests->chart-studio) (2.0.7)\n",
            "Requirement already satisfied: certifi>=2017.4.17 in /usr/local/lib/python3.10/dist-packages (from requests->chart-studio) (2024.2.2)\n"
          ]
        }
      ]
    },
    {
      "cell_type": "code",
      "execution_count": 66,
      "metadata": {
        "id": "116hTfLsYHQb"
      },
      "outputs": [],
      "source": [
        "import pandas as pd\n",
        "import numpy as np\n",
        "import matplotlib.pyplot as plt\n",
        "import seaborn as sn\n",
        "import geopandas as gpd\n",
        "from shapely.geometry import Point"
      ]
    },
    {
      "cell_type": "markdown",
      "metadata": {
        "id": "yDlI9iZJYHQc"
      },
      "source": [
        "## Import the Dataset"
      ]
    },
    {
      "cell_type": "code",
      "execution_count": 67,
      "metadata": {
        "colab": {
          "base_uri": "https://localhost:8080/",
          "height": 206
        },
        "id": "bdaQp3JMYHQc",
        "outputId": "c9b70c01-8601-4df2-b197-5f4a41141e24"
      },
      "outputs": [
        {
          "output_type": "display_data",
          "data": {
            "text/plain": [
              "      Sector Community Name                Category  Crime Count  \\\n",
              "0  NORTHWEST    ARBOUR LAKE        Theft OF Vehicle            2   \n",
              "1     CENTRE    BANFF TRAIL        Theft OF Vehicle            2   \n",
              "2       EAST          DOVER        Theft OF Vehicle            5   \n",
              "3     CENTRE      GREENVIEW  Assault (Non-domestic)            2   \n",
              "4  NORTHWEST       HAMPTONS      Theft FROM Vehicle            3   \n",
              "\n",
              "   Resident Count     Date  Year Month  \\\n",
              "0         10619.0  2022/04  2022   APR   \n",
              "1          4153.0  2023/10  2023   OCT   \n",
              "2         10351.0  2022/12  2022   DEC   \n",
              "3          1906.0  2020/12  2020   DEC   \n",
              "4          7382.0  2019/08  2019   AUG   \n",
              "\n",
              "                                          ID  \\\n",
              "0      2022-APR-ARBOUR LAKE-Theft OF Vehicle   \n",
              "1      2023-OCT-BANFF TRAIL-Theft OF Vehicle   \n",
              "2            2022-DEC-DOVER-Theft OF Vehicle   \n",
              "3  2020-DEC-GREENVIEW-Assault (Non-domestic)   \n",
              "4       2019-AUG-HAMPTONS-Theft FROM Vehicle   \n",
              "\n",
              "                          Community Center Point  \n",
              "0   POINT (-114.20767498075155 51.1325947114686)  \n",
              "1  POINT (-114.11512839716917 51.07421633024228)  \n",
              "2  POINT (-113.99305400906283 51.02256772250409)  \n",
              "3  POINT (-114.05746990262463 51.09485613506574)  \n",
              "4  POINT (-114.14668419231347 51.14509283969437)  "
            ],
            "text/html": [
              "\n",
              "  <div id=\"df-8f50895e-68ef-49a5-8f73-c25fab82adc7\" class=\"colab-df-container\">\n",
              "    <div>\n",
              "<style scoped>\n",
              "    .dataframe tbody tr th:only-of-type {\n",
              "        vertical-align: middle;\n",
              "    }\n",
              "\n",
              "    .dataframe tbody tr th {\n",
              "        vertical-align: top;\n",
              "    }\n",
              "\n",
              "    .dataframe thead th {\n",
              "        text-align: right;\n",
              "    }\n",
              "</style>\n",
              "<table border=\"1\" class=\"dataframe\">\n",
              "  <thead>\n",
              "    <tr style=\"text-align: right;\">\n",
              "      <th></th>\n",
              "      <th>Sector</th>\n",
              "      <th>Community Name</th>\n",
              "      <th>Category</th>\n",
              "      <th>Crime Count</th>\n",
              "      <th>Resident Count</th>\n",
              "      <th>Date</th>\n",
              "      <th>Year</th>\n",
              "      <th>Month</th>\n",
              "      <th>ID</th>\n",
              "      <th>Community Center Point</th>\n",
              "    </tr>\n",
              "  </thead>\n",
              "  <tbody>\n",
              "    <tr>\n",
              "      <th>0</th>\n",
              "      <td>NORTHWEST</td>\n",
              "      <td>ARBOUR LAKE</td>\n",
              "      <td>Theft OF Vehicle</td>\n",
              "      <td>2</td>\n",
              "      <td>10619.0</td>\n",
              "      <td>2022/04</td>\n",
              "      <td>2022</td>\n",
              "      <td>APR</td>\n",
              "      <td>2022-APR-ARBOUR LAKE-Theft OF Vehicle</td>\n",
              "      <td>POINT (-114.20767498075155 51.1325947114686)</td>\n",
              "    </tr>\n",
              "    <tr>\n",
              "      <th>1</th>\n",
              "      <td>CENTRE</td>\n",
              "      <td>BANFF TRAIL</td>\n",
              "      <td>Theft OF Vehicle</td>\n",
              "      <td>2</td>\n",
              "      <td>4153.0</td>\n",
              "      <td>2023/10</td>\n",
              "      <td>2023</td>\n",
              "      <td>OCT</td>\n",
              "      <td>2023-OCT-BANFF TRAIL-Theft OF Vehicle</td>\n",
              "      <td>POINT (-114.11512839716917 51.07421633024228)</td>\n",
              "    </tr>\n",
              "    <tr>\n",
              "      <th>2</th>\n",
              "      <td>EAST</td>\n",
              "      <td>DOVER</td>\n",
              "      <td>Theft OF Vehicle</td>\n",
              "      <td>5</td>\n",
              "      <td>10351.0</td>\n",
              "      <td>2022/12</td>\n",
              "      <td>2022</td>\n",
              "      <td>DEC</td>\n",
              "      <td>2022-DEC-DOVER-Theft OF Vehicle</td>\n",
              "      <td>POINT (-113.99305400906283 51.02256772250409)</td>\n",
              "    </tr>\n",
              "    <tr>\n",
              "      <th>3</th>\n",
              "      <td>CENTRE</td>\n",
              "      <td>GREENVIEW</td>\n",
              "      <td>Assault (Non-domestic)</td>\n",
              "      <td>2</td>\n",
              "      <td>1906.0</td>\n",
              "      <td>2020/12</td>\n",
              "      <td>2020</td>\n",
              "      <td>DEC</td>\n",
              "      <td>2020-DEC-GREENVIEW-Assault (Non-domestic)</td>\n",
              "      <td>POINT (-114.05746990262463 51.09485613506574)</td>\n",
              "    </tr>\n",
              "    <tr>\n",
              "      <th>4</th>\n",
              "      <td>NORTHWEST</td>\n",
              "      <td>HAMPTONS</td>\n",
              "      <td>Theft FROM Vehicle</td>\n",
              "      <td>3</td>\n",
              "      <td>7382.0</td>\n",
              "      <td>2019/08</td>\n",
              "      <td>2019</td>\n",
              "      <td>AUG</td>\n",
              "      <td>2019-AUG-HAMPTONS-Theft FROM Vehicle</td>\n",
              "      <td>POINT (-114.14668419231347 51.14509283969437)</td>\n",
              "    </tr>\n",
              "  </tbody>\n",
              "</table>\n",
              "</div>\n",
              "    <div class=\"colab-df-buttons\">\n",
              "\n",
              "  <div class=\"colab-df-container\">\n",
              "    <button class=\"colab-df-convert\" onclick=\"convertToInteractive('df-8f50895e-68ef-49a5-8f73-c25fab82adc7')\"\n",
              "            title=\"Convert this dataframe to an interactive table.\"\n",
              "            style=\"display:none;\">\n",
              "\n",
              "  <svg xmlns=\"http://www.w3.org/2000/svg\" height=\"24px\" viewBox=\"0 -960 960 960\">\n",
              "    <path d=\"M120-120v-720h720v720H120Zm60-500h600v-160H180v160Zm220 220h160v-160H400v160Zm0 220h160v-160H400v160ZM180-400h160v-160H180v160Zm440 0h160v-160H620v160ZM180-180h160v-160H180v160Zm440 0h160v-160H620v160Z\"/>\n",
              "  </svg>\n",
              "    </button>\n",
              "\n",
              "  <style>\n",
              "    .colab-df-container {\n",
              "      display:flex;\n",
              "      gap: 12px;\n",
              "    }\n",
              "\n",
              "    .colab-df-convert {\n",
              "      background-color: #E8F0FE;\n",
              "      border: none;\n",
              "      border-radius: 50%;\n",
              "      cursor: pointer;\n",
              "      display: none;\n",
              "      fill: #1967D2;\n",
              "      height: 32px;\n",
              "      padding: 0 0 0 0;\n",
              "      width: 32px;\n",
              "    }\n",
              "\n",
              "    .colab-df-convert:hover {\n",
              "      background-color: #E2EBFA;\n",
              "      box-shadow: 0px 1px 2px rgba(60, 64, 67, 0.3), 0px 1px 3px 1px rgba(60, 64, 67, 0.15);\n",
              "      fill: #174EA6;\n",
              "    }\n",
              "\n",
              "    .colab-df-buttons div {\n",
              "      margin-bottom: 4px;\n",
              "    }\n",
              "\n",
              "    [theme=dark] .colab-df-convert {\n",
              "      background-color: #3B4455;\n",
              "      fill: #D2E3FC;\n",
              "    }\n",
              "\n",
              "    [theme=dark] .colab-df-convert:hover {\n",
              "      background-color: #434B5C;\n",
              "      box-shadow: 0px 1px 3px 1px rgba(0, 0, 0, 0.15);\n",
              "      filter: drop-shadow(0px 1px 2px rgba(0, 0, 0, 0.3));\n",
              "      fill: #FFFFFF;\n",
              "    }\n",
              "  </style>\n",
              "\n",
              "    <script>\n",
              "      const buttonEl =\n",
              "        document.querySelector('#df-8f50895e-68ef-49a5-8f73-c25fab82adc7 button.colab-df-convert');\n",
              "      buttonEl.style.display =\n",
              "        google.colab.kernel.accessAllowed ? 'block' : 'none';\n",
              "\n",
              "      async function convertToInteractive(key) {\n",
              "        const element = document.querySelector('#df-8f50895e-68ef-49a5-8f73-c25fab82adc7');\n",
              "        const dataTable =\n",
              "          await google.colab.kernel.invokeFunction('convertToInteractive',\n",
              "                                                    [key], {});\n",
              "        if (!dataTable) return;\n",
              "\n",
              "        const docLinkHtml = 'Like what you see? Visit the ' +\n",
              "          '<a target=\"_blank\" href=https://colab.research.google.com/notebooks/data_table.ipynb>data table notebook</a>'\n",
              "          + ' to learn more about interactive tables.';\n",
              "        element.innerHTML = '';\n",
              "        dataTable['output_type'] = 'display_data';\n",
              "        await google.colab.output.renderOutput(dataTable, element);\n",
              "        const docLink = document.createElement('div');\n",
              "        docLink.innerHTML = docLinkHtml;\n",
              "        element.appendChild(docLink);\n",
              "      }\n",
              "    </script>\n",
              "  </div>\n",
              "\n",
              "\n",
              "<div id=\"df-a3590b7b-f975-4216-bf98-b34e4784b81d\">\n",
              "  <button class=\"colab-df-quickchart\" onclick=\"quickchart('df-a3590b7b-f975-4216-bf98-b34e4784b81d')\"\n",
              "            title=\"Suggest charts\"\n",
              "            style=\"display:none;\">\n",
              "\n",
              "<svg xmlns=\"http://www.w3.org/2000/svg\" height=\"24px\"viewBox=\"0 0 24 24\"\n",
              "     width=\"24px\">\n",
              "    <g>\n",
              "        <path d=\"M19 3H5c-1.1 0-2 .9-2 2v14c0 1.1.9 2 2 2h14c1.1 0 2-.9 2-2V5c0-1.1-.9-2-2-2zM9 17H7v-7h2v7zm4 0h-2V7h2v10zm4 0h-2v-4h2v4z\"/>\n",
              "    </g>\n",
              "</svg>\n",
              "  </button>\n",
              "\n",
              "<style>\n",
              "  .colab-df-quickchart {\n",
              "      --bg-color: #E8F0FE;\n",
              "      --fill-color: #1967D2;\n",
              "      --hover-bg-color: #E2EBFA;\n",
              "      --hover-fill-color: #174EA6;\n",
              "      --disabled-fill-color: #AAA;\n",
              "      --disabled-bg-color: #DDD;\n",
              "  }\n",
              "\n",
              "  [theme=dark] .colab-df-quickchart {\n",
              "      --bg-color: #3B4455;\n",
              "      --fill-color: #D2E3FC;\n",
              "      --hover-bg-color: #434B5C;\n",
              "      --hover-fill-color: #FFFFFF;\n",
              "      --disabled-bg-color: #3B4455;\n",
              "      --disabled-fill-color: #666;\n",
              "  }\n",
              "\n",
              "  .colab-df-quickchart {\n",
              "    background-color: var(--bg-color);\n",
              "    border: none;\n",
              "    border-radius: 50%;\n",
              "    cursor: pointer;\n",
              "    display: none;\n",
              "    fill: var(--fill-color);\n",
              "    height: 32px;\n",
              "    padding: 0;\n",
              "    width: 32px;\n",
              "  }\n",
              "\n",
              "  .colab-df-quickchart:hover {\n",
              "    background-color: var(--hover-bg-color);\n",
              "    box-shadow: 0 1px 2px rgba(60, 64, 67, 0.3), 0 1px 3px 1px rgba(60, 64, 67, 0.15);\n",
              "    fill: var(--button-hover-fill-color);\n",
              "  }\n",
              "\n",
              "  .colab-df-quickchart-complete:disabled,\n",
              "  .colab-df-quickchart-complete:disabled:hover {\n",
              "    background-color: var(--disabled-bg-color);\n",
              "    fill: var(--disabled-fill-color);\n",
              "    box-shadow: none;\n",
              "  }\n",
              "\n",
              "  .colab-df-spinner {\n",
              "    border: 2px solid var(--fill-color);\n",
              "    border-color: transparent;\n",
              "    border-bottom-color: var(--fill-color);\n",
              "    animation:\n",
              "      spin 1s steps(1) infinite;\n",
              "  }\n",
              "\n",
              "  @keyframes spin {\n",
              "    0% {\n",
              "      border-color: transparent;\n",
              "      border-bottom-color: var(--fill-color);\n",
              "      border-left-color: var(--fill-color);\n",
              "    }\n",
              "    20% {\n",
              "      border-color: transparent;\n",
              "      border-left-color: var(--fill-color);\n",
              "      border-top-color: var(--fill-color);\n",
              "    }\n",
              "    30% {\n",
              "      border-color: transparent;\n",
              "      border-left-color: var(--fill-color);\n",
              "      border-top-color: var(--fill-color);\n",
              "      border-right-color: var(--fill-color);\n",
              "    }\n",
              "    40% {\n",
              "      border-color: transparent;\n",
              "      border-right-color: var(--fill-color);\n",
              "      border-top-color: var(--fill-color);\n",
              "    }\n",
              "    60% {\n",
              "      border-color: transparent;\n",
              "      border-right-color: var(--fill-color);\n",
              "    }\n",
              "    80% {\n",
              "      border-color: transparent;\n",
              "      border-right-color: var(--fill-color);\n",
              "      border-bottom-color: var(--fill-color);\n",
              "    }\n",
              "    90% {\n",
              "      border-color: transparent;\n",
              "      border-bottom-color: var(--fill-color);\n",
              "    }\n",
              "  }\n",
              "</style>\n",
              "\n",
              "  <script>\n",
              "    async function quickchart(key) {\n",
              "      const quickchartButtonEl =\n",
              "        document.querySelector('#' + key + ' button');\n",
              "      quickchartButtonEl.disabled = true;  // To prevent multiple clicks.\n",
              "      quickchartButtonEl.classList.add('colab-df-spinner');\n",
              "      try {\n",
              "        const charts = await google.colab.kernel.invokeFunction(\n",
              "            'suggestCharts', [key], {});\n",
              "      } catch (error) {\n",
              "        console.error('Error during call to suggestCharts:', error);\n",
              "      }\n",
              "      quickchartButtonEl.classList.remove('colab-df-spinner');\n",
              "      quickchartButtonEl.classList.add('colab-df-quickchart-complete');\n",
              "    }\n",
              "    (() => {\n",
              "      let quickchartButtonEl =\n",
              "        document.querySelector('#df-a3590b7b-f975-4216-bf98-b34e4784b81d button');\n",
              "      quickchartButtonEl.style.display =\n",
              "        google.colab.kernel.accessAllowed ? 'block' : 'none';\n",
              "    })();\n",
              "  </script>\n",
              "</div>\n",
              "\n",
              "    </div>\n",
              "  </div>\n"
            ]
          },
          "metadata": {}
        }
      ],
      "source": [
        "df = pd.read_csv(r\"Community_Crime_Statistics_20240130.csv\")\n",
        "display(df.head())"
      ]
    },
    {
      "cell_type": "markdown",
      "metadata": {
        "id": "bT1I3-W_YHQd"
      },
      "source": [
        "## Check for types"
      ]
    },
    {
      "cell_type": "code",
      "execution_count": 68,
      "metadata": {
        "colab": {
          "base_uri": "https://localhost:8080/"
        },
        "id": "LFi511Z2YHQd",
        "outputId": "dae008cc-bcc4-487f-ec47-b299afd4317c"
      },
      "outputs": [
        {
          "output_type": "execute_result",
          "data": {
            "text/plain": [
              "Sector                     object\n",
              "Community Name             object\n",
              "Category                   object\n",
              "Crime Count                 int64\n",
              "Resident Count            float64\n",
              "Date                       object\n",
              "Year                        int64\n",
              "Month                      object\n",
              "ID                         object\n",
              "Community Center Point     object\n",
              "dtype: object"
            ]
          },
          "metadata": {},
          "execution_count": 68
        }
      ],
      "source": [
        "df.dtypes"
      ]
    },
    {
      "cell_type": "markdown",
      "metadata": {
        "id": "94-oyNOvYHQd"
      },
      "source": [
        "## Transform 'Community Center Point' into 3 other columns for geospacial plots"
      ]
    },
    {
      "cell_type": "code",
      "execution_count": 69,
      "metadata": {
        "colab": {
          "base_uri": "https://localhost:8080/",
          "height": 206
        },
        "id": "044MHtWHYHQd",
        "outputId": "49c461c7-b42c-43fe-adbf-fc9f244ea0ef"
      },
      "outputs": [
        {
          "output_type": "execute_result",
          "data": {
            "text/plain": [
              "      Sector Community Name                Category  Crime Count  \\\n",
              "0  NORTHWEST    ARBOUR LAKE        Theft OF Vehicle            2   \n",
              "1     CENTRE    BANFF TRAIL        Theft OF Vehicle            2   \n",
              "2       EAST          DOVER        Theft OF Vehicle            5   \n",
              "3     CENTRE      GREENVIEW  Assault (Non-domestic)            2   \n",
              "4  NORTHWEST       HAMPTONS      Theft FROM Vehicle            3   \n",
              "\n",
              "   Resident Count     Date  Year Month  \\\n",
              "0         10619.0  2022/04  2022   APR   \n",
              "1          4153.0  2023/10  2023   OCT   \n",
              "2         10351.0  2022/12  2022   DEC   \n",
              "3          1906.0  2020/12  2020   DEC   \n",
              "4          7382.0  2019/08  2019   AUG   \n",
              "\n",
              "                                          ID  \\\n",
              "0      2022-APR-ARBOUR LAKE-Theft OF Vehicle   \n",
              "1      2023-OCT-BANFF TRAIL-Theft OF Vehicle   \n",
              "2            2022-DEC-DOVER-Theft OF Vehicle   \n",
              "3  2020-DEC-GREENVIEW-Assault (Non-domestic)   \n",
              "4       2019-AUG-HAMPTONS-Theft FROM Vehicle   \n",
              "\n",
              "                          Community Center Point   Longitude   Latitude  \\\n",
              "0   POINT (-114.20767498075155 51.1325947114686) -114.207675  51.132595   \n",
              "1  POINT (-114.11512839716917 51.07421633024228) -114.115128  51.074216   \n",
              "2  POINT (-113.99305400906283 51.02256772250409) -113.993054  51.022568   \n",
              "3  POINT (-114.05746990262463 51.09485613506574) -114.057470  51.094856   \n",
              "4  POINT (-114.14668419231347 51.14509283969437) -114.146684  51.145093   \n",
              "\n",
              "                      geometry  \n",
              "0  POINT (-114.20767 51.13259)  \n",
              "1  POINT (-114.11513 51.07422)  \n",
              "2  POINT (-113.99305 51.02257)  \n",
              "3  POINT (-114.05747 51.09486)  \n",
              "4  POINT (-114.14668 51.14509)  "
            ],
            "text/html": [
              "\n",
              "  <div id=\"df-08af397f-d8f1-4bdb-ac16-89093ea579d8\" class=\"colab-df-container\">\n",
              "    <div>\n",
              "<style scoped>\n",
              "    .dataframe tbody tr th:only-of-type {\n",
              "        vertical-align: middle;\n",
              "    }\n",
              "\n",
              "    .dataframe tbody tr th {\n",
              "        vertical-align: top;\n",
              "    }\n",
              "\n",
              "    .dataframe thead th {\n",
              "        text-align: right;\n",
              "    }\n",
              "</style>\n",
              "<table border=\"1\" class=\"dataframe\">\n",
              "  <thead>\n",
              "    <tr style=\"text-align: right;\">\n",
              "      <th></th>\n",
              "      <th>Sector</th>\n",
              "      <th>Community Name</th>\n",
              "      <th>Category</th>\n",
              "      <th>Crime Count</th>\n",
              "      <th>Resident Count</th>\n",
              "      <th>Date</th>\n",
              "      <th>Year</th>\n",
              "      <th>Month</th>\n",
              "      <th>ID</th>\n",
              "      <th>Community Center Point</th>\n",
              "      <th>Longitude</th>\n",
              "      <th>Latitude</th>\n",
              "      <th>geometry</th>\n",
              "    </tr>\n",
              "  </thead>\n",
              "  <tbody>\n",
              "    <tr>\n",
              "      <th>0</th>\n",
              "      <td>NORTHWEST</td>\n",
              "      <td>ARBOUR LAKE</td>\n",
              "      <td>Theft OF Vehicle</td>\n",
              "      <td>2</td>\n",
              "      <td>10619.0</td>\n",
              "      <td>2022/04</td>\n",
              "      <td>2022</td>\n",
              "      <td>APR</td>\n",
              "      <td>2022-APR-ARBOUR LAKE-Theft OF Vehicle</td>\n",
              "      <td>POINT (-114.20767498075155 51.1325947114686)</td>\n",
              "      <td>-114.207675</td>\n",
              "      <td>51.132595</td>\n",
              "      <td>POINT (-114.20767 51.13259)</td>\n",
              "    </tr>\n",
              "    <tr>\n",
              "      <th>1</th>\n",
              "      <td>CENTRE</td>\n",
              "      <td>BANFF TRAIL</td>\n",
              "      <td>Theft OF Vehicle</td>\n",
              "      <td>2</td>\n",
              "      <td>4153.0</td>\n",
              "      <td>2023/10</td>\n",
              "      <td>2023</td>\n",
              "      <td>OCT</td>\n",
              "      <td>2023-OCT-BANFF TRAIL-Theft OF Vehicle</td>\n",
              "      <td>POINT (-114.11512839716917 51.07421633024228)</td>\n",
              "      <td>-114.115128</td>\n",
              "      <td>51.074216</td>\n",
              "      <td>POINT (-114.11513 51.07422)</td>\n",
              "    </tr>\n",
              "    <tr>\n",
              "      <th>2</th>\n",
              "      <td>EAST</td>\n",
              "      <td>DOVER</td>\n",
              "      <td>Theft OF Vehicle</td>\n",
              "      <td>5</td>\n",
              "      <td>10351.0</td>\n",
              "      <td>2022/12</td>\n",
              "      <td>2022</td>\n",
              "      <td>DEC</td>\n",
              "      <td>2022-DEC-DOVER-Theft OF Vehicle</td>\n",
              "      <td>POINT (-113.99305400906283 51.02256772250409)</td>\n",
              "      <td>-113.993054</td>\n",
              "      <td>51.022568</td>\n",
              "      <td>POINT (-113.99305 51.02257)</td>\n",
              "    </tr>\n",
              "    <tr>\n",
              "      <th>3</th>\n",
              "      <td>CENTRE</td>\n",
              "      <td>GREENVIEW</td>\n",
              "      <td>Assault (Non-domestic)</td>\n",
              "      <td>2</td>\n",
              "      <td>1906.0</td>\n",
              "      <td>2020/12</td>\n",
              "      <td>2020</td>\n",
              "      <td>DEC</td>\n",
              "      <td>2020-DEC-GREENVIEW-Assault (Non-domestic)</td>\n",
              "      <td>POINT (-114.05746990262463 51.09485613506574)</td>\n",
              "      <td>-114.057470</td>\n",
              "      <td>51.094856</td>\n",
              "      <td>POINT (-114.05747 51.09486)</td>\n",
              "    </tr>\n",
              "    <tr>\n",
              "      <th>4</th>\n",
              "      <td>NORTHWEST</td>\n",
              "      <td>HAMPTONS</td>\n",
              "      <td>Theft FROM Vehicle</td>\n",
              "      <td>3</td>\n",
              "      <td>7382.0</td>\n",
              "      <td>2019/08</td>\n",
              "      <td>2019</td>\n",
              "      <td>AUG</td>\n",
              "      <td>2019-AUG-HAMPTONS-Theft FROM Vehicle</td>\n",
              "      <td>POINT (-114.14668419231347 51.14509283969437)</td>\n",
              "      <td>-114.146684</td>\n",
              "      <td>51.145093</td>\n",
              "      <td>POINT (-114.14668 51.14509)</td>\n",
              "    </tr>\n",
              "  </tbody>\n",
              "</table>\n",
              "</div>\n",
              "    <div class=\"colab-df-buttons\">\n",
              "\n",
              "  <div class=\"colab-df-container\">\n",
              "    <button class=\"colab-df-convert\" onclick=\"convertToInteractive('df-08af397f-d8f1-4bdb-ac16-89093ea579d8')\"\n",
              "            title=\"Convert this dataframe to an interactive table.\"\n",
              "            style=\"display:none;\">\n",
              "\n",
              "  <svg xmlns=\"http://www.w3.org/2000/svg\" height=\"24px\" viewBox=\"0 -960 960 960\">\n",
              "    <path d=\"M120-120v-720h720v720H120Zm60-500h600v-160H180v160Zm220 220h160v-160H400v160Zm0 220h160v-160H400v160ZM180-400h160v-160H180v160Zm440 0h160v-160H620v160ZM180-180h160v-160H180v160Zm440 0h160v-160H620v160Z\"/>\n",
              "  </svg>\n",
              "    </button>\n",
              "\n",
              "  <style>\n",
              "    .colab-df-container {\n",
              "      display:flex;\n",
              "      gap: 12px;\n",
              "    }\n",
              "\n",
              "    .colab-df-convert {\n",
              "      background-color: #E8F0FE;\n",
              "      border: none;\n",
              "      border-radius: 50%;\n",
              "      cursor: pointer;\n",
              "      display: none;\n",
              "      fill: #1967D2;\n",
              "      height: 32px;\n",
              "      padding: 0 0 0 0;\n",
              "      width: 32px;\n",
              "    }\n",
              "\n",
              "    .colab-df-convert:hover {\n",
              "      background-color: #E2EBFA;\n",
              "      box-shadow: 0px 1px 2px rgba(60, 64, 67, 0.3), 0px 1px 3px 1px rgba(60, 64, 67, 0.15);\n",
              "      fill: #174EA6;\n",
              "    }\n",
              "\n",
              "    .colab-df-buttons div {\n",
              "      margin-bottom: 4px;\n",
              "    }\n",
              "\n",
              "    [theme=dark] .colab-df-convert {\n",
              "      background-color: #3B4455;\n",
              "      fill: #D2E3FC;\n",
              "    }\n",
              "\n",
              "    [theme=dark] .colab-df-convert:hover {\n",
              "      background-color: #434B5C;\n",
              "      box-shadow: 0px 1px 3px 1px rgba(0, 0, 0, 0.15);\n",
              "      filter: drop-shadow(0px 1px 2px rgba(0, 0, 0, 0.3));\n",
              "      fill: #FFFFFF;\n",
              "    }\n",
              "  </style>\n",
              "\n",
              "    <script>\n",
              "      const buttonEl =\n",
              "        document.querySelector('#df-08af397f-d8f1-4bdb-ac16-89093ea579d8 button.colab-df-convert');\n",
              "      buttonEl.style.display =\n",
              "        google.colab.kernel.accessAllowed ? 'block' : 'none';\n",
              "\n",
              "      async function convertToInteractive(key) {\n",
              "        const element = document.querySelector('#df-08af397f-d8f1-4bdb-ac16-89093ea579d8');\n",
              "        const dataTable =\n",
              "          await google.colab.kernel.invokeFunction('convertToInteractive',\n",
              "                                                    [key], {});\n",
              "        if (!dataTable) return;\n",
              "\n",
              "        const docLinkHtml = 'Like what you see? Visit the ' +\n",
              "          '<a target=\"_blank\" href=https://colab.research.google.com/notebooks/data_table.ipynb>data table notebook</a>'\n",
              "          + ' to learn more about interactive tables.';\n",
              "        element.innerHTML = '';\n",
              "        dataTable['output_type'] = 'display_data';\n",
              "        await google.colab.output.renderOutput(dataTable, element);\n",
              "        const docLink = document.createElement('div');\n",
              "        docLink.innerHTML = docLinkHtml;\n",
              "        element.appendChild(docLink);\n",
              "      }\n",
              "    </script>\n",
              "  </div>\n",
              "\n",
              "\n",
              "<div id=\"df-5923fcae-0107-45a0-9b4b-d6d011b89acd\">\n",
              "  <button class=\"colab-df-quickchart\" onclick=\"quickchart('df-5923fcae-0107-45a0-9b4b-d6d011b89acd')\"\n",
              "            title=\"Suggest charts\"\n",
              "            style=\"display:none;\">\n",
              "\n",
              "<svg xmlns=\"http://www.w3.org/2000/svg\" height=\"24px\"viewBox=\"0 0 24 24\"\n",
              "     width=\"24px\">\n",
              "    <g>\n",
              "        <path d=\"M19 3H5c-1.1 0-2 .9-2 2v14c0 1.1.9 2 2 2h14c1.1 0 2-.9 2-2V5c0-1.1-.9-2-2-2zM9 17H7v-7h2v7zm4 0h-2V7h2v10zm4 0h-2v-4h2v4z\"/>\n",
              "    </g>\n",
              "</svg>\n",
              "  </button>\n",
              "\n",
              "<style>\n",
              "  .colab-df-quickchart {\n",
              "      --bg-color: #E8F0FE;\n",
              "      --fill-color: #1967D2;\n",
              "      --hover-bg-color: #E2EBFA;\n",
              "      --hover-fill-color: #174EA6;\n",
              "      --disabled-fill-color: #AAA;\n",
              "      --disabled-bg-color: #DDD;\n",
              "  }\n",
              "\n",
              "  [theme=dark] .colab-df-quickchart {\n",
              "      --bg-color: #3B4455;\n",
              "      --fill-color: #D2E3FC;\n",
              "      --hover-bg-color: #434B5C;\n",
              "      --hover-fill-color: #FFFFFF;\n",
              "      --disabled-bg-color: #3B4455;\n",
              "      --disabled-fill-color: #666;\n",
              "  }\n",
              "\n",
              "  .colab-df-quickchart {\n",
              "    background-color: var(--bg-color);\n",
              "    border: none;\n",
              "    border-radius: 50%;\n",
              "    cursor: pointer;\n",
              "    display: none;\n",
              "    fill: var(--fill-color);\n",
              "    height: 32px;\n",
              "    padding: 0;\n",
              "    width: 32px;\n",
              "  }\n",
              "\n",
              "  .colab-df-quickchart:hover {\n",
              "    background-color: var(--hover-bg-color);\n",
              "    box-shadow: 0 1px 2px rgba(60, 64, 67, 0.3), 0 1px 3px 1px rgba(60, 64, 67, 0.15);\n",
              "    fill: var(--button-hover-fill-color);\n",
              "  }\n",
              "\n",
              "  .colab-df-quickchart-complete:disabled,\n",
              "  .colab-df-quickchart-complete:disabled:hover {\n",
              "    background-color: var(--disabled-bg-color);\n",
              "    fill: var(--disabled-fill-color);\n",
              "    box-shadow: none;\n",
              "  }\n",
              "\n",
              "  .colab-df-spinner {\n",
              "    border: 2px solid var(--fill-color);\n",
              "    border-color: transparent;\n",
              "    border-bottom-color: var(--fill-color);\n",
              "    animation:\n",
              "      spin 1s steps(1) infinite;\n",
              "  }\n",
              "\n",
              "  @keyframes spin {\n",
              "    0% {\n",
              "      border-color: transparent;\n",
              "      border-bottom-color: var(--fill-color);\n",
              "      border-left-color: var(--fill-color);\n",
              "    }\n",
              "    20% {\n",
              "      border-color: transparent;\n",
              "      border-left-color: var(--fill-color);\n",
              "      border-top-color: var(--fill-color);\n",
              "    }\n",
              "    30% {\n",
              "      border-color: transparent;\n",
              "      border-left-color: var(--fill-color);\n",
              "      border-top-color: var(--fill-color);\n",
              "      border-right-color: var(--fill-color);\n",
              "    }\n",
              "    40% {\n",
              "      border-color: transparent;\n",
              "      border-right-color: var(--fill-color);\n",
              "      border-top-color: var(--fill-color);\n",
              "    }\n",
              "    60% {\n",
              "      border-color: transparent;\n",
              "      border-right-color: var(--fill-color);\n",
              "    }\n",
              "    80% {\n",
              "      border-color: transparent;\n",
              "      border-right-color: var(--fill-color);\n",
              "      border-bottom-color: var(--fill-color);\n",
              "    }\n",
              "    90% {\n",
              "      border-color: transparent;\n",
              "      border-bottom-color: var(--fill-color);\n",
              "    }\n",
              "  }\n",
              "</style>\n",
              "\n",
              "  <script>\n",
              "    async function quickchart(key) {\n",
              "      const quickchartButtonEl =\n",
              "        document.querySelector('#' + key + ' button');\n",
              "      quickchartButtonEl.disabled = true;  // To prevent multiple clicks.\n",
              "      quickchartButtonEl.classList.add('colab-df-spinner');\n",
              "      try {\n",
              "        const charts = await google.colab.kernel.invokeFunction(\n",
              "            'suggestCharts', [key], {});\n",
              "      } catch (error) {\n",
              "        console.error('Error during call to suggestCharts:', error);\n",
              "      }\n",
              "      quickchartButtonEl.classList.remove('colab-df-spinner');\n",
              "      quickchartButtonEl.classList.add('colab-df-quickchart-complete');\n",
              "    }\n",
              "    (() => {\n",
              "      let quickchartButtonEl =\n",
              "        document.querySelector('#df-5923fcae-0107-45a0-9b4b-d6d011b89acd button');\n",
              "      quickchartButtonEl.style.display =\n",
              "        google.colab.kernel.accessAllowed ? 'block' : 'none';\n",
              "    })();\n",
              "  </script>\n",
              "</div>\n",
              "\n",
              "    </div>\n",
              "  </div>\n"
            ]
          },
          "metadata": {},
          "execution_count": 69
        }
      ],
      "source": [
        "df['Community Center Point'].apply(type).value_counts()\n",
        "df['Longitude'] = df['Community Center Point'].apply(lambda x: float(x.split()[1].lstrip('(')) if isinstance(x, str) else None)\n",
        "df['Latitude'] = df['Community Center Point'].apply(lambda x: float(x.split()[2].rstrip(')')) if isinstance(x, str) else None)\n",
        "gdf = gpd.GeoDataFrame(df, geometry=gpd.points_from_xy(df.Longitude, df.Latitude))\n",
        "gdf.crs = \"EPSG:4326\"\n",
        "gdf.head()"
      ]
    },
    {
      "cell_type": "markdown",
      "metadata": {
        "id": "cvYlmucqYHQd"
      },
      "source": [
        "### Check for columns types"
      ]
    },
    {
      "cell_type": "code",
      "execution_count": 70,
      "metadata": {
        "colab": {
          "base_uri": "https://localhost:8080/"
        },
        "id": "ynB245YgYHQd",
        "outputId": "877654cc-1454-4cc3-9ace-bdad4d2c92d2"
      },
      "outputs": [
        {
          "output_type": "execute_result",
          "data": {
            "text/plain": [
              "Sector                     object\n",
              "Community Name             object\n",
              "Category                   object\n",
              "Crime Count                 int64\n",
              "Resident Count            float64\n",
              "Date                       object\n",
              "Year                        int64\n",
              "Month                      object\n",
              "ID                         object\n",
              "Community Center Point     object\n",
              "Longitude                 float64\n",
              "Latitude                  float64\n",
              "dtype: object"
            ]
          },
          "metadata": {},
          "execution_count": 70
        }
      ],
      "source": [
        "df.dtypes"
      ]
    },
    {
      "cell_type": "markdown",
      "metadata": {
        "id": "ROxZrJ6yYHQd"
      },
      "source": [
        "### Check for nan values"
      ]
    },
    {
      "cell_type": "code",
      "execution_count": 71,
      "metadata": {
        "colab": {
          "base_uri": "https://localhost:8080/"
        },
        "id": "WNvjPe-fYHQd",
        "outputId": "d0da2397-e9e5-43ad-95c8-271e4da1a67e"
      },
      "outputs": [
        {
          "output_type": "execute_result",
          "data": {
            "text/plain": [
              "Sector                    31\n",
              "Community Name             0\n",
              "Category                   0\n",
              "Crime Count                0\n",
              "Resident Count            69\n",
              "Date                       0\n",
              "Year                       0\n",
              "Month                      0\n",
              "ID                         0\n",
              "Community Center Point    31\n",
              "Longitude                 31\n",
              "Latitude                  31\n",
              "dtype: int64"
            ]
          },
          "metadata": {},
          "execution_count": 71
        }
      ],
      "source": [
        "df.isna().sum()"
      ]
    },
    {
      "cell_type": "markdown",
      "metadata": {
        "id": "wZKPXUH6YHQd"
      },
      "source": [
        "### Data Shape"
      ]
    },
    {
      "cell_type": "code",
      "execution_count": 72,
      "metadata": {
        "colab": {
          "base_uri": "https://localhost:8080/"
        },
        "id": "JIDbyYpkYHQd",
        "outputId": "e37c7ede-adfa-4596-daa1-7206f5357798"
      },
      "outputs": [
        {
          "output_type": "execute_result",
          "data": {
            "text/plain": [
              "(67262, 12)"
            ]
          },
          "metadata": {},
          "execution_count": 72
        }
      ],
      "source": [
        "df.shape"
      ]
    },
    {
      "cell_type": "markdown",
      "metadata": {
        "id": "biA6Bk9-YHQe"
      },
      "source": [
        "since the data has 67.262 rows and the max nan rows is 69, I am going to delete the NAN values, since they only represent 0.1% of the data"
      ]
    },
    {
      "cell_type": "code",
      "execution_count": 73,
      "metadata": {
        "id": "Y1Q3WjUrYHQe"
      },
      "outputs": [],
      "source": [
        "df_clean = df.dropna(subset=['Resident Count'])"
      ]
    },
    {
      "cell_type": "markdown",
      "metadata": {
        "id": "Pgp2cqERYHQe"
      },
      "source": [
        "### Now I am going to check for NaN values"
      ]
    },
    {
      "cell_type": "code",
      "execution_count": 74,
      "metadata": {
        "colab": {
          "base_uri": "https://localhost:8080/"
        },
        "id": "1cnduOh7YHQe",
        "outputId": "f1e4e571-eb9c-415a-f562-9309e0976861"
      },
      "outputs": [
        {
          "output_type": "execute_result",
          "data": {
            "text/plain": [
              "Sector                    0\n",
              "Community Name            0\n",
              "Category                  0\n",
              "Crime Count               0\n",
              "Resident Count            0\n",
              "Date                      0\n",
              "Year                      0\n",
              "Month                     0\n",
              "ID                        0\n",
              "Community Center Point    0\n",
              "Longitude                 0\n",
              "Latitude                  0\n",
              "dtype: int64"
            ]
          },
          "metadata": {},
          "execution_count": 74
        }
      ],
      "source": [
        "df_clean.isna().sum()"
      ]
    },
    {
      "cell_type": "markdown",
      "metadata": {
        "id": "NcYA_3_LYHQe"
      },
      "source": [
        "## The next step is transform 'Date' column into a date-time type"
      ]
    },
    {
      "cell_type": "code",
      "execution_count": 75,
      "metadata": {
        "colab": {
          "base_uri": "https://localhost:8080/"
        },
        "id": "cKI_ckM5YHQe",
        "outputId": "2a311fe3-3205-4965-a2b0-40ac45da4047"
      },
      "outputs": [
        {
          "output_type": "execute_result",
          "data": {
            "text/plain": [
              "Sector                            object\n",
              "Community Name                    object\n",
              "Category                          object\n",
              "Crime Count                        int64\n",
              "Resident Count                   float64\n",
              "Date                      datetime64[ns]\n",
              "Year                               int64\n",
              "Month                             object\n",
              "ID                                object\n",
              "Community Center Point            object\n",
              "Longitude                        float64\n",
              "Latitude                         float64\n",
              "dtype: object"
            ]
          },
          "metadata": {},
          "execution_count": 75
        }
      ],
      "source": [
        "import warnings\n",
        "warnings.filterwarnings(\"ignore\")\n",
        "df_clean['Date'] = pd.to_datetime(df_clean['Date'], format='%Y/%m')\n",
        "df_clean.dtypes"
      ]
    },
    {
      "cell_type": "markdown",
      "metadata": {
        "id": "DaPa198ZYHQe"
      },
      "source": [
        "## Now I am going to display the new DataFrame, with no NaN values, Geo-Spacial columns and date-time format column"
      ]
    },
    {
      "cell_type": "code",
      "execution_count": 76,
      "metadata": {
        "colab": {
          "base_uri": "https://localhost:8080/",
          "height": 424
        },
        "id": "E-ICbts9YHQe",
        "outputId": "63f53099-e011-4ca9-fba4-ca1a7c1092e8"
      },
      "outputs": [
        {
          "output_type": "execute_result",
          "data": {
            "text/plain": [
              "          Sector             Community Name                    Category  \\\n",
              "0      NORTHWEST                ARBOUR LAKE            Theft OF Vehicle   \n",
              "1         CENTRE                BANFF TRAIL            Theft OF Vehicle   \n",
              "2           EAST                      DOVER            Theft OF Vehicle   \n",
              "3         CENTRE                  GREENVIEW      Assault (Non-domestic)   \n",
              "4      NORTHWEST                   HAMPTONS          Theft FROM Vehicle   \n",
              "...          ...                        ...                         ...   \n",
              "67257       EAST                  SOUTHVIEW  Break & Enter - Commercial   \n",
              "67258      NORTH                  SAGE HILL          Theft FROM Vehicle   \n",
              "67259     CENTRE  WINSTON HEIGHTS/MOUNTVIEW  Break & Enter - Commercial   \n",
              "67260     CENTRE              SOUTH CALGARY              Street Robbery   \n",
              "67261  NORTHEAST               SKYLINE EAST  Break & Enter - Commercial   \n",
              "\n",
              "       Crime Count  Resident Count       Date  Year Month  \\\n",
              "0                2         10619.0 2022-04-01  2022   APR   \n",
              "1                2          4153.0 2023-10-01  2023   OCT   \n",
              "2                5         10351.0 2022-12-01  2022   DEC   \n",
              "3                2          1906.0 2020-12-01  2020   DEC   \n",
              "4                3          7382.0 2019-08-01  2019   AUG   \n",
              "...            ...             ...        ...   ...   ...   \n",
              "67257            1          1805.0 2023-12-01  2023   DEC   \n",
              "67258            1          7924.0 2023-12-01  2023   DEC   \n",
              "67259            1          3635.0 2023-12-01  2023   DEC   \n",
              "67260            1          4442.0 2023-12-01  2023   DEC   \n",
              "67261            1             0.0 2023-12-01  2023   DEC   \n",
              "\n",
              "                                                      ID  \\\n",
              "0                  2022-APR-ARBOUR LAKE-Theft OF Vehicle   \n",
              "1                  2023-OCT-BANFF TRAIL-Theft OF Vehicle   \n",
              "2                        2022-DEC-DOVER-Theft OF Vehicle   \n",
              "3              2020-DEC-GREENVIEW-Assault (Non-domestic)   \n",
              "4                   2019-AUG-HAMPTONS-Theft FROM Vehicle   \n",
              "...                                                  ...   \n",
              "67257      2023-DEC-SOUTHVIEW-Break & Enter - Commercial   \n",
              "67258              2023-DEC-SAGE HILL-Theft FROM Vehicle   \n",
              "67259  2023-DEC-WINSTON HEIGHTS/MOUNTVIEW-Break & Ent...   \n",
              "67260              2023-DEC-SOUTH CALGARY-Street Robbery   \n",
              "67261   2023-DEC-SKYLINE EAST-Break & Enter - Commercial   \n",
              "\n",
              "                               Community Center Point   Longitude   Latitude  \n",
              "0        POINT (-114.20767498075155 51.1325947114686) -114.207675  51.132595  \n",
              "1       POINT (-114.11512839716917 51.07421633024228) -114.115128  51.074216  \n",
              "2       POINT (-113.99305400906283 51.02256772250409) -113.993054  51.022568  \n",
              "3       POINT (-114.05746990262463 51.09485613506574) -114.057470  51.094856  \n",
              "4       POINT (-114.14668419231347 51.14509283969437) -114.146684  51.145093  \n",
              "...                                               ...         ...        ...  \n",
              "67257   POINT (-113.99733916298928 51.03415221260387) -113.997339  51.034152  \n",
              "67258  POINT (-114.14068609335015 51.175616972779984) -114.140686  51.175617  \n",
              "67259  POINT (-114.04184874950579 51.075298802175126) -114.041849  51.075299  \n",
              "67260   POINT (-114.10207470148995 51.02680215136445) -114.102075  51.026802  \n",
              "67261   POINT (-114.03893128621468 51.10015261262966) -114.038931  51.100153  \n",
              "\n",
              "[67193 rows x 12 columns]"
            ],
            "text/html": [
              "\n",
              "  <div id=\"df-a042d97c-87bb-4751-96ed-1324ad1b0bd3\" class=\"colab-df-container\">\n",
              "    <div>\n",
              "<style scoped>\n",
              "    .dataframe tbody tr th:only-of-type {\n",
              "        vertical-align: middle;\n",
              "    }\n",
              "\n",
              "    .dataframe tbody tr th {\n",
              "        vertical-align: top;\n",
              "    }\n",
              "\n",
              "    .dataframe thead th {\n",
              "        text-align: right;\n",
              "    }\n",
              "</style>\n",
              "<table border=\"1\" class=\"dataframe\">\n",
              "  <thead>\n",
              "    <tr style=\"text-align: right;\">\n",
              "      <th></th>\n",
              "      <th>Sector</th>\n",
              "      <th>Community Name</th>\n",
              "      <th>Category</th>\n",
              "      <th>Crime Count</th>\n",
              "      <th>Resident Count</th>\n",
              "      <th>Date</th>\n",
              "      <th>Year</th>\n",
              "      <th>Month</th>\n",
              "      <th>ID</th>\n",
              "      <th>Community Center Point</th>\n",
              "      <th>Longitude</th>\n",
              "      <th>Latitude</th>\n",
              "    </tr>\n",
              "  </thead>\n",
              "  <tbody>\n",
              "    <tr>\n",
              "      <th>0</th>\n",
              "      <td>NORTHWEST</td>\n",
              "      <td>ARBOUR LAKE</td>\n",
              "      <td>Theft OF Vehicle</td>\n",
              "      <td>2</td>\n",
              "      <td>10619.0</td>\n",
              "      <td>2022-04-01</td>\n",
              "      <td>2022</td>\n",
              "      <td>APR</td>\n",
              "      <td>2022-APR-ARBOUR LAKE-Theft OF Vehicle</td>\n",
              "      <td>POINT (-114.20767498075155 51.1325947114686)</td>\n",
              "      <td>-114.207675</td>\n",
              "      <td>51.132595</td>\n",
              "    </tr>\n",
              "    <tr>\n",
              "      <th>1</th>\n",
              "      <td>CENTRE</td>\n",
              "      <td>BANFF TRAIL</td>\n",
              "      <td>Theft OF Vehicle</td>\n",
              "      <td>2</td>\n",
              "      <td>4153.0</td>\n",
              "      <td>2023-10-01</td>\n",
              "      <td>2023</td>\n",
              "      <td>OCT</td>\n",
              "      <td>2023-OCT-BANFF TRAIL-Theft OF Vehicle</td>\n",
              "      <td>POINT (-114.11512839716917 51.07421633024228)</td>\n",
              "      <td>-114.115128</td>\n",
              "      <td>51.074216</td>\n",
              "    </tr>\n",
              "    <tr>\n",
              "      <th>2</th>\n",
              "      <td>EAST</td>\n",
              "      <td>DOVER</td>\n",
              "      <td>Theft OF Vehicle</td>\n",
              "      <td>5</td>\n",
              "      <td>10351.0</td>\n",
              "      <td>2022-12-01</td>\n",
              "      <td>2022</td>\n",
              "      <td>DEC</td>\n",
              "      <td>2022-DEC-DOVER-Theft OF Vehicle</td>\n",
              "      <td>POINT (-113.99305400906283 51.02256772250409)</td>\n",
              "      <td>-113.993054</td>\n",
              "      <td>51.022568</td>\n",
              "    </tr>\n",
              "    <tr>\n",
              "      <th>3</th>\n",
              "      <td>CENTRE</td>\n",
              "      <td>GREENVIEW</td>\n",
              "      <td>Assault (Non-domestic)</td>\n",
              "      <td>2</td>\n",
              "      <td>1906.0</td>\n",
              "      <td>2020-12-01</td>\n",
              "      <td>2020</td>\n",
              "      <td>DEC</td>\n",
              "      <td>2020-DEC-GREENVIEW-Assault (Non-domestic)</td>\n",
              "      <td>POINT (-114.05746990262463 51.09485613506574)</td>\n",
              "      <td>-114.057470</td>\n",
              "      <td>51.094856</td>\n",
              "    </tr>\n",
              "    <tr>\n",
              "      <th>4</th>\n",
              "      <td>NORTHWEST</td>\n",
              "      <td>HAMPTONS</td>\n",
              "      <td>Theft FROM Vehicle</td>\n",
              "      <td>3</td>\n",
              "      <td>7382.0</td>\n",
              "      <td>2019-08-01</td>\n",
              "      <td>2019</td>\n",
              "      <td>AUG</td>\n",
              "      <td>2019-AUG-HAMPTONS-Theft FROM Vehicle</td>\n",
              "      <td>POINT (-114.14668419231347 51.14509283969437)</td>\n",
              "      <td>-114.146684</td>\n",
              "      <td>51.145093</td>\n",
              "    </tr>\n",
              "    <tr>\n",
              "      <th>...</th>\n",
              "      <td>...</td>\n",
              "      <td>...</td>\n",
              "      <td>...</td>\n",
              "      <td>...</td>\n",
              "      <td>...</td>\n",
              "      <td>...</td>\n",
              "      <td>...</td>\n",
              "      <td>...</td>\n",
              "      <td>...</td>\n",
              "      <td>...</td>\n",
              "      <td>...</td>\n",
              "      <td>...</td>\n",
              "    </tr>\n",
              "    <tr>\n",
              "      <th>67257</th>\n",
              "      <td>EAST</td>\n",
              "      <td>SOUTHVIEW</td>\n",
              "      <td>Break &amp; Enter - Commercial</td>\n",
              "      <td>1</td>\n",
              "      <td>1805.0</td>\n",
              "      <td>2023-12-01</td>\n",
              "      <td>2023</td>\n",
              "      <td>DEC</td>\n",
              "      <td>2023-DEC-SOUTHVIEW-Break &amp; Enter - Commercial</td>\n",
              "      <td>POINT (-113.99733916298928 51.03415221260387)</td>\n",
              "      <td>-113.997339</td>\n",
              "      <td>51.034152</td>\n",
              "    </tr>\n",
              "    <tr>\n",
              "      <th>67258</th>\n",
              "      <td>NORTH</td>\n",
              "      <td>SAGE HILL</td>\n",
              "      <td>Theft FROM Vehicle</td>\n",
              "      <td>1</td>\n",
              "      <td>7924.0</td>\n",
              "      <td>2023-12-01</td>\n",
              "      <td>2023</td>\n",
              "      <td>DEC</td>\n",
              "      <td>2023-DEC-SAGE HILL-Theft FROM Vehicle</td>\n",
              "      <td>POINT (-114.14068609335015 51.175616972779984)</td>\n",
              "      <td>-114.140686</td>\n",
              "      <td>51.175617</td>\n",
              "    </tr>\n",
              "    <tr>\n",
              "      <th>67259</th>\n",
              "      <td>CENTRE</td>\n",
              "      <td>WINSTON HEIGHTS/MOUNTVIEW</td>\n",
              "      <td>Break &amp; Enter - Commercial</td>\n",
              "      <td>1</td>\n",
              "      <td>3635.0</td>\n",
              "      <td>2023-12-01</td>\n",
              "      <td>2023</td>\n",
              "      <td>DEC</td>\n",
              "      <td>2023-DEC-WINSTON HEIGHTS/MOUNTVIEW-Break &amp; Ent...</td>\n",
              "      <td>POINT (-114.04184874950579 51.075298802175126)</td>\n",
              "      <td>-114.041849</td>\n",
              "      <td>51.075299</td>\n",
              "    </tr>\n",
              "    <tr>\n",
              "      <th>67260</th>\n",
              "      <td>CENTRE</td>\n",
              "      <td>SOUTH CALGARY</td>\n",
              "      <td>Street Robbery</td>\n",
              "      <td>1</td>\n",
              "      <td>4442.0</td>\n",
              "      <td>2023-12-01</td>\n",
              "      <td>2023</td>\n",
              "      <td>DEC</td>\n",
              "      <td>2023-DEC-SOUTH CALGARY-Street Robbery</td>\n",
              "      <td>POINT (-114.10207470148995 51.02680215136445)</td>\n",
              "      <td>-114.102075</td>\n",
              "      <td>51.026802</td>\n",
              "    </tr>\n",
              "    <tr>\n",
              "      <th>67261</th>\n",
              "      <td>NORTHEAST</td>\n",
              "      <td>SKYLINE EAST</td>\n",
              "      <td>Break &amp; Enter - Commercial</td>\n",
              "      <td>1</td>\n",
              "      <td>0.0</td>\n",
              "      <td>2023-12-01</td>\n",
              "      <td>2023</td>\n",
              "      <td>DEC</td>\n",
              "      <td>2023-DEC-SKYLINE EAST-Break &amp; Enter - Commercial</td>\n",
              "      <td>POINT (-114.03893128621468 51.10015261262966)</td>\n",
              "      <td>-114.038931</td>\n",
              "      <td>51.100153</td>\n",
              "    </tr>\n",
              "  </tbody>\n",
              "</table>\n",
              "<p>67193 rows × 12 columns</p>\n",
              "</div>\n",
              "    <div class=\"colab-df-buttons\">\n",
              "\n",
              "  <div class=\"colab-df-container\">\n",
              "    <button class=\"colab-df-convert\" onclick=\"convertToInteractive('df-a042d97c-87bb-4751-96ed-1324ad1b0bd3')\"\n",
              "            title=\"Convert this dataframe to an interactive table.\"\n",
              "            style=\"display:none;\">\n",
              "\n",
              "  <svg xmlns=\"http://www.w3.org/2000/svg\" height=\"24px\" viewBox=\"0 -960 960 960\">\n",
              "    <path d=\"M120-120v-720h720v720H120Zm60-500h600v-160H180v160Zm220 220h160v-160H400v160Zm0 220h160v-160H400v160ZM180-400h160v-160H180v160Zm440 0h160v-160H620v160ZM180-180h160v-160H180v160Zm440 0h160v-160H620v160Z\"/>\n",
              "  </svg>\n",
              "    </button>\n",
              "\n",
              "  <style>\n",
              "    .colab-df-container {\n",
              "      display:flex;\n",
              "      gap: 12px;\n",
              "    }\n",
              "\n",
              "    .colab-df-convert {\n",
              "      background-color: #E8F0FE;\n",
              "      border: none;\n",
              "      border-radius: 50%;\n",
              "      cursor: pointer;\n",
              "      display: none;\n",
              "      fill: #1967D2;\n",
              "      height: 32px;\n",
              "      padding: 0 0 0 0;\n",
              "      width: 32px;\n",
              "    }\n",
              "\n",
              "    .colab-df-convert:hover {\n",
              "      background-color: #E2EBFA;\n",
              "      box-shadow: 0px 1px 2px rgba(60, 64, 67, 0.3), 0px 1px 3px 1px rgba(60, 64, 67, 0.15);\n",
              "      fill: #174EA6;\n",
              "    }\n",
              "\n",
              "    .colab-df-buttons div {\n",
              "      margin-bottom: 4px;\n",
              "    }\n",
              "\n",
              "    [theme=dark] .colab-df-convert {\n",
              "      background-color: #3B4455;\n",
              "      fill: #D2E3FC;\n",
              "    }\n",
              "\n",
              "    [theme=dark] .colab-df-convert:hover {\n",
              "      background-color: #434B5C;\n",
              "      box-shadow: 0px 1px 3px 1px rgba(0, 0, 0, 0.15);\n",
              "      filter: drop-shadow(0px 1px 2px rgba(0, 0, 0, 0.3));\n",
              "      fill: #FFFFFF;\n",
              "    }\n",
              "  </style>\n",
              "\n",
              "    <script>\n",
              "      const buttonEl =\n",
              "        document.querySelector('#df-a042d97c-87bb-4751-96ed-1324ad1b0bd3 button.colab-df-convert');\n",
              "      buttonEl.style.display =\n",
              "        google.colab.kernel.accessAllowed ? 'block' : 'none';\n",
              "\n",
              "      async function convertToInteractive(key) {\n",
              "        const element = document.querySelector('#df-a042d97c-87bb-4751-96ed-1324ad1b0bd3');\n",
              "        const dataTable =\n",
              "          await google.colab.kernel.invokeFunction('convertToInteractive',\n",
              "                                                    [key], {});\n",
              "        if (!dataTable) return;\n",
              "\n",
              "        const docLinkHtml = 'Like what you see? Visit the ' +\n",
              "          '<a target=\"_blank\" href=https://colab.research.google.com/notebooks/data_table.ipynb>data table notebook</a>'\n",
              "          + ' to learn more about interactive tables.';\n",
              "        element.innerHTML = '';\n",
              "        dataTable['output_type'] = 'display_data';\n",
              "        await google.colab.output.renderOutput(dataTable, element);\n",
              "        const docLink = document.createElement('div');\n",
              "        docLink.innerHTML = docLinkHtml;\n",
              "        element.appendChild(docLink);\n",
              "      }\n",
              "    </script>\n",
              "  </div>\n",
              "\n",
              "\n",
              "<div id=\"df-129e61c3-300a-4b9d-93d6-871308f7707d\">\n",
              "  <button class=\"colab-df-quickchart\" onclick=\"quickchart('df-129e61c3-300a-4b9d-93d6-871308f7707d')\"\n",
              "            title=\"Suggest charts\"\n",
              "            style=\"display:none;\">\n",
              "\n",
              "<svg xmlns=\"http://www.w3.org/2000/svg\" height=\"24px\"viewBox=\"0 0 24 24\"\n",
              "     width=\"24px\">\n",
              "    <g>\n",
              "        <path d=\"M19 3H5c-1.1 0-2 .9-2 2v14c0 1.1.9 2 2 2h14c1.1 0 2-.9 2-2V5c0-1.1-.9-2-2-2zM9 17H7v-7h2v7zm4 0h-2V7h2v10zm4 0h-2v-4h2v4z\"/>\n",
              "    </g>\n",
              "</svg>\n",
              "  </button>\n",
              "\n",
              "<style>\n",
              "  .colab-df-quickchart {\n",
              "      --bg-color: #E8F0FE;\n",
              "      --fill-color: #1967D2;\n",
              "      --hover-bg-color: #E2EBFA;\n",
              "      --hover-fill-color: #174EA6;\n",
              "      --disabled-fill-color: #AAA;\n",
              "      --disabled-bg-color: #DDD;\n",
              "  }\n",
              "\n",
              "  [theme=dark] .colab-df-quickchart {\n",
              "      --bg-color: #3B4455;\n",
              "      --fill-color: #D2E3FC;\n",
              "      --hover-bg-color: #434B5C;\n",
              "      --hover-fill-color: #FFFFFF;\n",
              "      --disabled-bg-color: #3B4455;\n",
              "      --disabled-fill-color: #666;\n",
              "  }\n",
              "\n",
              "  .colab-df-quickchart {\n",
              "    background-color: var(--bg-color);\n",
              "    border: none;\n",
              "    border-radius: 50%;\n",
              "    cursor: pointer;\n",
              "    display: none;\n",
              "    fill: var(--fill-color);\n",
              "    height: 32px;\n",
              "    padding: 0;\n",
              "    width: 32px;\n",
              "  }\n",
              "\n",
              "  .colab-df-quickchart:hover {\n",
              "    background-color: var(--hover-bg-color);\n",
              "    box-shadow: 0 1px 2px rgba(60, 64, 67, 0.3), 0 1px 3px 1px rgba(60, 64, 67, 0.15);\n",
              "    fill: var(--button-hover-fill-color);\n",
              "  }\n",
              "\n",
              "  .colab-df-quickchart-complete:disabled,\n",
              "  .colab-df-quickchart-complete:disabled:hover {\n",
              "    background-color: var(--disabled-bg-color);\n",
              "    fill: var(--disabled-fill-color);\n",
              "    box-shadow: none;\n",
              "  }\n",
              "\n",
              "  .colab-df-spinner {\n",
              "    border: 2px solid var(--fill-color);\n",
              "    border-color: transparent;\n",
              "    border-bottom-color: var(--fill-color);\n",
              "    animation:\n",
              "      spin 1s steps(1) infinite;\n",
              "  }\n",
              "\n",
              "  @keyframes spin {\n",
              "    0% {\n",
              "      border-color: transparent;\n",
              "      border-bottom-color: var(--fill-color);\n",
              "      border-left-color: var(--fill-color);\n",
              "    }\n",
              "    20% {\n",
              "      border-color: transparent;\n",
              "      border-left-color: var(--fill-color);\n",
              "      border-top-color: var(--fill-color);\n",
              "    }\n",
              "    30% {\n",
              "      border-color: transparent;\n",
              "      border-left-color: var(--fill-color);\n",
              "      border-top-color: var(--fill-color);\n",
              "      border-right-color: var(--fill-color);\n",
              "    }\n",
              "    40% {\n",
              "      border-color: transparent;\n",
              "      border-right-color: var(--fill-color);\n",
              "      border-top-color: var(--fill-color);\n",
              "    }\n",
              "    60% {\n",
              "      border-color: transparent;\n",
              "      border-right-color: var(--fill-color);\n",
              "    }\n",
              "    80% {\n",
              "      border-color: transparent;\n",
              "      border-right-color: var(--fill-color);\n",
              "      border-bottom-color: var(--fill-color);\n",
              "    }\n",
              "    90% {\n",
              "      border-color: transparent;\n",
              "      border-bottom-color: var(--fill-color);\n",
              "    }\n",
              "  }\n",
              "</style>\n",
              "\n",
              "  <script>\n",
              "    async function quickchart(key) {\n",
              "      const quickchartButtonEl =\n",
              "        document.querySelector('#' + key + ' button');\n",
              "      quickchartButtonEl.disabled = true;  // To prevent multiple clicks.\n",
              "      quickchartButtonEl.classList.add('colab-df-spinner');\n",
              "      try {\n",
              "        const charts = await google.colab.kernel.invokeFunction(\n",
              "            'suggestCharts', [key], {});\n",
              "      } catch (error) {\n",
              "        console.error('Error during call to suggestCharts:', error);\n",
              "      }\n",
              "      quickchartButtonEl.classList.remove('colab-df-spinner');\n",
              "      quickchartButtonEl.classList.add('colab-df-quickchart-complete');\n",
              "    }\n",
              "    (() => {\n",
              "      let quickchartButtonEl =\n",
              "        document.querySelector('#df-129e61c3-300a-4b9d-93d6-871308f7707d button');\n",
              "      quickchartButtonEl.style.display =\n",
              "        google.colab.kernel.accessAllowed ? 'block' : 'none';\n",
              "    })();\n",
              "  </script>\n",
              "</div>\n",
              "\n",
              "  <div id=\"id_685e355b-4bcd-4348-b711-a5f294325ac8\">\n",
              "    <style>\n",
              "      .colab-df-generate {\n",
              "        background-color: #E8F0FE;\n",
              "        border: none;\n",
              "        border-radius: 50%;\n",
              "        cursor: pointer;\n",
              "        display: none;\n",
              "        fill: #1967D2;\n",
              "        height: 32px;\n",
              "        padding: 0 0 0 0;\n",
              "        width: 32px;\n",
              "      }\n",
              "\n",
              "      .colab-df-generate:hover {\n",
              "        background-color: #E2EBFA;\n",
              "        box-shadow: 0px 1px 2px rgba(60, 64, 67, 0.3), 0px 1px 3px 1px rgba(60, 64, 67, 0.15);\n",
              "        fill: #174EA6;\n",
              "      }\n",
              "\n",
              "      [theme=dark] .colab-df-generate {\n",
              "        background-color: #3B4455;\n",
              "        fill: #D2E3FC;\n",
              "      }\n",
              "\n",
              "      [theme=dark] .colab-df-generate:hover {\n",
              "        background-color: #434B5C;\n",
              "        box-shadow: 0px 1px 3px 1px rgba(0, 0, 0, 0.15);\n",
              "        filter: drop-shadow(0px 1px 2px rgba(0, 0, 0, 0.3));\n",
              "        fill: #FFFFFF;\n",
              "      }\n",
              "    </style>\n",
              "    <button class=\"colab-df-generate\" onclick=\"generateWithVariable('df_clean')\"\n",
              "            title=\"Generate code using this dataframe.\"\n",
              "            style=\"display:none;\">\n",
              "\n",
              "  <svg xmlns=\"http://www.w3.org/2000/svg\" height=\"24px\"viewBox=\"0 0 24 24\"\n",
              "       width=\"24px\">\n",
              "    <path d=\"M7,19H8.4L18.45,9,17,7.55,7,17.6ZM5,21V16.75L18.45,3.32a2,2,0,0,1,2.83,0l1.4,1.43a1.91,1.91,0,0,1,.58,1.4,1.91,1.91,0,0,1-.58,1.4L9.25,21ZM18.45,9,17,7.55Zm-12,3A5.31,5.31,0,0,0,4.9,8.1,5.31,5.31,0,0,0,1,6.5,5.31,5.31,0,0,0,4.9,4.9,5.31,5.31,0,0,0,6.5,1,5.31,5.31,0,0,0,8.1,4.9,5.31,5.31,0,0,0,12,6.5,5.46,5.46,0,0,0,6.5,12Z\"/>\n",
              "  </svg>\n",
              "    </button>\n",
              "    <script>\n",
              "      (() => {\n",
              "      const buttonEl =\n",
              "        document.querySelector('#id_685e355b-4bcd-4348-b711-a5f294325ac8 button.colab-df-generate');\n",
              "      buttonEl.style.display =\n",
              "        google.colab.kernel.accessAllowed ? 'block' : 'none';\n",
              "\n",
              "      buttonEl.onclick = () => {\n",
              "        google.colab.notebook.generateWithVariable('df_clean');\n",
              "      }\n",
              "      })();\n",
              "    </script>\n",
              "  </div>\n",
              "\n",
              "    </div>\n",
              "  </div>\n"
            ]
          },
          "metadata": {},
          "execution_count": 76
        }
      ],
      "source": [
        "df_clean"
      ]
    },
    {
      "cell_type": "code",
      "execution_count": 77,
      "metadata": {
        "id": "lWo52o5qYHQe"
      },
      "outputs": [],
      "source": [
        "# df_clean.to_csv(\"Data.csv\")"
      ]
    },
    {
      "cell_type": "markdown",
      "metadata": {
        "id": "Q55ul4j5YHQe"
      },
      "source": [
        "## Now I am going to calculate 'Crime Rate per 1000 people'"
      ]
    },
    {
      "cell_type": "code",
      "execution_count": 78,
      "metadata": {
        "id": "D-nDg1iYYHQe"
      },
      "outputs": [],
      "source": [
        "crime_per_community = df_clean.groupby('Community Name').agg(\n",
        "    total_crimes=pd.NamedAgg(column='Crime Count', aggfunc='sum'),\n",
        "    resident_count=pd.NamedAgg(column='Resident Count', aggfunc='mean')\n",
        ")\n",
        "\n",
        "crime_per_community['crime_rate_per_1000'] = (crime_per_community['total_crimes'] / crime_per_community['resident_count']) * 1000\n",
        "crime_per_community_sorted = crime_per_community.sort_values(by='crime_rate_per_1000', ascending=False)\n",
        "crime_per_community = crime_per_community[crime_per_community['resident_count'] > 0]\n",
        "crime_per_community['resident_count'] = crime_per_community['resident_count'].replace(0, crime_per_community['resident_count'].mean())\n",
        "crime_per_community['resident_count'] = crime_per_community['resident_count'].fillna(crime_per_community['resident_count'].mean())\n",
        "crime_per_community['crime_rate_per_1000'] = crime_per_community['crime_rate_per_1000'].round(2)"
      ]
    },
    {
      "cell_type": "code",
      "execution_count": 79,
      "metadata": {
        "id": "3ImEJpYzYHQe"
      },
      "outputs": [],
      "source": [
        "# crime_per_community.to_csv(\"Data_2.csv\")"
      ]
    },
    {
      "cell_type": "markdown",
      "metadata": {
        "id": "SHCb-CwyYHQe"
      },
      "source": [
        "# Questions to explore the data and Visualization"
      ]
    },
    {
      "cell_type": "markdown",
      "metadata": {
        "id": "wP8IgyVvYHQe"
      },
      "source": [
        "## In this section I am going to ask 5 questions, which will be a guide to explore the data"
      ]
    },
    {
      "cell_type": "markdown",
      "metadata": {
        "id": "5a6VYSf8YHQe"
      },
      "source": [
        "1. How are the categories of crimes distributed?\n",
        "\n",
        "2. What are the sectors with the highest number of crimes and How are crimes distributed throughout the city?\n",
        "\n",
        "3. How have crimes evolved over time?\n",
        "\n",
        "4. What is the crime rate per capita?\n",
        "\n",
        "5. What is the relationship between Crimes and population?"
      ]
    },
    {
      "cell_type": "markdown",
      "metadata": {
        "id": "jD6lvME0YHQf"
      },
      "source": [
        "## Crimes by Category (Question 1)"
      ]
    },
    {
      "cell_type": "markdown",
      "metadata": {
        "id": "6q9OXDMrYHQf"
      },
      "source": [
        "To answer this question, I am going to create a pie chart to show the categories of crimes and their percentages"
      ]
    },
    {
      "cell_type": "code",
      "execution_count": 80,
      "metadata": {
        "colab": {
          "base_uri": "https://localhost:8080/",
          "height": 332
        },
        "id": "yxd0mtN0YHQf",
        "outputId": "06def0fa-5154-44d3-af5b-b1e2392032d7"
      },
      "outputs": [
        {
          "output_type": "execute_result",
          "data": {
            "text/plain": [
              "                         Category  Crime Count\n",
              "0          Assault (Non-domestic)        24021\n",
              "1      Break & Enter - Commercial        25868\n",
              "2        Break & Enter - Dwelling        11468\n",
              "3  Break & Enter - Other Premises        11987\n",
              "4              Commercial Robbery         2029\n",
              "5                  Street Robbery         3636\n",
              "6              Theft FROM Vehicle        71187\n",
              "7                Theft OF Vehicle        31045\n",
              "8   Violence Other (Non-domestic)        12390"
            ],
            "text/html": [
              "\n",
              "  <div id=\"df-ba339b82-d54d-4a5a-ac49-6b9fdcf1e4d7\" class=\"colab-df-container\">\n",
              "    <div>\n",
              "<style scoped>\n",
              "    .dataframe tbody tr th:only-of-type {\n",
              "        vertical-align: middle;\n",
              "    }\n",
              "\n",
              "    .dataframe tbody tr th {\n",
              "        vertical-align: top;\n",
              "    }\n",
              "\n",
              "    .dataframe thead th {\n",
              "        text-align: right;\n",
              "    }\n",
              "</style>\n",
              "<table border=\"1\" class=\"dataframe\">\n",
              "  <thead>\n",
              "    <tr style=\"text-align: right;\">\n",
              "      <th></th>\n",
              "      <th>Category</th>\n",
              "      <th>Crime Count</th>\n",
              "    </tr>\n",
              "  </thead>\n",
              "  <tbody>\n",
              "    <tr>\n",
              "      <th>0</th>\n",
              "      <td>Assault (Non-domestic)</td>\n",
              "      <td>24021</td>\n",
              "    </tr>\n",
              "    <tr>\n",
              "      <th>1</th>\n",
              "      <td>Break &amp; Enter - Commercial</td>\n",
              "      <td>25868</td>\n",
              "    </tr>\n",
              "    <tr>\n",
              "      <th>2</th>\n",
              "      <td>Break &amp; Enter - Dwelling</td>\n",
              "      <td>11468</td>\n",
              "    </tr>\n",
              "    <tr>\n",
              "      <th>3</th>\n",
              "      <td>Break &amp; Enter - Other Premises</td>\n",
              "      <td>11987</td>\n",
              "    </tr>\n",
              "    <tr>\n",
              "      <th>4</th>\n",
              "      <td>Commercial Robbery</td>\n",
              "      <td>2029</td>\n",
              "    </tr>\n",
              "    <tr>\n",
              "      <th>5</th>\n",
              "      <td>Street Robbery</td>\n",
              "      <td>3636</td>\n",
              "    </tr>\n",
              "    <tr>\n",
              "      <th>6</th>\n",
              "      <td>Theft FROM Vehicle</td>\n",
              "      <td>71187</td>\n",
              "    </tr>\n",
              "    <tr>\n",
              "      <th>7</th>\n",
              "      <td>Theft OF Vehicle</td>\n",
              "      <td>31045</td>\n",
              "    </tr>\n",
              "    <tr>\n",
              "      <th>8</th>\n",
              "      <td>Violence Other (Non-domestic)</td>\n",
              "      <td>12390</td>\n",
              "    </tr>\n",
              "  </tbody>\n",
              "</table>\n",
              "</div>\n",
              "    <div class=\"colab-df-buttons\">\n",
              "\n",
              "  <div class=\"colab-df-container\">\n",
              "    <button class=\"colab-df-convert\" onclick=\"convertToInteractive('df-ba339b82-d54d-4a5a-ac49-6b9fdcf1e4d7')\"\n",
              "            title=\"Convert this dataframe to an interactive table.\"\n",
              "            style=\"display:none;\">\n",
              "\n",
              "  <svg xmlns=\"http://www.w3.org/2000/svg\" height=\"24px\" viewBox=\"0 -960 960 960\">\n",
              "    <path d=\"M120-120v-720h720v720H120Zm60-500h600v-160H180v160Zm220 220h160v-160H400v160Zm0 220h160v-160H400v160ZM180-400h160v-160H180v160Zm440 0h160v-160H620v160ZM180-180h160v-160H180v160Zm440 0h160v-160H620v160Z\"/>\n",
              "  </svg>\n",
              "    </button>\n",
              "\n",
              "  <style>\n",
              "    .colab-df-container {\n",
              "      display:flex;\n",
              "      gap: 12px;\n",
              "    }\n",
              "\n",
              "    .colab-df-convert {\n",
              "      background-color: #E8F0FE;\n",
              "      border: none;\n",
              "      border-radius: 50%;\n",
              "      cursor: pointer;\n",
              "      display: none;\n",
              "      fill: #1967D2;\n",
              "      height: 32px;\n",
              "      padding: 0 0 0 0;\n",
              "      width: 32px;\n",
              "    }\n",
              "\n",
              "    .colab-df-convert:hover {\n",
              "      background-color: #E2EBFA;\n",
              "      box-shadow: 0px 1px 2px rgba(60, 64, 67, 0.3), 0px 1px 3px 1px rgba(60, 64, 67, 0.15);\n",
              "      fill: #174EA6;\n",
              "    }\n",
              "\n",
              "    .colab-df-buttons div {\n",
              "      margin-bottom: 4px;\n",
              "    }\n",
              "\n",
              "    [theme=dark] .colab-df-convert {\n",
              "      background-color: #3B4455;\n",
              "      fill: #D2E3FC;\n",
              "    }\n",
              "\n",
              "    [theme=dark] .colab-df-convert:hover {\n",
              "      background-color: #434B5C;\n",
              "      box-shadow: 0px 1px 3px 1px rgba(0, 0, 0, 0.15);\n",
              "      filter: drop-shadow(0px 1px 2px rgba(0, 0, 0, 0.3));\n",
              "      fill: #FFFFFF;\n",
              "    }\n",
              "  </style>\n",
              "\n",
              "    <script>\n",
              "      const buttonEl =\n",
              "        document.querySelector('#df-ba339b82-d54d-4a5a-ac49-6b9fdcf1e4d7 button.colab-df-convert');\n",
              "      buttonEl.style.display =\n",
              "        google.colab.kernel.accessAllowed ? 'block' : 'none';\n",
              "\n",
              "      async function convertToInteractive(key) {\n",
              "        const element = document.querySelector('#df-ba339b82-d54d-4a5a-ac49-6b9fdcf1e4d7');\n",
              "        const dataTable =\n",
              "          await google.colab.kernel.invokeFunction('convertToInteractive',\n",
              "                                                    [key], {});\n",
              "        if (!dataTable) return;\n",
              "\n",
              "        const docLinkHtml = 'Like what you see? Visit the ' +\n",
              "          '<a target=\"_blank\" href=https://colab.research.google.com/notebooks/data_table.ipynb>data table notebook</a>'\n",
              "          + ' to learn more about interactive tables.';\n",
              "        element.innerHTML = '';\n",
              "        dataTable['output_type'] = 'display_data';\n",
              "        await google.colab.output.renderOutput(dataTable, element);\n",
              "        const docLink = document.createElement('div');\n",
              "        docLink.innerHTML = docLinkHtml;\n",
              "        element.appendChild(docLink);\n",
              "      }\n",
              "    </script>\n",
              "  </div>\n",
              "\n",
              "\n",
              "<div id=\"df-3d9840d1-6685-4217-b74c-b8e66d5e1791\">\n",
              "  <button class=\"colab-df-quickchart\" onclick=\"quickchart('df-3d9840d1-6685-4217-b74c-b8e66d5e1791')\"\n",
              "            title=\"Suggest charts\"\n",
              "            style=\"display:none;\">\n",
              "\n",
              "<svg xmlns=\"http://www.w3.org/2000/svg\" height=\"24px\"viewBox=\"0 0 24 24\"\n",
              "     width=\"24px\">\n",
              "    <g>\n",
              "        <path d=\"M19 3H5c-1.1 0-2 .9-2 2v14c0 1.1.9 2 2 2h14c1.1 0 2-.9 2-2V5c0-1.1-.9-2-2-2zM9 17H7v-7h2v7zm4 0h-2V7h2v10zm4 0h-2v-4h2v4z\"/>\n",
              "    </g>\n",
              "</svg>\n",
              "  </button>\n",
              "\n",
              "<style>\n",
              "  .colab-df-quickchart {\n",
              "      --bg-color: #E8F0FE;\n",
              "      --fill-color: #1967D2;\n",
              "      --hover-bg-color: #E2EBFA;\n",
              "      --hover-fill-color: #174EA6;\n",
              "      --disabled-fill-color: #AAA;\n",
              "      --disabled-bg-color: #DDD;\n",
              "  }\n",
              "\n",
              "  [theme=dark] .colab-df-quickchart {\n",
              "      --bg-color: #3B4455;\n",
              "      --fill-color: #D2E3FC;\n",
              "      --hover-bg-color: #434B5C;\n",
              "      --hover-fill-color: #FFFFFF;\n",
              "      --disabled-bg-color: #3B4455;\n",
              "      --disabled-fill-color: #666;\n",
              "  }\n",
              "\n",
              "  .colab-df-quickchart {\n",
              "    background-color: var(--bg-color);\n",
              "    border: none;\n",
              "    border-radius: 50%;\n",
              "    cursor: pointer;\n",
              "    display: none;\n",
              "    fill: var(--fill-color);\n",
              "    height: 32px;\n",
              "    padding: 0;\n",
              "    width: 32px;\n",
              "  }\n",
              "\n",
              "  .colab-df-quickchart:hover {\n",
              "    background-color: var(--hover-bg-color);\n",
              "    box-shadow: 0 1px 2px rgba(60, 64, 67, 0.3), 0 1px 3px 1px rgba(60, 64, 67, 0.15);\n",
              "    fill: var(--button-hover-fill-color);\n",
              "  }\n",
              "\n",
              "  .colab-df-quickchart-complete:disabled,\n",
              "  .colab-df-quickchart-complete:disabled:hover {\n",
              "    background-color: var(--disabled-bg-color);\n",
              "    fill: var(--disabled-fill-color);\n",
              "    box-shadow: none;\n",
              "  }\n",
              "\n",
              "  .colab-df-spinner {\n",
              "    border: 2px solid var(--fill-color);\n",
              "    border-color: transparent;\n",
              "    border-bottom-color: var(--fill-color);\n",
              "    animation:\n",
              "      spin 1s steps(1) infinite;\n",
              "  }\n",
              "\n",
              "  @keyframes spin {\n",
              "    0% {\n",
              "      border-color: transparent;\n",
              "      border-bottom-color: var(--fill-color);\n",
              "      border-left-color: var(--fill-color);\n",
              "    }\n",
              "    20% {\n",
              "      border-color: transparent;\n",
              "      border-left-color: var(--fill-color);\n",
              "      border-top-color: var(--fill-color);\n",
              "    }\n",
              "    30% {\n",
              "      border-color: transparent;\n",
              "      border-left-color: var(--fill-color);\n",
              "      border-top-color: var(--fill-color);\n",
              "      border-right-color: var(--fill-color);\n",
              "    }\n",
              "    40% {\n",
              "      border-color: transparent;\n",
              "      border-right-color: var(--fill-color);\n",
              "      border-top-color: var(--fill-color);\n",
              "    }\n",
              "    60% {\n",
              "      border-color: transparent;\n",
              "      border-right-color: var(--fill-color);\n",
              "    }\n",
              "    80% {\n",
              "      border-color: transparent;\n",
              "      border-right-color: var(--fill-color);\n",
              "      border-bottom-color: var(--fill-color);\n",
              "    }\n",
              "    90% {\n",
              "      border-color: transparent;\n",
              "      border-bottom-color: var(--fill-color);\n",
              "    }\n",
              "  }\n",
              "</style>\n",
              "\n",
              "  <script>\n",
              "    async function quickchart(key) {\n",
              "      const quickchartButtonEl =\n",
              "        document.querySelector('#' + key + ' button');\n",
              "      quickchartButtonEl.disabled = true;  // To prevent multiple clicks.\n",
              "      quickchartButtonEl.classList.add('colab-df-spinner');\n",
              "      try {\n",
              "        const charts = await google.colab.kernel.invokeFunction(\n",
              "            'suggestCharts', [key], {});\n",
              "      } catch (error) {\n",
              "        console.error('Error during call to suggestCharts:', error);\n",
              "      }\n",
              "      quickchartButtonEl.classList.remove('colab-df-spinner');\n",
              "      quickchartButtonEl.classList.add('colab-df-quickchart-complete');\n",
              "    }\n",
              "    (() => {\n",
              "      let quickchartButtonEl =\n",
              "        document.querySelector('#df-3d9840d1-6685-4217-b74c-b8e66d5e1791 button');\n",
              "      quickchartButtonEl.style.display =\n",
              "        google.colab.kernel.accessAllowed ? 'block' : 'none';\n",
              "    })();\n",
              "  </script>\n",
              "</div>\n",
              "\n",
              "    </div>\n",
              "  </div>\n"
            ]
          },
          "metadata": {},
          "execution_count": 80
        }
      ],
      "source": [
        "df_clean.groupby('Category')['Crime Count'].sum().reset_index()"
      ]
    },
    {
      "cell_type": "code",
      "execution_count": 105,
      "metadata": {
        "colab": {
          "base_uri": "https://localhost:8080/",
          "height": 895
        },
        "id": "GQvSPbFAYHQf",
        "outputId": "0c6debd9-04a7-44cc-bdc3-9f38848cf704"
      },
      "outputs": [
        {
          "output_type": "display_data",
          "data": {
            "text/plain": [
              "<Figure size 1500x1100 with 1 Axes>"
            ],
            "image/png": "[encoded data removed]"
          },
          "metadata": {}
        }
      ],
      "source": [
        "a = df_clean.groupby('Category')['Crime Count'].sum().reset_index()\n",
        "etiquetas = a['Category']\n",
        "valores = a['Crime Count']\n",
        "\n",
        "plt.style.use('ggplot')\n",
        "plt.figure(figsize=(15, 11))\n",
        "plt.pie(valores, labels=etiquetas, autopct='%1.1f%%', startangle=20, textprops={'fontsize': 17})\n",
        "plt.title('', size=15)\n",
        "plt.axis('equal')\n",
        "plt.show()"
      ]
    },
    {
      "cell_type": "markdown",
      "metadata": {
        "id": "B2gd_wdXYHQf"
      },
      "source": [
        "As we can see here, 'Theft From Vehicle' represents 36.8% of Calgary´s crimes, followed by 'Theft of Vehicle'. Both of them combine represent half of the crimes in Calgary"
      ]
    },
    {
      "cell_type": "markdown",
      "metadata": {
        "id": "eD27Yt4zYHQf"
      },
      "source": [
        "## Types of Crime by Sector (Question 2)"
      ]
    },
    {
      "cell_type": "markdown",
      "metadata": {
        "id": "YrsMwlxUYHQf"
      },
      "source": [
        "To answer this question, I am going to plot 2 charts. The first one showing crimes by sector and types, and the second one a geo-spacial plot of Calgary"
      ]
    },
    {
      "cell_type": "code",
      "source": [
        "import chart_studio\n",
        "username='LukWolf'\n",
        "api_key='S5bJRhBoHP8bgqnKnPPS'\n",
        "chart_studio.tools.set_credentials_file(username=username,\n",
        "                                        api_key=api_key)"
      ],
      "metadata": {
        "id": "_-724TQImRVZ"
      },
      "execution_count": 82,
      "outputs": []
    },
    {
      "cell_type": "code",
      "source": [
        "import pandas as pd\n",
        "import plotly.graph_objects as go\n",
        "\n",
        "pivot_data = df_clean.pivot_table(index='Sector', columns='Category', values='Crime Count', aggfunc='sum', fill_value=0)\n",
        "categories = pivot_data.columns\n",
        "sectors = pivot_data.index\n",
        "data_for_plotting = []\n",
        "\n",
        "for category in categories:\n",
        "    data_for_plotting.append(\n",
        "        go.Bar(\n",
        "            name=category,\n",
        "            x=sectors,\n",
        "            y=pivot_data[category],\n",
        "            marker=dict(\n",
        "                line=dict(color='rgb(248, 248, 249)', width=1)\n",
        "            )\n",
        "        )\n",
        "    )\n",
        "\n",
        "fig = go.Figure(data=data_for_plotting)\n",
        "fig.update_layout(\n",
        "    barmode='stack',\n",
        "    xaxis={'categoryorder': 'total descending'},\n",
        "    title='Crime Counts by Sector and Category',\n",
        "    xaxis_title=\"Sector\",\n",
        "    yaxis_title=\"Crime Counts\",\n",
        "    legend_title=\"Category\",\n",
        "    plot_bgcolor='rgba(0,0,0,0)',\n",
        "    width=2000,\n",
        "    height=1000\n",
        ")\n",
        "\n",
        "fig.show()\n",
        "# py.plot(fig, filename=\"plotly_scatter\", auto_open = True)"
      ],
      "metadata": {
        "colab": {
          "base_uri": "https://localhost:8080/",
          "height": 1000
        },
        "id": "-1OtT7P8mkKq",
        "outputId": "eb86e0c6-3af7-4fa9-c5c6-2c1bd72cc8eb"
      },
      "execution_count": 83,
      "outputs": [
        {
          "output_type": "display_data",
          "data": {
            "text/html": [
              "<html>\n",
              "<head><meta charset=\"utf-8\" /></head>\n",
              "<body>\n",
              "    <div>            <script src=\"https://cdnjs.cloudflare.com/ajax/libs/mathjax/2.7.5/MathJax.js?config=TeX-AMS-MML_SVG\"></script><script type=\"text/javascript\">if (window.MathJax && window.MathJax.Hub && window.MathJax.Hub.Config) {window.MathJax.Hub.Config({SVG: {font: \"STIX-Web\"}});}</script>                <script type=\"text/javascript\">window.PlotlyConfig = {MathJaxConfig: 'local'};</script>\n",
              "        <script charset=\"utf-8\" src=\"https://cdn.plot.ly/plotly-2.24.1.min.js\"></script>                <div id=\"f68d9e29-b205-4c1c-a1fd-9a9979fd3332\" class=\"plotly-graph-div\" style=\"height:1000px; width:2000px;\"></div>            <script type=\"text/javascript\">                                    window.PLOTLYENV=window.PLOTLYENV || {};                                    if (document.getElementById(\"f68d9e29-b205-4c1c-a1fd-9a9979fd3332\")) {                    Plotly.newPlot(                        \"f68d9e29-b205-4c1c-a1fd-9a9979fd3332\",                        [{\"marker\":{\"line\":{\"color\":\"rgb(248, 248, 249)\",\"width\":1}},\"name\":\"Assault (Non-domestic)\",\"x\":[\"CENTRE\",\"EAST\",\"NORTH\",\"NORTHEAST\",\"NORTHWEST\",\"SOUTH\",\"SOUTHEAST\",\"WEST\"],\"y\":[9516,2304,1159,4574,2040,2343,961,1124],\"type\":\"bar\"},{\"marker\":{\"line\":{\"color\":\"rgb(248, 248, 249)\",\"width\":1}},\"name\":\"Break & Enter - Commercial\",\"x\":[\"CENTRE\",\"EAST\",\"NORTH\",\"NORTHEAST\",\"NORTHWEST\",\"SOUTH\",\"SOUTHEAST\",\"WEST\"],\"y\":[11482,2061,1240,3628,1806,2658,1769,1224],\"type\":\"bar\"},{\"marker\":{\"line\":{\"color\":\"rgb(248, 248, 249)\",\"width\":1}},\"name\":\"Break & Enter - Dwelling\",\"x\":[\"CENTRE\",\"EAST\",\"NORTH\",\"NORTHEAST\",\"NORTHWEST\",\"SOUTH\",\"SOUTHEAST\",\"WEST\"],\"y\":[2465,691,1253,1510,1617,1679,943,1310],\"type\":\"bar\"},{\"marker\":{\"line\":{\"color\":\"rgb(248, 248, 249)\",\"width\":1}},\"name\":\"Break & Enter - Other Premises\",\"x\":[\"CENTRE\",\"EAST\",\"NORTH\",\"NORTHEAST\",\"NORTHWEST\",\"SOUTH\",\"SOUTHEAST\",\"WEST\"],\"y\":[4767,956,671,1817,1122,1519,437,698],\"type\":\"bar\"},{\"marker\":{\"line\":{\"color\":\"rgb(248, 248, 249)\",\"width\":1}},\"name\":\"Commercial Robbery\",\"x\":[\"CENTRE\",\"EAST\",\"NORTH\",\"NORTHEAST\",\"NORTHWEST\",\"SOUTH\",\"SOUTHEAST\",\"WEST\"],\"y\":[564,190,145,468,187,240,88,147],\"type\":\"bar\"},{\"marker\":{\"line\":{\"color\":\"rgb(248, 248, 249)\",\"width\":1}},\"name\":\"Street Robbery\",\"x\":[\"CENTRE\",\"EAST\",\"NORTH\",\"NORTHEAST\",\"NORTHWEST\",\"SOUTH\",\"SOUTHEAST\",\"WEST\"],\"y\":[1216,398,207,981,251,294,102,187],\"type\":\"bar\"},{\"marker\":{\"line\":{\"color\":\"rgb(248, 248, 249)\",\"width\":1}},\"name\":\"Theft FROM Vehicle\",\"x\":[\"CENTRE\",\"EAST\",\"NORTH\",\"NORTHEAST\",\"NORTHWEST\",\"SOUTH\",\"SOUTHEAST\",\"WEST\"],\"y\":[23260,4991,4895,13189,6587,9733,4307,4225],\"type\":\"bar\"},{\"marker\":{\"line\":{\"color\":\"rgb(248, 248, 249)\",\"width\":1}},\"name\":\"Theft OF Vehicle\",\"x\":[\"CENTRE\",\"EAST\",\"NORTH\",\"NORTHEAST\",\"NORTHWEST\",\"SOUTH\",\"SOUTHEAST\",\"WEST\"],\"y\":[7340,3579,2416,8556,2265,3383,2116,1390],\"type\":\"bar\"},{\"marker\":{\"line\":{\"color\":\"rgb(248, 248, 249)\",\"width\":1}},\"name\":\"Violence Other (Non-domestic)\",\"x\":[\"CENTRE\",\"EAST\",\"NORTH\",\"NORTHEAST\",\"NORTHWEST\",\"SOUTH\",\"SOUTHEAST\",\"WEST\"],\"y\":[3642,932,1065,2153,1268,1589,875,866],\"type\":\"bar\"}],                        {\"template\":{\"data\":{\"histogram2dcontour\":[{\"type\":\"histogram2dcontour\",\"colorbar\":{\"outlinewidth\":0,\"ticks\":\"\"},\"colorscale\":[[0.0,\"#0d0887\"],[0.1111111111111111,\"#46039f\"],[0.2222222222222222,\"#7201a8\"],[0.3333333333333333,\"#9c179e\"],[0.4444444444444444,\"#bd3786\"],[0.5555555555555556,\"#d8576b\"],[0.6666666666666666,\"#ed7953\"],[0.7777777777777778,\"#fb9f3a\"],[0.8888888888888888,\"#fdca26\"],[1.0,\"#f0f921\"]]}],\"choropleth\":[{\"type\":\"choropleth\",\"colorbar\":{\"outlinewidth\":0,\"ticks\":\"\"}}],\"histogram2d\":[{\"type\":\"histogram2d\",\"colorbar\":{\"outlinewidth\":0,\"ticks\":\"\"},\"colorscale\":[[0.0,\"#0d0887\"],[0.1111111111111111,\"#46039f\"],[0.2222222222222222,\"#7201a8\"],[0.3333333333333333,\"#9c179e\"],[0.4444444444444444,\"#bd3786\"],[0.5555555555555556,\"#d8576b\"],[0.6666666666666666,\"#ed7953\"],[0.7777777777777778,\"#fb9f3a\"],[0.8888888888888888,\"#fdca26\"],[1.0,\"#f0f921\"]]}],\"heatmap\":[{\"type\":\"heatmap\",\"colorbar\":{\"outlinewidth\":0,\"ticks\":\"\"},\"colorscale\":[[0.0,\"#0d0887\"],[0.1111111111111111,\"#46039f\"],[0.2222222222222222,\"#7201a8\"],[0.3333333333333333,\"#9c179e\"],[0.4444444444444444,\"#bd3786\"],[0.5555555555555556,\"#d8576b\"],[0.6666666666666666,\"#ed7953\"],[0.7777777777777778,\"#fb9f3a\"],[0.8888888888888888,\"#fdca26\"],[1.0,\"#f0f921\"]]}],\"heatmapgl\":[{\"type\":\"heatmapgl\",\"colorbar\":{\"outlinewidth\":0,\"ticks\":\"\"},\"colorscale\":[[0.0,\"#0d0887\"],[0.1111111111111111,\"#46039f\"],[0.2222222222222222,\"#7201a8\"],[0.3333333333333333,\"#9c179e\"],[0.4444444444444444,\"#bd3786\"],[0.5555555555555556,\"#d8576b\"],[0.6666666666666666,\"#ed7953\"],[0.7777777777777778,\"#fb9f3a\"],[0.8888888888888888,\"#fdca26\"],[1.0,\"#f0f921\"]]}],\"contourcarpet\":[{\"type\":\"contourcarpet\",\"colorbar\":{\"outlinewidth\":0,\"ticks\":\"\"}}],\"contour\":[{\"type\":\"contour\",\"colorbar\":{\"outlinewidth\":0,\"ticks\":\"\"},\"colorscale\":[[0.0,\"#0d0887\"],[0.1111111111111111,\"#46039f\"],[0.2222222222222222,\"#7201a8\"],[0.3333333333333333,\"#9c179e\"],[0.4444444444444444,\"#bd3786\"],[0.5555555555555556,\"#d8576b\"],[0.6666666666666666,\"#ed7953\"],[0.7777777777777778,\"#fb9f3a\"],[0.8888888888888888,\"#fdca26\"],[1.0,\"#f0f921\"]]}],\"surface\":[{\"type\":\"surface\",\"colorbar\":{\"outlinewidth\":0,\"ticks\":\"\"},\"colorscale\":[[0.0,\"#0d0887\"],[0.1111111111111111,\"#46039f\"],[0.2222222222222222,\"#7201a8\"],[0.3333333333333333,\"#9c179e\"],[0.4444444444444444,\"#bd3786\"],[0.5555555555555556,\"#d8576b\"],[0.6666666666666666,\"#ed7953\"],[0.7777777777777778,\"#fb9f3a\"],[0.8888888888888888,\"#fdca26\"],[1.0,\"#f0f921\"]]}],\"mesh3d\":[{\"type\":\"mesh3d\",\"colorbar\":{\"outlinewidth\":0,\"ticks\":\"\"}}],\"scatter\":[{\"fillpattern\":{\"fillmode\":\"overlay\",\"size\":10,\"solidity\":0.2},\"type\":\"scatter\"}],\"parcoords\":[{\"type\":\"parcoords\",\"line\":{\"colorbar\":{\"outlinewidth\":0,\"ticks\":\"\"}}}],\"scatterpolargl\":[{\"type\":\"scatterpolargl\",\"marker\":{\"colorbar\":{\"outlinewidth\":0,\"ticks\":\"\"}}}],\"bar\":[{\"error_x\":{\"color\":\"#2a3f5f\"},\"error_y\":{\"color\":\"#2a3f5f\"},\"marker\":{\"line\":{\"color\":\"#E5ECF6\",\"width\":0.5},\"pattern\":{\"fillmode\":\"overlay\",\"size\":10,\"solidity\":0.2}},\"type\":\"bar\"}],\"scattergeo\":[{\"type\":\"scattergeo\",\"marker\":{\"colorbar\":{\"outlinewidth\":0,\"ticks\":\"\"}}}],\"scatterpolar\":[{\"type\":\"scatterpolar\",\"marker\":{\"colorbar\":{\"outlinewidth\":0,\"ticks\":\"\"}}}],\"histogram\":[{\"marker\":{\"pattern\":{\"fillmode\":\"overlay\",\"size\":10,\"solidity\":0.2}},\"type\":\"histogram\"}],\"scattergl\":[{\"type\":\"scattergl\",\"marker\":{\"colorbar\":{\"outlinewidth\":0,\"ticks\":\"\"}}}],\"scatter3d\":[{\"type\":\"scatter3d\",\"line\":{\"colorbar\":{\"outlinewidth\":0,\"ticks\":\"\"}},\"marker\":{\"colorbar\":{\"outlinewidth\":0,\"ticks\":\"\"}}}],\"scattermapbox\":[{\"type\":\"scattermapbox\",\"marker\":{\"colorbar\":{\"outlinewidth\":0,\"ticks\":\"\"}}}],\"scatterternary\":[{\"type\":\"scatterternary\",\"marker\":{\"colorbar\":{\"outlinewidth\":0,\"ticks\":\"\"}}}],\"scattercarpet\":[{\"type\":\"scattercarpet\",\"marker\":{\"colorbar\":{\"outlinewidth\":0,\"ticks\":\"\"}}}],\"carpet\":[{\"aaxis\":{\"endlinecolor\":\"#2a3f5f\",\"gridcolor\":\"white\",\"linecolor\":\"white\",\"minorgridcolor\":\"white\",\"startlinecolor\":\"#2a3f5f\"},\"baxis\":{\"endlinecolor\":\"#2a3f5f\",\"gridcolor\":\"white\",\"linecolor\":\"white\",\"minorgridcolor\":\"white\",\"startlinecolor\":\"#2a3f5f\"},\"type\":\"carpet\"}],\"table\":[{\"cells\":{\"fill\":{\"color\":\"#EBF0F8\"},\"line\":{\"color\":\"white\"}},\"header\":{\"fill\":{\"color\":\"#C8D4E3\"},\"line\":{\"color\":\"white\"}},\"type\":\"table\"}],\"barpolar\":[{\"marker\":{\"line\":{\"color\":\"#E5ECF6\",\"width\":0.5},\"pattern\":{\"fillmode\":\"overlay\",\"size\":10,\"solidity\":0.2}},\"type\":\"barpolar\"}],\"pie\":[{\"automargin\":true,\"type\":\"pie\"}]},\"layout\":{\"autotypenumbers\":\"strict\",\"colorway\":[\"#636efa\",\"#EF553B\",\"#00cc96\",\"#ab63fa\",\"#FFA15A\",\"#19d3f3\",\"#FF6692\",\"#B6E880\",\"#FF97FF\",\"#FECB52\"],\"font\":{\"color\":\"#2a3f5f\"},\"hovermode\":\"closest\",\"hoverlabel\":{\"align\":\"left\"},\"paper_bgcolor\":\"white\",\"plot_bgcolor\":\"#E5ECF6\",\"polar\":{\"bgcolor\":\"#E5ECF6\",\"angularaxis\":{\"gridcolor\":\"white\",\"linecolor\":\"white\",\"ticks\":\"\"},\"radialaxis\":{\"gridcolor\":\"white\",\"linecolor\":\"white\",\"ticks\":\"\"}},\"ternary\":{\"bgcolor\":\"#E5ECF6\",\"aaxis\":{\"gridcolor\":\"white\",\"linecolor\":\"white\",\"ticks\":\"\"},\"baxis\":{\"gridcolor\":\"white\",\"linecolor\":\"white\",\"ticks\":\"\"},\"caxis\":{\"gridcolor\":\"white\",\"linecolor\":\"white\",\"ticks\":\"\"}},\"coloraxis\":{\"colorbar\":{\"outlinewidth\":0,\"ticks\":\"\"}},\"colorscale\":{\"sequential\":[[0.0,\"#0d0887\"],[0.1111111111111111,\"#46039f\"],[0.2222222222222222,\"#7201a8\"],[0.3333333333333333,\"#9c179e\"],[0.4444444444444444,\"#bd3786\"],[0.5555555555555556,\"#d8576b\"],[0.6666666666666666,\"#ed7953\"],[0.7777777777777778,\"#fb9f3a\"],[0.8888888888888888,\"#fdca26\"],[1.0,\"#f0f921\"]],\"sequentialminus\":[[0.0,\"#0d0887\"],[0.1111111111111111,\"#46039f\"],[0.2222222222222222,\"#7201a8\"],[0.3333333333333333,\"#9c179e\"],[0.4444444444444444,\"#bd3786\"],[0.5555555555555556,\"#d8576b\"],[0.6666666666666666,\"#ed7953\"],[0.7777777777777778,\"#fb9f3a\"],[0.8888888888888888,\"#fdca26\"],[1.0,\"#f0f921\"]],\"diverging\":[[0,\"#8e0152\"],[0.1,\"#c51b7d\"],[0.2,\"#de77ae\"],[0.3,\"#f1b6da\"],[0.4,\"#fde0ef\"],[0.5,\"#f7f7f7\"],[0.6,\"#e6f5d0\"],[0.7,\"#b8e186\"],[0.8,\"#7fbc41\"],[0.9,\"#4d9221\"],[1,\"#276419\"]]},\"xaxis\":{\"gridcolor\":\"white\",\"linecolor\":\"white\",\"ticks\":\"\",\"title\":{\"standoff\":15},\"zerolinecolor\":\"white\",\"automargin\":true,\"zerolinewidth\":2},\"yaxis\":{\"gridcolor\":\"white\",\"linecolor\":\"white\",\"ticks\":\"\",\"title\":{\"standoff\":15},\"zerolinecolor\":\"white\",\"automargin\":true,\"zerolinewidth\":2},\"scene\":{\"xaxis\":{\"backgroundcolor\":\"#E5ECF6\",\"gridcolor\":\"white\",\"linecolor\":\"white\",\"showbackground\":true,\"ticks\":\"\",\"zerolinecolor\":\"white\",\"gridwidth\":2},\"yaxis\":{\"backgroundcolor\":\"#E5ECF6\",\"gridcolor\":\"white\",\"linecolor\":\"white\",\"showbackground\":true,\"ticks\":\"\",\"zerolinecolor\":\"white\",\"gridwidth\":2},\"zaxis\":{\"backgroundcolor\":\"#E5ECF6\",\"gridcolor\":\"white\",\"linecolor\":\"white\",\"showbackground\":true,\"ticks\":\"\",\"zerolinecolor\":\"white\",\"gridwidth\":2}},\"shapedefaults\":{\"line\":{\"color\":\"#2a3f5f\"}},\"annotationdefaults\":{\"arrowcolor\":\"#2a3f5f\",\"arrowhead\":0,\"arrowwidth\":1},\"geo\":{\"bgcolor\":\"white\",\"landcolor\":\"#E5ECF6\",\"subunitcolor\":\"white\",\"showland\":true,\"showlakes\":true,\"lakecolor\":\"white\"},\"title\":{\"x\":0.05},\"mapbox\":{\"style\":\"light\"}}},\"xaxis\":{\"categoryorder\":\"total descending\",\"title\":{\"text\":\"Sector\"}},\"barmode\":\"stack\",\"title\":{\"text\":\"Crime Counts by Sector and Category\"},\"yaxis\":{\"title\":{\"text\":\"Crime Counts\"}},\"legend\":{\"title\":{\"text\":\"Category\"}},\"plot_bgcolor\":\"rgba(0,0,0,0)\",\"width\":2000,\"height\":1000},                        {\"responsive\": true}                    ).then(function(){\n",
              "                            \n",
              "var gd = document.getElementById('f68d9e29-b205-4c1c-a1fd-9a9979fd3332');\n",
              "var x = new MutationObserver(function (mutations, observer) {{\n",
              "        var display = window.getComputedStyle(gd).display;\n",
              "        if (!display || display === 'none') {{\n",
              "            console.log([gd, 'removed!']);\n",
              "            Plotly.purge(gd);\n",
              "            observer.disconnect();\n",
              "        }}\n",
              "}});\n",
              "\n",
              "// Listen for the removal of the full notebook cells\n",
              "var notebookContainer = gd.closest('#notebook-container');\n",
              "if (notebookContainer) {{\n",
              "    x.observe(notebookContainer, {childList: true});\n",
              "}}\n",
              "\n",
              "// Listen for the clearing of the current output cell\n",
              "var outputEl = gd.closest('.output');\n",
              "if (outputEl) {{\n",
              "    x.observe(outputEl, {childList: true});\n",
              "}}\n",
              "\n",
              "                        })                };                            </script>        </div>\n",
              "</body>\n",
              "</html>"
            ]
          },
          "metadata": {}
        }
      ]
    },
    {
      "cell_type": "markdown",
      "metadata": {
        "id": "trLwm_6iYHQf"
      },
      "source": [
        "From this charts, we can see that thw top 2 sectors ith most crimes are 'Centre' and 'Northwest', with 'Theft from auto' being the most current crime in both locations."
      ]
    },
    {
      "cell_type": "markdown",
      "metadata": {
        "id": "H7lG3PyIYHQf"
      },
      "source": [
        "Now I am going to plot an interactive geo spacial chart to see this in a more visual way"
      ]
    },
    {
      "cell_type": "markdown",
      "metadata": {
        "id": "8p1XSB0-YHQg"
      },
      "source": [
        "### Geo Spatial"
      ]
    },
    {
      "cell_type": "code",
      "execution_count": 84,
      "metadata": {
        "colab": {
          "base_uri": "https://localhost:8080/",
          "height": 1000
        },
        "id": "u1FiVF4VYHQg",
        "outputId": "f387636e-db13-4894-f8de-33a4f11df40f"
      },
      "outputs": [
        {
          "output_type": "display_data",
          "data": {
            "text/html": [
              "<html>\n",
              "<head><meta charset=\"utf-8\" /></head>\n",
              "<body>\n",
              "    <div>            <script src=\"https://cdnjs.cloudflare.com/ajax/libs/mathjax/2.7.5/MathJax.js?config=TeX-AMS-MML_SVG\"></script><script type=\"text/javascript\">if (window.MathJax && window.MathJax.Hub && window.MathJax.Hub.Config) {window.MathJax.Hub.Config({SVG: {font: \"STIX-Web\"}});}</script>                <script type=\"text/javascript\">window.PlotlyConfig = {MathJaxConfig: 'local'};</script>\n",
              "        <script charset=\"utf-8\" src=\"https://cdn.plot.ly/plotly-2.24.1.min.js\"></script>                <div id=\"9f8686b4-886d-4fc3-b2b0-ac8c6526fc15\" class=\"plotly-graph-div\" style=\"height:1000px; width:2000px;\"></div>            <script type=\"text/javascript\">                                    window.PLOTLYENV=window.PLOTLYENV || {};                                    if (document.getElementById(\"9f8686b4-886d-4fc3-b2b0-ac8c6526fc15\")) {                    Plotly.newPlot(                        \"9f8686b4-886d-4fc3-b2b0-ac8c6526fc15\",                        [{\"hovertemplate\":\"\\u003cb\\u003e%{hovertext}\\u003c\\u002fb\\u003e\\u003cbr\\u003e\\u003cbr\\u003eLatitude=%{lat}\\u003cbr\\u003eLongitude=%{lon}\\u003cbr\\u003eCrime Count=%{marker.color}\\u003cextra\\u003e\\u003c\\u002fextra\\u003e\",\"hovertext\":[\"01B\",\"01F\",\"01K\",\"02B\",\"02C\",\"02E\",\"02F\",\"02K\",\"03W\",\"05D\",\"05F\",\"06A\",\"06C\",\"09H\",\"09O\",\"09P\",\"09Q\",\"10D\",\"10E\",\"12A\",\"12B\",\"12C\",\"12J\",\"12K\",\"12L\",\"13A\",\"13E\",\"13F\",\"13G\",\"13M\",\"ABBEYDALE\",\"ACADIA\",\"ALBERT PARK\\u002fRADISSON HEIGHTS\",\"ALTADORE\",\"ALYTH\\u002fBONNYBROOK\",\"APPLEWOOD PARK\",\"ARBOUR LAKE\",\"ASPEN WOODS\",\"AUBURN BAY\",\"AURORA BUSINESS PARK\",\"BANFF TRAIL\",\"BANKVIEW\",\"BAYVIEW\",\"BEDDINGTON HEIGHTS\",\"BEL-AIRE\",\"BELMONT\",\"BELTLINE\",\"BELVEDERE\",\"BONAVISTA DOWNS\",\"BOWNESS\",\"BRAESIDE\",\"BRENTWOOD\",\"BRIDGELAND\\u002fRIVERSIDE\",\"BRIDLEWOOD\",\"BRITANNIA\",\"BURNS INDUSTRIAL\",\"CALGARY INTERNATIONAL AIRPORT\",\"CAMBRIAN HEIGHTS\",\"CANADA OLYMPIC PARK\",\"CANYON MEADOWS\",\"CAPITOL HILL\",\"CARRINGTON\",\"CASTLERIDGE\",\"CEDARBRAE\",\"CHAPARRAL\",\"CHARLESWOOD\",\"CHINATOWN\",\"CHINOOK PARK\",\"CHRISTIE PARK\",\"CITADEL\",\"CITYSCAPE\",\"CLIFF BUNGALOW\",\"COACH HILL\",\"COLLINGWOOD\",\"COPPERFIELD\",\"CORAL SPRINGS\",\"CORNERSTONE\",\"COUGAR RIDGE\",\"COUNTRY HILLS\",\"COUNTRY HILLS VILLAGE\",\"COVENTRY HILLS\",\"CRANSTON\",\"CRESCENT HEIGHTS\",\"CRESTMONT\",\"CURRIE BARRACKS\",\"DALHOUSIE\",\"DEER RIDGE\",\"DEER RUN\",\"DEERFOOT BUSINESS CENTRE\",\"DIAMOND COVE\",\"DISCOVERY RIDGE\",\"DOUGLASDALE\\u002fGLEN\",\"DOVER\",\"DOWNTOWN COMMERCIAL CORE\",\"DOWNTOWN EAST VILLAGE\",\"DOWNTOWN WEST END\",\"EAGLE RIDGE\",\"EAST FAIRVIEW INDUSTRIAL\",\"EAST SHEPARD INDUSTRIAL\",\"EASTFIELD\",\"EAU CLAIRE\",\"EDGEMONT\",\"ELBOW PARK\",\"ELBOYA\",\"ERIN WOODS\",\"ERLTON\",\"EVANSTON\",\"EVERGREEN\",\"FAIRVIEW\",\"FAIRVIEW INDUSTRIAL\",\"FALCONRIDGE\",\"FISH CREEK PARK\",\"FOOTHILLS\",\"FOREST HEIGHTS\",\"FOREST LAWN\",\"FOREST LAWN INDUSTRIAL\",\"FRANKLIN\",\"GARRISON GREEN\",\"GARRISON WOODS\",\"GLAMORGAN\",\"GLENBROOK\",\"GLENDALE\",\"GLENDEER BUSINESS PARK\",\"GLENMORE PARK\",\"GOLDEN TRIANGLE\",\"GREAT PLAINS\",\"GREENVIEW\",\"GREENVIEW INDUSTRIAL PARK\",\"GREENWOOD\\u002fGREENBRIAR\",\"HAMPTONS\",\"HARVEST HILLS\",\"HASKAYNE\",\"HAWKWOOD\",\"HAYSBORO\",\"HIDDEN VALLEY\",\"HIGHFIELD\",\"HIGHLAND PARK\",\"HIGHWOOD\",\"HILLHURST\",\"HOMESTEAD\",\"HORIZON\",\"HOTCHKISS\",\"HOUNSFIELD HEIGHTS\\u002fBRIAR HILL\",\"HUNTINGTON HILLS\",\"INGLEWOOD\",\"KELVIN GROVE\",\"KILLARNEY\\u002fGLENGARRY\",\"KINCORA\",\"KINGSLAND\",\"LAKE BONAVISTA\",\"LAKEVIEW\",\"LEGACY\",\"LINCOLN PARK\",\"LIVINGSTON\",\"LOWER MOUNT ROYAL\",\"MACEWAN GLEN\",\"MAHOGANY\",\"MANCHESTER\",\"MANCHESTER INDUSTRIAL\",\"MAPLE RIDGE\",\"MARLBOROUGH\",\"MARLBOROUGH PARK\",\"MARTINDALE\",\"MAYFAIR\",\"MAYLAND\",\"MAYLAND HEIGHTS\",\"MCCALL\",\"MCKENZIE LAKE\",\"MCKENZIE TOWNE\",\"MEADOWLARK PARK\",\"MEDICINE HILL\",\"MERIDIAN\",\"MIDNAPORE\",\"MILLRISE\",\"MISSION\",\"MONTEREY PARK\",\"MONTGOMERY\",\"MOUNT PLEASANT\",\"NEW BRIGHTON\",\"NOLAN HILL\",\"NORTH AIRWAYS\",\"NORTH GLENMORE PARK\",\"NORTH HAVEN\",\"NORTH HAVEN UPPER\",\"NOSE HILL PARK\",\"OAKRIDGE\",\"OGDEN\",\"OGDEN SHOPS\",\"PALLISER\",\"PANORAMA HILLS\",\"PARKDALE\",\"PARKHILL\",\"PARKLAND\",\"PATTERSON\",\"PEGASUS\",\"PENBROOKE MEADOWS\",\"PINE CREEK\",\"PINERIDGE\",\"POINT MCKAY\",\"PUMP HILL\",\"QUEENS PARK VILLAGE\",\"QUEENSLAND\",\"RAMSAY\",\"RANCHLANDS\",\"RANGEVIEW\",\"RED CARPET\",\"REDSTONE\",\"RENFREW\",\"RICHMOND\",\"RIDEAU PARK\",\"RIVERBEND\",\"ROCKY RIDGE\",\"ROSEDALE\",\"ROSEMONT\",\"ROSSCARROCK\",\"ROXBORO\",\"ROYAL OAK\",\"ROYAL VISTA\",\"RUNDLE\",\"RUTLAND PARK\",\"SADDLE RIDGE\",\"SADDLE RIDGE INDUSTRIAL\",\"SAGE HILL\",\"SANDSTONE VALLEY\",\"SCARBORO\",\"SCARBORO\\u002f SUNALTA WEST\",\"SCENIC ACRES\",\"SECTION 23\",\"SETON\",\"SHAGANAPPI\",\"SHAWNEE SLOPES\",\"SHAWNESSY\",\"SHEPARD INDUSTRIAL\",\"SHERWOOD\",\"SIGNAL HILL\",\"SILVER SPRINGS\",\"SILVERADO\",\"SKYLINE EAST\",\"SKYLINE WEST\",\"SKYVIEW RANCH\",\"SOMERSET\",\"SOUTH AIRWAYS\",\"SOUTH CALGARY\",\"SOUTH FOOTHILLS\",\"SOUTHVIEW\",\"SOUTHWOOD\",\"SPRINGBANK HILL\",\"SPRUCE CLIFF\",\"ST. ANDREWS HEIGHTS\",\"STARFIELD\",\"STONEGATE LANDING\",\"STONEY 1\",\"STONEY 2\",\"STONEY 3\",\"STONEY 4\",\"STRATHCONA PARK\",\"SUNALTA\",\"SUNDANCE\",\"SUNNYSIDE\",\"SUNRIDGE\",\"TARADALE\",\"TEMPLE\",\"THORNCLIFFE\",\"TUSCANY\",\"TUXEDO PARK\",\"UNIVERSITY DISTRICT\",\"UNIVERSITY HEIGHTS\",\"UNIVERSITY OF CALGARY\",\"UPPER MOUNT ROYAL\",\"VALLEY RIDGE\",\"VALLEYFIELD\",\"VARSITY\",\"VISTA HEIGHTS\",\"WALDEN\",\"WEST HILLHURST\",\"WEST SPRINGS\",\"WESTGATE\",\"WESTWINDS\",\"WHITEHORN\",\"WILDWOOD\",\"WILLOW PARK\",\"WINDSOR PARK\",\"WINSTON HEIGHTS\\u002fMOUNTVIEW\",\"WOLF WILLOW\",\"WOODBINE\",\"WOODLANDS\",\"YORKVILLE\"],\"lat\":[51.10282600762854,51.11734815371878,51.16872429008923,51.1760213513024,51.175901183468724,51.1614306187993,51.1597635370127,51.19055262524679,51.197967711164964,51.179594126023254,51.147035235570414,51.05901467759118,51.08429730555001,51.00636522980599,51.05257108080651,51.02684760243017,51.026252049821956,51.103350599050756,51.081453566081535,50.96505615111287,50.93922077318547,50.925106282431614,50.88358305143726,50.975824539924844,50.914350106443706,50.914133045147565,50.8993917852468,50.89941005804681,50.8958227049736,50.85623560571985,51.05941500696419,50.97241507334731,51.044532952523866,51.015954118298694,51.02285923852866,51.0448748321394,51.1325947114686,51.04519167765947,50.89270203779492,51.136262432235235,51.07421633024228,51.0341275275111,50.97463475577881,51.13164398532214,50.99944254944499,50.86872241539765,51.037437963359764,51.037827470246434,50.94373042986891,51.0833462877166,50.95600269125181,51.096065536203874,51.05055069436678,50.89924691819346,51.01264400380039,50.99870693503925,51.123556453987604,51.08433917204962,51.08123298660904,50.94095720863543,51.07266527843247,51.18568826121794,51.105254134534725,50.958199454986094,50.88467246113951,51.090088050163416,51.05282359454732,50.98322809371844,51.04079952918998,51.14453875913651,51.14703155696725,51.033933194742325,51.05838582508582,51.08350990566399,50.91781309734389,51.103352770689,51.157359967042765,51.0718808513961,51.1437756831102,51.158203848304325,51.16490633029946,50.87819972206263,51.05949594683074,51.083702771535876,51.01572348884976,51.109409937360724,50.926573869162,50.92540672204504,51.11209775483432,50.94621275230468,51.01566153397868,50.94844437195182,51.02256772250409,51.047274435217574,51.04709033069666,51.047969140191825,50.988744274044464,50.98403287936156,50.95130983742685,51.01194930387265,51.053606993489936,51.12458784624158,51.02134304173559,51.012993345448066,51.0209762755992,51.026333793586,51.171085356450234,50.91871688494811,50.985382121323525,50.987010064019884,51.10330638378534,50.90960459313166,50.99396302917181,51.049243148110726,51.03784804797574,51.02709477694866,51.058927589452686,51.003055154177616,51.01717823051979,51.0154042701951,51.02419405241394,51.033371391768654,50.9900931253413,50.99046841956801,51.01339075567755,50.98689494676143,51.09485613506574,51.08651820065337,51.08986537100539,51.14509283969437,51.14767758603047,51.11697203613649,51.13097810152047,50.972214842335006,51.15193708420534,51.01852460881388,51.088018178558066,51.092359423036356,51.05727753172276,51.121629709124846,51.08990091526667,50.91420100643065,51.06317953856462,51.11758229183931,51.034140523504476,50.989881144871724,51.03013195588548,51.16026670748173,50.98697674970066,50.939803390308995,50.99957240837904,50.85761440424294,51.01027374327917,51.185504064958366,51.0365031977319,51.13771903639299,50.89588555708811,51.00624267544188,51.013255989792455,50.957637582999936,51.05954228117922,51.059688495333184,51.11791372594209,50.9958120430023,51.05239255688014,51.0608334639511,51.08899753775383,50.91487440011554,50.91714622424966,50.997857843950264,51.07918367485378,51.0565835816587,50.915593553179335,50.91704529217144,51.03315775861924,51.08145439005355,51.071076143066776,51.074237908423605,50.92206464811321,51.175293692964885,51.08713865081421,51.00142837215398,51.095941551559434,51.10440179087063,51.11127714093448,50.96966279895669,50.991878337981746,50.99108924416474,50.96676703111173,51.15971101107547,51.05994755064559,51.018192290150814,50.92120040109183,51.06393987638284,51.09447884904051,51.04585328763989,50.85626936158896,51.074259757631374,51.05954116603247,50.966827701378456,51.08514445824785,50.938224120412734,51.03641206367581,51.11917908233608,50.87437929445921,51.04258062657982,51.170446168252354,51.059653157676735,51.02971029482691,51.02487576913786,50.976018859070834,51.14407647895953,51.062686663226856,51.078394197521575,51.04328787137517,51.02619585231578,51.142660730912894,51.149421809959804,51.074239973666835,51.018990986828264,51.13057324213389,51.125189506147144,51.175616972779984,51.1377328448926,51.04076552661671,51.042200316401306,51.11270750759221,50.97092731249437,50.87413786105747,51.04521136346261,50.92618889834688,50.90337065586358,50.96149445512731,51.159990919144846,51.023013957074795,51.10427454305881,50.88298879992247,51.100152612629664,51.103332199733316,51.15612673497898,50.89891142227545,51.0742191886852,51.02680215136445,50.97124216017267,51.03415221260387,50.957758807711244,51.026602437834555,51.048659707650735,51.06391055940229,51.00485589414011,51.16446858199437,51.16118788060755,51.14338378225708,51.14703268582613,51.17620448471432,51.047410137464645,51.04295989234576,50.90164564994187,51.05641953275016,51.074221599518935,51.11794016304313,51.08879458506016,51.10310302976012,51.12191108762252,51.07421777158121,51.07385411760001,51.07040418011127,51.075020786453926,51.02997367628775,51.095388615664305,51.009084099675064,51.096053770173505,51.07193318391342,50.870406291791525,51.05507951363527,51.05977978013603,51.044177846119624,51.10339241438977,51.088779871474486,51.05825824761795,50.95662379617276,51.00504544398754,51.07529880217513,50.870710533378784,50.94023326198639,50.94112397805165,50.870356694433404],\"legendgroup\":\"\",\"lon\":[-114.24261426059833,-114.2611864663544,-114.22271630893266,-114.19939956642429,-114.17664928905774,-114.19943706682423,-114.17512030034136,-114.19945286812306,-114.0262426340911,-113.95866084614936,-113.91649823812915,-114.22966502126448,-114.22745425562907,-114.01538929528147,-113.87710694134275,-113.88876476378506,-113.93396103455751,-113.91603045928909,-113.91623374150298,-113.89323152147792,-113.8986612080914,-113.90342610328828,-113.88348471893552,-113.91291790161674,-113.87152264476616,-114.1981928602642,-114.19822810239104,-114.17505002464321,-114.14347009888938,-114.04275071508103,-113.92780385615137,-114.05369601618155,-113.9967779352673,-114.10078239468565,-114.02248221491362,-113.92781025877834,-114.20767498075155,-114.20797769742218,-113.9578101488218,-114.05847554152582,-114.11512839716917,-114.10048318978971,-114.11396431346715,-114.08491114080482,-114.08893425156596,-114.05528001525202,-114.05518608886146,-113.9049830348633,-114.03150547303466,-114.18838847472048,-114.10636590290262,-114.1359191739885,-114.03507983816583,-114.11022194804715,-114.08627738153702,-114.03966866537291,-114.01171665690258,-114.08937896523537,-114.21670015081224,-114.08200634588414,-114.09463117970881,-114.08876544116907,-113.96102973195798,-114.12962160153805,-114.02566876175794,-114.1122123154022,-114.06552190579208,-114.0889939534622,-114.17601756827449,-114.18393693294375,-113.96125803148381,-114.07490165596653,-114.18297960518734,-114.1024036222742,-113.92946741896215,-113.92694848647866,-113.93057052562796,-114.2091625968558,-114.0798937747985,-114.06139543185002,-114.05314340697439,-113.97999557792768,-114.06161323521818,-114.26905946198636,-114.1248177444654,-114.15815535928421,-114.02023404987288,-114.00908770459678,-114.0383269425689,-114.02265590844065,-114.21710362789646,-114.01190805579242,-113.99305400906283,-114.06959371115288,-114.05084794560608,-114.08777935920926,-114.09679322093368,-114.03863977769701,-113.9509699643221,-113.97004371849067,-114.07282181932268,-114.14395321026961,-114.083805311106,-114.07360459021476,-113.96766881721656,-114.06314648304446,-114.11245112799257,-114.1156755778959,-114.06036094398164,-114.06878074585325,-113.94537499024918,-114.02652359670793,-113.98203822530505,-113.96875793277411,-113.97000191799683,-113.95696985982971,-113.98752400359126,-114.12452628199492,-114.11361449884893,-114.15322753874968,-114.15269483793375,-114.15271889005692,-114.03196872405518,-114.13153370711461,-113.9853085392185,-113.9399030804802,-114.05746990262463,-114.04905866998868,-114.22297068115356,-114.14668419231347,-114.05277797732376,-114.2866952846797,-114.17561536315762,-114.08334023954198,-114.11960923256242,-114.037193826917,-114.0620558477431,-114.07989112691597,-114.09364601408916,-113.91650032535958,-113.99169780219123,-113.8962748920383,-114.10572976665989,-114.06670944395931,-114.01912581291103,-114.08902826660753,-114.13173134426289,-114.13286512975175,-114.07735883671273,-114.05133665127042,-114.1296213924465,-114.00599781298918,-114.12999189961174,-114.06550670687392,-114.08649939756594,-114.11521349389004,-113.92455389137416,-114.0666537824219,-114.05722246720464,-114.0346890274,-113.96998768840771,-113.94671708302872,-113.9583871171306,-114.08895573448329,-114.01030237788878,-114.01331470323042,-114.02708667609807,-113.98818319020536,-113.96143747927303,-114.07735167071722,-114.20014671121054,-113.99651752174083,-114.05760395145887,-114.08490366384473,-114.06808259035802,-113.92685104381658,-114.16224821352257,-114.07602998447108,-113.94524646254676,-114.1663172033934,-114.00752398291431,-114.11225607544628,-114.08942057511393,-114.08535430355379,-114.11069096474999,-114.12961375709601,-114.01244227109757,-113.99316026930774,-114.11215889038718,-114.08806340626337,-114.13533325689279,-114.06553452471233,-114.02854335688808,-114.1771423135999,-114.00648886102513,-113.94768720611339,-114.06787772053065,-113.94676495577161,-114.14614868218266,-114.10078728034952,-114.0776067500382,-114.0225717060612,-114.04253229079222,-114.1836469813454,-113.9197443693882,-113.93892582460018,-113.95750282716884,-114.03916899334408,-114.11842028929458,-114.07416183074736,-114.01843029189821,-114.24590791801509,-114.07820713414624,-114.09003307555233,-114.1454859092963,-114.06764480275648,-114.21976187387784,-114.20423704320459,-113.97005811864892,-114.13736058542634,-113.94562252266931,-113.97572968236095,-114.14068609335015,-114.09496250976525,-114.10717977139831,-114.11488200443591,-114.2173409568748,-113.94813250933105,-113.94791315312588,-114.12665233527957,-114.08580303773778,-114.07392552001497,-113.99278635609633,-114.1520001467928,-114.1799070291585,-114.19628181361762,-114.07129778862543,-114.03893128621466,-114.04740128490002,-113.95837456074635,-114.08138084069279,-114.0052956757618,-114.10207470148995,-113.97367259111124,-113.99733916298928,-114.08319427981235,-114.20885770724253,-114.13627783911859,-114.12743730040928,-113.94002380686328,-113.98668274803757,-114.02469848732257,-114.01721821479654,-113.97583513108833,-114.0027575486726,-114.17758676157283,-114.10148594325165,-114.04206714385867,-114.07902910930551,-113.99170056999279,-113.93400207797252,-113.94676773665904,-114.06878043292588,-114.24088620535427,-114.06104493215598,-114.14496478086903,-114.13308657031214,-114.12993378392255,-114.0850256868341,-114.25129737820474,-114.00188586057929,-114.1625067595007,-114.01770522719029,-114.03261949596039,-114.11515850909333,-114.20633960635404,-114.15859390257255,-113.97005363203272,-113.9700681964178,-114.15853861691606,-114.0561955045225,-114.08355224178209,-114.04184874950579,-114.00862958290263,-114.1296281727553,-114.1061595815691,-114.08234638755263],\"marker\":{\"color\":[25,11,73,3,19,415,22,4,15,20,2,10,2,7,92,12,50,18,107,317,23,6,83,2,29,2,1,26,18,7,665,1860,1923,1019,555,671,1303,514,924,99,1267,1433,97,1170,54,27,9471,153,59,2429,520,1444,2035,547,132,417,957,278,42,853,1299,125,884,455,524,405,425,185,189,375,262,901,231,320,691,450,425,334,301,572,1018,885,2114,108,36,994,364,265,302,50,223,896,2113,6876,1870,596,227,467,979,244,546,783,443,351,965,338,666,727,621,614,1952,109,1538,1271,2996,556,958,145,125,829,877,529,57,203,164,296,435,895,82,299,718,23,466,1422,597,764,1060,496,1996,17,1222,12,1030,1874,1098,344,1475,370,1309,1146,505,477,308,169,1019,264,630,649,2315,214,2210,1416,1760,54,367,1223,461,698,1283,907,23,873,647,489,1322,858,1409,1447,611,332,584,385,220,44,170,420,1280,42,330,1257,397,521,207,332,139,1511,28,2029,108,138,66,340,444,567,31,239,427,1561,1016,97,694,342,259,183,1111,54,508,171,2029,321,1946,284,632,329,184,59,503,115,562,442,291,1274,499,431,1205,696,354,123,218,1207,601,974,1104,348,734,1359,559,502,570,207,132,187,710,206,99,373,1329,521,1127,2094,1511,1677,1417,800,1586,180,416,142,404,281,318,1770,569,364,1210,580,300,1101,1626,317,1109,1052,972,21,540,583,25],\"coloraxis\":\"coloraxis\",\"colorscale\":[[0.0,\"#440154\"],[0.1111111111111111,\"#482878\"],[0.2222222222222222,\"#3e4989\"],[0.3333333333333333,\"#31688e\"],[0.4444444444444444,\"#26828e\"],[0.5555555555555556,\"#1f9e89\"],[0.6666666666666666,\"#35b779\"],[0.7777777777777778,\"#6ece58\"],[0.8888888888888888,\"#b5de2b\"],[1.0,\"#fde725\"]],\"showscale\":true,\"size\":[0.15837820715869497,0.06968641114982578,0.46246436490338927,0.019005384859043396,0.12036743744060817,2.6290782388343366,0.13937282229965156,0.025340513145391194,0.09502692429521697,0.12670256572695598,0.012670256572695597,0.06335128286347799,0.012670256572695597,0.044345898004434586,0.5828318023439975,0.07602153943617358,0.31675641431738993,0.11403230915426038,0.6778587266392145,2.0082356667722525,0.14570795058599936,0.03801076971808679,0.5258156477668673,0.012670256572695597,0.18371872030408615,0.012670256572695597,0.0063351282863477985,0.16471333544504277,0.11403230915426038,0.044345898004434586,4.212860310421286,11.783338612606904,12.182451694646817,6.455495723788407,3.515996198923028,4.2508710801393725,8.254672157111182,3.2562559391827683,5.853658536585366,0.6271777003484321,8.026607538802661,9.078238834336396,0.6145074437757365,7.412100095026924,0.34209692746278114,0.17104846373139057,60.0,0.9692746278112131,0.3737725688945201,15.388026607538803,3.2942667089008553,9.14792524548622,12.89198606271777,3.4653151726322458,0.8362369337979094,2.641748495407032,6.062717770034843,1.7611656636046882,0.2660753880266075,5.403864428254672,8.229331643965791,0.7918910357934749,5.600253405131454,2.882483370288248,3.3196072220462467,2.5657269559708586,2.6924295216978145,1.1719987329743426,1.1973392461197339,2.3756731073804245,1.6598036110231233,5.707950585999367,1.4634146341463414,2.0272410516312958,4.377573645866328,2.850807728856509,2.6924295216978145,2.1159328476401646,1.9068736141906875,3.623693379790941,6.449160595502059,5.606588533417802,13.392461197339246,0.6841938549255623,0.22806461830852076,6.2971175166297115,2.305986696230599,1.6788089958821666,1.9132087424770352,0.31675641431738993,1.412733607855559,5.676274944567627,13.386126069052898,43.560342096927464,11.846689895470382,3.7757364586632876,1.4380741210009502,2.9585049097244216,6.2020905923344944,1.5457713018688628,3.458980044345898,4.960405448210326,2.806461830852075,2.2236300285080772,6.113398796325625,2.1412733607855556,4.219195438707634,4.605638264174849,3.934114665821983,3.889768767817548,12.366170414950902,0.6905289832119101,9.743427304402914,8.051948051948052,18.980044345898005,3.5223313272093764,6.069052898321191,0.9185936015204308,0.7918910357934749,5.251821349382325,5.55590750712702,3.3512828634779854,0.3611023123218245,1.2860310421286032,1.0389610389610389,1.8751979727589483,2.7557808045612924,5.66993981628128,0.5194805194805194,1.8942033576179915,4.548622109597719,0.14570795058599936,2.952169781438074,9.008552423186568,3.7820715869496353,4.840038010769718,6.715235983528666,3.142223630028508,12.644916059550205,0.10769718086791258,7.741526765917009,0.07602153943617358,6.525182134938232,11.872030408615775,6.955970858409883,2.1792841305036426,9.344314222363003,2.3439974659486853,8.292682926829269,7.260057016154578,3.199239784605638,3.0218561925879,1.9512195121951221,1.0706366803927778,6.455495723788407,1.6724738675958188,3.9911308203991127,4.111498257839721,14.665821982895153,1.355717453278429,14.000633512828635,8.970541653468482,11.149825783972126,0.34209692746278114,2.324992081089642,7.747861894203357,2.920494140006335,4.4219195438707635,8.127969591384225,5.745961355717453,0.14570795058599936,5.530566993981629,4.098828001267025,3.0978777320240733,8.375039594551788,5.435540069686412,8.926195755464049,9.166930630345265,3.8707633829585046,2.103262591067469,3.699714919227114,2.4390243902439024,1.3937282229965158,0.2787456445993031,1.0769718086791258,2.6607538802660757,8.108964206525183,0.2660753880266075,2.090592334494773,7.963256255939182,2.5150459296800762,3.300601837187203,1.3113715552739944,2.103262591067469,0.8805828318023441,9.572378840671524,0.17738359201773835,12.853975292999683,0.6841938549255623,0.8742477035159962,0.4181184668989547,2.1539436173582516,2.8127969591384225,3.592017738359202,0.19638897687678175,1.5140956604371238,2.70509977827051,9.889135254988913,6.436490338929364,0.6145074437757365,4.396579030725372,2.166613873930947,1.6407982261640799,1.1593284764016472,7.038327526132404,0.34209692746278114,3.218245169464682,1.0833069369654735,12.853975292999683,2.0335761799176435,12.328159645232816,1.7991764333227749,4.0038010769718095,2.0842572062084255,1.165663604687995,0.3737725688945201,3.1865695280329427,0.7285397529299968,3.560342096927463,2.800126702565727,1.8435223313272093,8.070953436807095,3.1612290148875513,2.7304402914159014,7.633829585049098,4.409249287298068,2.2426354133671205,0.7792207792207793,1.3810579664238203,7.646499841621793,3.807412100095027,6.170414950902756,6.99398162812797,2.204624643649034,4.649984162179284,8.609439341146658,3.5413367120684196,3.180234399746595,3.6110231232182453,1.3113715552739944,0.8362369337979094,1.1846689895470384,4.497941083306936,1.3050364269876467,0.6271777003484321,2.363002850807729,8.419385492556225,3.300601837187203,7.139689578713969,13.26575863161229,9.572378840671524,10.624010136205257,8.97687678175483,5.068102629078239,10.04751346214761,1.1403230915426037,2.6354133671206843,0.8995882166613874,2.559391827684511,1.7801710484637314,2.0145707950586003,11.213177066835604,3.6046879949318975,2.305986696230599,7.665505226480836,3.674374406081723,1.9005384859043397,6.974976243268927,10.300918593601521,2.0082356667722525,7.025657269559709,6.664554957237884,6.15774469433006,0.13303769401330376,3.4209692746278115,3.6933797909407664,0.15837820715869497]},\"mode\":\"markers\",\"name\":\"\",\"showlegend\":false,\"subplot\":\"mapbox\",\"type\":\"scattermapbox\"}],                        {\"template\":{\"data\":{\"histogram2dcontour\":[{\"type\":\"histogram2dcontour\",\"colorbar\":{\"outlinewidth\":0,\"ticks\":\"\"},\"colorscale\":[[0.0,\"#0d0887\"],[0.1111111111111111,\"#46039f\"],[0.2222222222222222,\"#7201a8\"],[0.3333333333333333,\"#9c179e\"],[0.4444444444444444,\"#bd3786\"],[0.5555555555555556,\"#d8576b\"],[0.6666666666666666,\"#ed7953\"],[0.7777777777777778,\"#fb9f3a\"],[0.8888888888888888,\"#fdca26\"],[1.0,\"#f0f921\"]]}],\"choropleth\":[{\"type\":\"choropleth\",\"colorbar\":{\"outlinewidth\":0,\"ticks\":\"\"}}],\"histogram2d\":[{\"type\":\"histogram2d\",\"colorbar\":{\"outlinewidth\":0,\"ticks\":\"\"},\"colorscale\":[[0.0,\"#0d0887\"],[0.1111111111111111,\"#46039f\"],[0.2222222222222222,\"#7201a8\"],[0.3333333333333333,\"#9c179e\"],[0.4444444444444444,\"#bd3786\"],[0.5555555555555556,\"#d8576b\"],[0.6666666666666666,\"#ed7953\"],[0.7777777777777778,\"#fb9f3a\"],[0.8888888888888888,\"#fdca26\"],[1.0,\"#f0f921\"]]}],\"heatmap\":[{\"type\":\"heatmap\",\"colorbar\":{\"outlinewidth\":0,\"ticks\":\"\"},\"colorscale\":[[0.0,\"#0d0887\"],[0.1111111111111111,\"#46039f\"],[0.2222222222222222,\"#7201a8\"],[0.3333333333333333,\"#9c179e\"],[0.4444444444444444,\"#bd3786\"],[0.5555555555555556,\"#d8576b\"],[0.6666666666666666,\"#ed7953\"],[0.7777777777777778,\"#fb9f3a\"],[0.8888888888888888,\"#fdca26\"],[1.0,\"#f0f921\"]]}],\"heatmapgl\":[{\"type\":\"heatmapgl\",\"colorbar\":{\"outlinewidth\":0,\"ticks\":\"\"},\"colorscale\":[[0.0,\"#0d0887\"],[0.1111111111111111,\"#46039f\"],[0.2222222222222222,\"#7201a8\"],[0.3333333333333333,\"#9c179e\"],[0.4444444444444444,\"#bd3786\"],[0.5555555555555556,\"#d8576b\"],[0.6666666666666666,\"#ed7953\"],[0.7777777777777778,\"#fb9f3a\"],[0.8888888888888888,\"#fdca26\"],[1.0,\"#f0f921\"]]}],\"contourcarpet\":[{\"type\":\"contourcarpet\",\"colorbar\":{\"outlinewidth\":0,\"ticks\":\"\"}}],\"contour\":[{\"type\":\"contour\",\"colorbar\":{\"outlinewidth\":0,\"ticks\":\"\"},\"colorscale\":[[0.0,\"#0d0887\"],[0.1111111111111111,\"#46039f\"],[0.2222222222222222,\"#7201a8\"],[0.3333333333333333,\"#9c179e\"],[0.4444444444444444,\"#bd3786\"],[0.5555555555555556,\"#d8576b\"],[0.6666666666666666,\"#ed7953\"],[0.7777777777777778,\"#fb9f3a\"],[0.8888888888888888,\"#fdca26\"],[1.0,\"#f0f921\"]]}],\"surface\":[{\"type\":\"surface\",\"colorbar\":{\"outlinewidth\":0,\"ticks\":\"\"},\"colorscale\":[[0.0,\"#0d0887\"],[0.1111111111111111,\"#46039f\"],[0.2222222222222222,\"#7201a8\"],[0.3333333333333333,\"#9c179e\"],[0.4444444444444444,\"#bd3786\"],[0.5555555555555556,\"#d8576b\"],[0.6666666666666666,\"#ed7953\"],[0.7777777777777778,\"#fb9f3a\"],[0.8888888888888888,\"#fdca26\"],[1.0,\"#f0f921\"]]}],\"mesh3d\":[{\"type\":\"mesh3d\",\"colorbar\":{\"outlinewidth\":0,\"ticks\":\"\"}}],\"scatter\":[{\"fillpattern\":{\"fillmode\":\"overlay\",\"size\":10,\"solidity\":0.2},\"type\":\"scatter\"}],\"parcoords\":[{\"type\":\"parcoords\",\"line\":{\"colorbar\":{\"outlinewidth\":0,\"ticks\":\"\"}}}],\"scatterpolargl\":[{\"type\":\"scatterpolargl\",\"marker\":{\"colorbar\":{\"outlinewidth\":0,\"ticks\":\"\"}}}],\"bar\":[{\"error_x\":{\"color\":\"#2a3f5f\"},\"error_y\":{\"color\":\"#2a3f5f\"},\"marker\":{\"line\":{\"color\":\"#E5ECF6\",\"width\":0.5},\"pattern\":{\"fillmode\":\"overlay\",\"size\":10,\"solidity\":0.2}},\"type\":\"bar\"}],\"scattergeo\":[{\"type\":\"scattergeo\",\"marker\":{\"colorbar\":{\"outlinewidth\":0,\"ticks\":\"\"}}}],\"scatterpolar\":[{\"type\":\"scatterpolar\",\"marker\":{\"colorbar\":{\"outlinewidth\":0,\"ticks\":\"\"}}}],\"histogram\":[{\"marker\":{\"pattern\":{\"fillmode\":\"overlay\",\"size\":10,\"solidity\":0.2}},\"type\":\"histogram\"}],\"scattergl\":[{\"type\":\"scattergl\",\"marker\":{\"colorbar\":{\"outlinewidth\":0,\"ticks\":\"\"}}}],\"scatter3d\":[{\"type\":\"scatter3d\",\"line\":{\"colorbar\":{\"outlinewidth\":0,\"ticks\":\"\"}},\"marker\":{\"colorbar\":{\"outlinewidth\":0,\"ticks\":\"\"}}}],\"scattermapbox\":[{\"type\":\"scattermapbox\",\"marker\":{\"colorbar\":{\"outlinewidth\":0,\"ticks\":\"\"}}}],\"scatterternary\":[{\"type\":\"scatterternary\",\"marker\":{\"colorbar\":{\"outlinewidth\":0,\"ticks\":\"\"}}}],\"scattercarpet\":[{\"type\":\"scattercarpet\",\"marker\":{\"colorbar\":{\"outlinewidth\":0,\"ticks\":\"\"}}}],\"carpet\":[{\"aaxis\":{\"endlinecolor\":\"#2a3f5f\",\"gridcolor\":\"white\",\"linecolor\":\"white\",\"minorgridcolor\":\"white\",\"startlinecolor\":\"#2a3f5f\"},\"baxis\":{\"endlinecolor\":\"#2a3f5f\",\"gridcolor\":\"white\",\"linecolor\":\"white\",\"minorgridcolor\":\"white\",\"startlinecolor\":\"#2a3f5f\"},\"type\":\"carpet\"}],\"table\":[{\"cells\":{\"fill\":{\"color\":\"#EBF0F8\"},\"line\":{\"color\":\"white\"}},\"header\":{\"fill\":{\"color\":\"#C8D4E3\"},\"line\":{\"color\":\"white\"}},\"type\":\"table\"}],\"barpolar\":[{\"marker\":{\"line\":{\"color\":\"#E5ECF6\",\"width\":0.5},\"pattern\":{\"fillmode\":\"overlay\",\"size\":10,\"solidity\":0.2}},\"type\":\"barpolar\"}],\"pie\":[{\"automargin\":true,\"type\":\"pie\"}]},\"layout\":{\"autotypenumbers\":\"strict\",\"colorway\":[\"#636efa\",\"#EF553B\",\"#00cc96\",\"#ab63fa\",\"#FFA15A\",\"#19d3f3\",\"#FF6692\",\"#B6E880\",\"#FF97FF\",\"#FECB52\"],\"font\":{\"color\":\"#2a3f5f\"},\"hovermode\":\"closest\",\"hoverlabel\":{\"align\":\"left\"},\"paper_bgcolor\":\"white\",\"plot_bgcolor\":\"#E5ECF6\",\"polar\":{\"bgcolor\":\"#E5ECF6\",\"angularaxis\":{\"gridcolor\":\"white\",\"linecolor\":\"white\",\"ticks\":\"\"},\"radialaxis\":{\"gridcolor\":\"white\",\"linecolor\":\"white\",\"ticks\":\"\"}},\"ternary\":{\"bgcolor\":\"#E5ECF6\",\"aaxis\":{\"gridcolor\":\"white\",\"linecolor\":\"white\",\"ticks\":\"\"},\"baxis\":{\"gridcolor\":\"white\",\"linecolor\":\"white\",\"ticks\":\"\"},\"caxis\":{\"gridcolor\":\"white\",\"linecolor\":\"white\",\"ticks\":\"\"}},\"coloraxis\":{\"colorbar\":{\"outlinewidth\":0,\"ticks\":\"\"}},\"colorscale\":{\"sequential\":[[0.0,\"#0d0887\"],[0.1111111111111111,\"#46039f\"],[0.2222222222222222,\"#7201a8\"],[0.3333333333333333,\"#9c179e\"],[0.4444444444444444,\"#bd3786\"],[0.5555555555555556,\"#d8576b\"],[0.6666666666666666,\"#ed7953\"],[0.7777777777777778,\"#fb9f3a\"],[0.8888888888888888,\"#fdca26\"],[1.0,\"#f0f921\"]],\"sequentialminus\":[[0.0,\"#0d0887\"],[0.1111111111111111,\"#46039f\"],[0.2222222222222222,\"#7201a8\"],[0.3333333333333333,\"#9c179e\"],[0.4444444444444444,\"#bd3786\"],[0.5555555555555556,\"#d8576b\"],[0.6666666666666666,\"#ed7953\"],[0.7777777777777778,\"#fb9f3a\"],[0.8888888888888888,\"#fdca26\"],[1.0,\"#f0f921\"]],\"diverging\":[[0,\"#8e0152\"],[0.1,\"#c51b7d\"],[0.2,\"#de77ae\"],[0.3,\"#f1b6da\"],[0.4,\"#fde0ef\"],[0.5,\"#f7f7f7\"],[0.6,\"#e6f5d0\"],[0.7,\"#b8e186\"],[0.8,\"#7fbc41\"],[0.9,\"#4d9221\"],[1,\"#276419\"]]},\"xaxis\":{\"gridcolor\":\"white\",\"linecolor\":\"white\",\"ticks\":\"\",\"title\":{\"standoff\":15},\"zerolinecolor\":\"white\",\"automargin\":true,\"zerolinewidth\":2},\"yaxis\":{\"gridcolor\":\"white\",\"linecolor\":\"white\",\"ticks\":\"\",\"title\":{\"standoff\":15},\"zerolinecolor\":\"white\",\"automargin\":true,\"zerolinewidth\":2},\"scene\":{\"xaxis\":{\"backgroundcolor\":\"#E5ECF6\",\"gridcolor\":\"white\",\"linecolor\":\"white\",\"showbackground\":true,\"ticks\":\"\",\"zerolinecolor\":\"white\",\"gridwidth\":2},\"yaxis\":{\"backgroundcolor\":\"#E5ECF6\",\"gridcolor\":\"white\",\"linecolor\":\"white\",\"showbackground\":true,\"ticks\":\"\",\"zerolinecolor\":\"white\",\"gridwidth\":2},\"zaxis\":{\"backgroundcolor\":\"#E5ECF6\",\"gridcolor\":\"white\",\"linecolor\":\"white\",\"showbackground\":true,\"ticks\":\"\",\"zerolinecolor\":\"white\",\"gridwidth\":2}},\"shapedefaults\":{\"line\":{\"color\":\"#2a3f5f\"}},\"annotationdefaults\":{\"arrowcolor\":\"#2a3f5f\",\"arrowhead\":0,\"arrowwidth\":1},\"geo\":{\"bgcolor\":\"white\",\"landcolor\":\"#E5ECF6\",\"subunitcolor\":\"white\",\"showland\":true,\"showlakes\":true,\"lakecolor\":\"white\"},\"title\":{\"x\":0.05},\"mapbox\":{\"style\":\"light\"}}},\"mapbox\":{\"domain\":{\"x\":[0.0,1.0],\"y\":[0.0,1.0]},\"center\":{\"lat\":51.03961343362299,\"lon\":-114.06543729150538},\"zoom\":10,\"style\":\"open-street-map\"},\"coloraxis\":{\"colorbar\":{\"title\":{\"text\":\"Crime Count\"}},\"colorscale\":[[0.0,\"#000000\"],[0.0625,\"#001f4d\"],[0.125,\"#003786\"],[0.1875,\"#0e58a8\"],[0.25,\"#217eb8\"],[0.3125,\"#30a4ca\"],[0.375,\"#54c8df\"],[0.4375,\"#9be4ef\"],[0.5,\"#e1e9d1\"],[0.5625,\"#f3d573\"],[0.625,\"#e7b000\"],[0.6875,\"#da8200\"],[0.75,\"#c65400\"],[0.8125,\"#ac2301\"],[0.875,\"#820000\"],[0.9375,\"#4c0000\"],[1.0,\"#000000\"]]},\"legend\":{\"tracegroupgap\":0},\"title\":{\"text\":\"Crime Counts by Community Location\"},\"height\":1000,\"width\":2000},                        {\"responsive\": true}                    ).then(function(){\n",
              "                            \n",
              "var gd = document.getElementById('9f8686b4-886d-4fc3-b2b0-ac8c6526fc15');\n",
              "var x = new MutationObserver(function (mutations, observer) {{\n",
              "        var display = window.getComputedStyle(gd).display;\n",
              "        if (!display || display === 'none') {{\n",
              "            console.log([gd, 'removed!']);\n",
              "            Plotly.purge(gd);\n",
              "            observer.disconnect();\n",
              "        }}\n",
              "}});\n",
              "\n",
              "// Listen for the removal of the full notebook cells\n",
              "var notebookContainer = gd.closest('#notebook-container');\n",
              "if (notebookContainer) {{\n",
              "    x.observe(notebookContainer, {childList: true});\n",
              "}}\n",
              "\n",
              "// Listen for the clearing of the current output cell\n",
              "var outputEl = gd.closest('.output');\n",
              "if (outputEl) {{\n",
              "    x.observe(outputEl, {childList: true});\n",
              "}}\n",
              "\n",
              "                        })                };                            </script>        </div>\n",
              "</body>\n",
              "</html>"
            ]
          },
          "metadata": {}
        }
      ],
      "source": [
        "import plotly.express as px\n",
        "geo_data = df_clean.groupby('Community Name').agg(\n",
        "    {'Crime Count': 'sum', 'Latitude': 'mean', 'Longitude': 'mean'}).reset_index()\n",
        "\n",
        "fig = px.scatter_mapbox(\n",
        "    geo_data,\n",
        "    lat='Latitude',\n",
        "    lon='Longitude',\n",
        "    color='Crime Count',\n",
        "    hover_name='Community Name',\n",
        "    color_continuous_scale=px.colors.cyclical.IceFire,\n",
        "    zoom=10,\n",
        "    mapbox_style=\"open-street-map\",\n",
        "    title='Crime Counts by Community Location',\n",
        "    width=2000,\n",
        "    height=1000\n",
        ")\n",
        "\n",
        "fig.update_traces(marker=dict(\n",
        "    size=geo_data['Crime Count'] / geo_data['Crime Count'].max() * 60,\n",
        "    color=geo_data['Crime Count'],\n",
        "    colorscale='Viridis',\n",
        "    showscale=True\n",
        "))\n",
        "\n",
        "fig.show()\n",
        "# py.plot(fig, filename=\"Geo_Spacial\", auto_open = True)\n"
      ]
    },
    {
      "cell_type": "markdown",
      "metadata": {
        "id": "uOj82VwVYHQg"
      },
      "source": [
        "As we can see here, most of the crimes are located at the centre of the city, followed by other regions"
      ]
    },
    {
      "cell_type": "markdown",
      "metadata": {
        "id": "8_pK3j0wYHQg"
      },
      "source": [
        "## Crimes over time (by Sector and Type of Crime)"
      ]
    },
    {
      "cell_type": "markdown",
      "metadata": {
        "id": "SaMRNiP6YHQg"
      },
      "source": [
        "To solve this question, I am going to display two line charts to show crimes over time by Sector and by type of crime"
      ]
    },
    {
      "cell_type": "code",
      "execution_count": 85,
      "metadata": {
        "colab": {
          "base_uri": "https://localhost:8080/",
          "height": 1000
        },
        "id": "KlGVJPf4YHQg",
        "outputId": "3e7270ca-2366-4d0a-c7ba-029d7b378adb"
      },
      "outputs": [
        {
          "output_type": "display_data",
          "data": {
            "text/html": [
              "<html>\n",
              "<head><meta charset=\"utf-8\" /></head>\n",
              "<body>\n",
              "    <div>            <script src=\"https://cdnjs.cloudflare.com/ajax/libs/mathjax/2.7.5/MathJax.js?config=TeX-AMS-MML_SVG\"></script><script type=\"text/javascript\">if (window.MathJax && window.MathJax.Hub && window.MathJax.Hub.Config) {window.MathJax.Hub.Config({SVG: {font: \"STIX-Web\"}});}</script>                <script type=\"text/javascript\">window.PlotlyConfig = {MathJaxConfig: 'local'};</script>\n",
              "        <script charset=\"utf-8\" src=\"https://cdn.plot.ly/plotly-2.24.1.min.js\"></script>                <div id=\"fd926610-8fe5-4b34-ab74-08db1499ba61\" class=\"plotly-graph-div\" style=\"height:1000px; width:2000px;\"></div>            <script type=\"text/javascript\">                                    window.PLOTLYENV=window.PLOTLYENV || {};                                    if (document.getElementById(\"fd926610-8fe5-4b34-ab74-08db1499ba61\")) {                    Plotly.newPlot(                        \"fd926610-8fe5-4b34-ab74-08db1499ba61\",                        [{\"hovertemplate\":\"Sector=CENTRE\\u003cbr\\u003eDate=%{x}\\u003cbr\\u003eCrime Count=%{y}\\u003cextra\\u003e\\u003c\\u002fextra\\u003e\",\"legendgroup\":\"CENTRE\",\"line\":{\"color\":\"#636efa\",\"dash\":\"solid\"},\"marker\":{\"symbol\":\"circle\"},\"mode\":\"lines\",\"name\":\"CENTRE\",\"orientation\":\"v\",\"showlegend\":true,\"x\":[\"2018-01-01T00:00:00\",\"2018-02-01T00:00:00\",\"2018-03-01T00:00:00\",\"2018-04-01T00:00:00\",\"2018-05-01T00:00:00\",\"2018-06-01T00:00:00\",\"2018-07-01T00:00:00\",\"2018-08-01T00:00:00\",\"2018-09-01T00:00:00\",\"2018-10-01T00:00:00\",\"2018-11-01T00:00:00\",\"2018-12-01T00:00:00\",\"2019-01-01T00:00:00\",\"2019-02-01T00:00:00\",\"2019-03-01T00:00:00\",\"2019-04-01T00:00:00\",\"2019-05-01T00:00:00\",\"2019-06-01T00:00:00\",\"2019-07-01T00:00:00\",\"2019-08-01T00:00:00\",\"2019-09-01T00:00:00\",\"2019-10-01T00:00:00\",\"2019-11-01T00:00:00\",\"2019-12-01T00:00:00\",\"2020-01-01T00:00:00\",\"2020-02-01T00:00:00\",\"2020-03-01T00:00:00\",\"2020-04-01T00:00:00\",\"2020-05-01T00:00:00\",\"2020-06-01T00:00:00\",\"2020-07-01T00:00:00\",\"2020-08-01T00:00:00\",\"2020-09-01T00:00:00\",\"2020-10-01T00:00:00\",\"2020-11-01T00:00:00\",\"2020-12-01T00:00:00\",\"2021-01-01T00:00:00\",\"2021-02-01T00:00:00\",\"2021-03-01T00:00:00\",\"2021-04-01T00:00:00\",\"2021-05-01T00:00:00\",\"2021-06-01T00:00:00\",\"2021-07-01T00:00:00\",\"2021-08-01T00:00:00\",\"2021-09-01T00:00:00\",\"2021-10-01T00:00:00\",\"2021-11-01T00:00:00\",\"2021-12-01T00:00:00\",\"2022-01-01T00:00:00\",\"2022-02-01T00:00:00\",\"2022-03-01T00:00:00\",\"2022-04-01T00:00:00\",\"2022-05-01T00:00:00\",\"2022-06-01T00:00:00\",\"2022-07-01T00:00:00\",\"2022-08-01T00:00:00\",\"2022-09-01T00:00:00\",\"2022-10-01T00:00:00\",\"2022-11-01T00:00:00\",\"2022-12-01T00:00:00\",\"2023-01-01T00:00:00\",\"2023-02-01T00:00:00\",\"2023-03-01T00:00:00\",\"2023-04-01T00:00:00\",\"2023-05-01T00:00:00\",\"2023-06-01T00:00:00\",\"2023-07-01T00:00:00\",\"2023-08-01T00:00:00\",\"2023-09-01T00:00:00\",\"2023-10-01T00:00:00\",\"2023-11-01T00:00:00\",\"2023-12-01T00:00:00\"],\"xaxis\":\"x\",\"y\":[778,635,811,826,976,949,1185,1143,1109,1032,960,960,1038,838,945,1015,1122,1158,1313,1346,1423,1173,1150,952,1038,992,950,914,684,798,1008,1208,1133,924,785,630,727,584,727,808,790,778,961,974,926,874,816,737,854,747,909,849,878,924,928,910,818,826,726,674,754,582,711,732,849,847,892,835,612,595,666,531],\"yaxis\":\"y\",\"type\":\"scatter\"},{\"hovertemplate\":\"Sector=EAST\\u003cbr\\u003eDate=%{x}\\u003cbr\\u003eCrime Count=%{y}\\u003cextra\\u003e\\u003c\\u002fextra\\u003e\",\"legendgroup\":\"EAST\",\"line\":{\"color\":\"#EF553B\",\"dash\":\"solid\"},\"marker\":{\"symbol\":\"circle\"},\"mode\":\"lines\",\"name\":\"EAST\",\"orientation\":\"v\",\"showlegend\":true,\"x\":[\"2018-01-01T00:00:00\",\"2018-02-01T00:00:00\",\"2018-03-01T00:00:00\",\"2018-04-01T00:00:00\",\"2018-05-01T00:00:00\",\"2018-06-01T00:00:00\",\"2018-07-01T00:00:00\",\"2018-08-01T00:00:00\",\"2018-09-01T00:00:00\",\"2018-10-01T00:00:00\",\"2018-11-01T00:00:00\",\"2018-12-01T00:00:00\",\"2019-01-01T00:00:00\",\"2019-02-01T00:00:00\",\"2019-03-01T00:00:00\",\"2019-04-01T00:00:00\",\"2019-05-01T00:00:00\",\"2019-06-01T00:00:00\",\"2019-07-01T00:00:00\",\"2019-08-01T00:00:00\",\"2019-09-01T00:00:00\",\"2019-10-01T00:00:00\",\"2019-11-01T00:00:00\",\"2019-12-01T00:00:00\",\"2020-01-01T00:00:00\",\"2020-02-01T00:00:00\",\"2020-03-01T00:00:00\",\"2020-04-01T00:00:00\",\"2020-05-01T00:00:00\",\"2020-06-01T00:00:00\",\"2020-07-01T00:00:00\",\"2020-08-01T00:00:00\",\"2020-09-01T00:00:00\",\"2020-10-01T00:00:00\",\"2020-11-01T00:00:00\",\"2020-12-01T00:00:00\",\"2021-01-01T00:00:00\",\"2021-02-01T00:00:00\",\"2021-03-01T00:00:00\",\"2021-04-01T00:00:00\",\"2021-05-01T00:00:00\",\"2021-06-01T00:00:00\",\"2021-07-01T00:00:00\",\"2021-08-01T00:00:00\",\"2021-09-01T00:00:00\",\"2021-10-01T00:00:00\",\"2021-11-01T00:00:00\",\"2021-12-01T00:00:00\",\"2022-01-01T00:00:00\",\"2022-02-01T00:00:00\",\"2022-03-01T00:00:00\",\"2022-04-01T00:00:00\",\"2022-05-01T00:00:00\",\"2022-06-01T00:00:00\",\"2022-07-01T00:00:00\",\"2022-08-01T00:00:00\",\"2022-09-01T00:00:00\",\"2022-10-01T00:00:00\",\"2022-11-01T00:00:00\",\"2022-12-01T00:00:00\",\"2023-01-01T00:00:00\",\"2023-02-01T00:00:00\",\"2023-03-01T00:00:00\",\"2023-04-01T00:00:00\",\"2023-05-01T00:00:00\",\"2023-06-01T00:00:00\",\"2023-07-01T00:00:00\",\"2023-08-01T00:00:00\",\"2023-09-01T00:00:00\",\"2023-10-01T00:00:00\",\"2023-11-01T00:00:00\",\"2023-12-01T00:00:00\"],\"xaxis\":\"x\",\"y\":[190,210,193,212,279,222,267,267,217,262,234,187,177,165,244,232,249,256,326,323,283,232,254,239,211,206,235,206,149,191,247,219,227,214,196,167,203,172,187,202,193,230,247,293,262,204,204,214,263,262,288,246,245,291,236,255,213,218,194,200,167,176,221,180,226,224,190,244,215,171,195,183],\"yaxis\":\"y\",\"type\":\"scatter\"},{\"hovertemplate\":\"Sector=NORTH\\u003cbr\\u003eDate=%{x}\\u003cbr\\u003eCrime Count=%{y}\\u003cextra\\u003e\\u003c\\u002fextra\\u003e\",\"legendgroup\":\"NORTH\",\"line\":{\"color\":\"#00cc96\",\"dash\":\"solid\"},\"marker\":{\"symbol\":\"circle\"},\"mode\":\"lines\",\"name\":\"NORTH\",\"orientation\":\"v\",\"showlegend\":true,\"x\":[\"2018-01-01T00:00:00\",\"2018-02-01T00:00:00\",\"2018-03-01T00:00:00\",\"2018-04-01T00:00:00\",\"2018-05-01T00:00:00\",\"2018-06-01T00:00:00\",\"2018-07-01T00:00:00\",\"2018-08-01T00:00:00\",\"2018-09-01T00:00:00\",\"2018-10-01T00:00:00\",\"2018-11-01T00:00:00\",\"2018-12-01T00:00:00\",\"2019-01-01T00:00:00\",\"2019-02-01T00:00:00\",\"2019-03-01T00:00:00\",\"2019-04-01T00:00:00\",\"2019-05-01T00:00:00\",\"2019-06-01T00:00:00\",\"2019-07-01T00:00:00\",\"2019-08-01T00:00:00\",\"2019-09-01T00:00:00\",\"2019-10-01T00:00:00\",\"2019-11-01T00:00:00\",\"2019-12-01T00:00:00\",\"2020-01-01T00:00:00\",\"2020-02-01T00:00:00\",\"2020-03-01T00:00:00\",\"2020-04-01T00:00:00\",\"2020-05-01T00:00:00\",\"2020-06-01T00:00:00\",\"2020-07-01T00:00:00\",\"2020-08-01T00:00:00\",\"2020-09-01T00:00:00\",\"2020-10-01T00:00:00\",\"2020-11-01T00:00:00\",\"2020-12-01T00:00:00\",\"2021-01-01T00:00:00\",\"2021-02-01T00:00:00\",\"2021-03-01T00:00:00\",\"2021-04-01T00:00:00\",\"2021-05-01T00:00:00\",\"2021-06-01T00:00:00\",\"2021-07-01T00:00:00\",\"2021-08-01T00:00:00\",\"2021-09-01T00:00:00\",\"2021-10-01T00:00:00\",\"2021-11-01T00:00:00\",\"2021-12-01T00:00:00\",\"2022-01-01T00:00:00\",\"2022-02-01T00:00:00\",\"2022-03-01T00:00:00\",\"2022-04-01T00:00:00\",\"2022-05-01T00:00:00\",\"2022-06-01T00:00:00\",\"2022-07-01T00:00:00\",\"2022-08-01T00:00:00\",\"2022-09-01T00:00:00\",\"2022-10-01T00:00:00\",\"2022-11-01T00:00:00\",\"2022-12-01T00:00:00\",\"2023-01-01T00:00:00\",\"2023-02-01T00:00:00\",\"2023-03-01T00:00:00\",\"2023-04-01T00:00:00\",\"2023-05-01T00:00:00\",\"2023-06-01T00:00:00\",\"2023-07-01T00:00:00\",\"2023-08-01T00:00:00\",\"2023-09-01T00:00:00\",\"2023-10-01T00:00:00\",\"2023-11-01T00:00:00\",\"2023-12-01T00:00:00\"],\"xaxis\":\"x\",\"y\":[207,154,180,167,234,215,266,286,220,236,178,203,216,164,193,184,221,188,217,256,248,204,201,195,212,207,215,182,152,166,161,150,162,171,140,145,169,117,163,148,164,136,137,130,152,163,157,146,160,190,224,180,191,236,202,210,164,179,166,173,177,147,183,168,134,160,145,149,191,155,139,150],\"yaxis\":\"y\",\"type\":\"scatter\"},{\"hovertemplate\":\"Sector=NORTHEAST\\u003cbr\\u003eDate=%{x}\\u003cbr\\u003eCrime Count=%{y}\\u003cextra\\u003e\\u003c\\u002fextra\\u003e\",\"legendgroup\":\"NORTHEAST\",\"line\":{\"color\":\"#ab63fa\",\"dash\":\"solid\"},\"marker\":{\"symbol\":\"circle\"},\"mode\":\"lines\",\"name\":\"NORTHEAST\",\"orientation\":\"v\",\"showlegend\":true,\"x\":[\"2018-01-01T00:00:00\",\"2018-02-01T00:00:00\",\"2018-03-01T00:00:00\",\"2018-04-01T00:00:00\",\"2018-05-01T00:00:00\",\"2018-06-01T00:00:00\",\"2018-07-01T00:00:00\",\"2018-08-01T00:00:00\",\"2018-09-01T00:00:00\",\"2018-10-01T00:00:00\",\"2018-11-01T00:00:00\",\"2018-12-01T00:00:00\",\"2019-01-01T00:00:00\",\"2019-02-01T00:00:00\",\"2019-03-01T00:00:00\",\"2019-04-01T00:00:00\",\"2019-05-01T00:00:00\",\"2019-06-01T00:00:00\",\"2019-07-01T00:00:00\",\"2019-08-01T00:00:00\",\"2019-09-01T00:00:00\",\"2019-10-01T00:00:00\",\"2019-11-01T00:00:00\",\"2019-12-01T00:00:00\",\"2020-01-01T00:00:00\",\"2020-02-01T00:00:00\",\"2020-03-01T00:00:00\",\"2020-04-01T00:00:00\",\"2020-05-01T00:00:00\",\"2020-06-01T00:00:00\",\"2020-07-01T00:00:00\",\"2020-08-01T00:00:00\",\"2020-09-01T00:00:00\",\"2020-10-01T00:00:00\",\"2020-11-01T00:00:00\",\"2020-12-01T00:00:00\",\"2021-01-01T00:00:00\",\"2021-02-01T00:00:00\",\"2021-03-01T00:00:00\",\"2021-04-01T00:00:00\",\"2021-05-01T00:00:00\",\"2021-06-01T00:00:00\",\"2021-07-01T00:00:00\",\"2021-08-01T00:00:00\",\"2021-09-01T00:00:00\",\"2021-10-01T00:00:00\",\"2021-11-01T00:00:00\",\"2021-12-01T00:00:00\",\"2022-01-01T00:00:00\",\"2022-02-01T00:00:00\",\"2022-03-01T00:00:00\",\"2022-04-01T00:00:00\",\"2022-05-01T00:00:00\",\"2022-06-01T00:00:00\",\"2022-07-01T00:00:00\",\"2022-08-01T00:00:00\",\"2022-09-01T00:00:00\",\"2022-10-01T00:00:00\",\"2022-11-01T00:00:00\",\"2022-12-01T00:00:00\",\"2023-01-01T00:00:00\",\"2023-02-01T00:00:00\",\"2023-03-01T00:00:00\",\"2023-04-01T00:00:00\",\"2023-05-01T00:00:00\",\"2023-06-01T00:00:00\",\"2023-07-01T00:00:00\",\"2023-08-01T00:00:00\",\"2023-09-01T00:00:00\",\"2023-10-01T00:00:00\",\"2023-11-01T00:00:00\",\"2023-12-01T00:00:00\"],\"xaxis\":\"x\",\"y\":[574,471,519,522,560,554,595,582,527,544,533,564,637,458,491,464,546,581,632,551,649,585,490,512,583,622,512,475,382,467,486,501,481,543,432,444,530,450,437,431,409,414,425,464,465,508,512,530,563,524,647,593,598,567,488,604,516,529,475,531,514,477,567,470,519,527,458,424,454,447,414,326],\"yaxis\":\"y\",\"type\":\"scatter\"},{\"hovertemplate\":\"Sector=NORTHWEST\\u003cbr\\u003eDate=%{x}\\u003cbr\\u003eCrime Count=%{y}\\u003cextra\\u003e\\u003c\\u002fextra\\u003e\",\"legendgroup\":\"NORTHWEST\",\"line\":{\"color\":\"#FFA15A\",\"dash\":\"solid\"},\"marker\":{\"symbol\":\"circle\"},\"mode\":\"lines\",\"name\":\"NORTHWEST\",\"orientation\":\"v\",\"showlegend\":true,\"x\":[\"2018-01-01T00:00:00\",\"2018-02-01T00:00:00\",\"2018-03-01T00:00:00\",\"2018-04-01T00:00:00\",\"2018-05-01T00:00:00\",\"2018-06-01T00:00:00\",\"2018-07-01T00:00:00\",\"2018-08-01T00:00:00\",\"2018-09-01T00:00:00\",\"2018-10-01T00:00:00\",\"2018-11-01T00:00:00\",\"2018-12-01T00:00:00\",\"2019-01-01T00:00:00\",\"2019-02-01T00:00:00\",\"2019-03-01T00:00:00\",\"2019-04-01T00:00:00\",\"2019-05-01T00:00:00\",\"2019-06-01T00:00:00\",\"2019-07-01T00:00:00\",\"2019-08-01T00:00:00\",\"2019-09-01T00:00:00\",\"2019-10-01T00:00:00\",\"2019-11-01T00:00:00\",\"2019-12-01T00:00:00\",\"2020-01-01T00:00:00\",\"2020-02-01T00:00:00\",\"2020-03-01T00:00:00\",\"2020-04-01T00:00:00\",\"2020-05-01T00:00:00\",\"2020-06-01T00:00:00\",\"2020-07-01T00:00:00\",\"2020-08-01T00:00:00\",\"2020-09-01T00:00:00\",\"2020-10-01T00:00:00\",\"2020-11-01T00:00:00\",\"2020-12-01T00:00:00\",\"2021-01-01T00:00:00\",\"2021-02-01T00:00:00\",\"2021-03-01T00:00:00\",\"2021-04-01T00:00:00\",\"2021-05-01T00:00:00\",\"2021-06-01T00:00:00\",\"2021-07-01T00:00:00\",\"2021-08-01T00:00:00\",\"2021-09-01T00:00:00\",\"2021-10-01T00:00:00\",\"2021-11-01T00:00:00\",\"2021-12-01T00:00:00\",\"2022-01-01T00:00:00\",\"2022-02-01T00:00:00\",\"2022-03-01T00:00:00\",\"2022-04-01T00:00:00\",\"2022-05-01T00:00:00\",\"2022-06-01T00:00:00\",\"2022-07-01T00:00:00\",\"2022-08-01T00:00:00\",\"2022-09-01T00:00:00\",\"2022-10-01T00:00:00\",\"2022-11-01T00:00:00\",\"2022-12-01T00:00:00\",\"2023-01-01T00:00:00\",\"2023-02-01T00:00:00\",\"2023-03-01T00:00:00\",\"2023-04-01T00:00:00\",\"2023-05-01T00:00:00\",\"2023-06-01T00:00:00\",\"2023-07-01T00:00:00\",\"2023-08-01T00:00:00\",\"2023-09-01T00:00:00\",\"2023-10-01T00:00:00\",\"2023-11-01T00:00:00\",\"2023-12-01T00:00:00\"],\"xaxis\":\"x\",\"y\":[309,233,266,274,276,289,305,396,309,341,263,187,265,169,215,193,261,279,325,314,292,281,249,252,195,209,206,216,178,212,237,267,220,254,193,177,218,139,171,175,204,207,234,215,209,197,237,236,345,250,355,291,299,295,281,281,266,265,219,242,200,200,255,193,194,214,168,144,185,148,148,156],\"yaxis\":\"y\",\"type\":\"scatter\"},{\"hovertemplate\":\"Sector=SOUTH\\u003cbr\\u003eDate=%{x}\\u003cbr\\u003eCrime Count=%{y}\\u003cextra\\u003e\\u003c\\u002fextra\\u003e\",\"legendgroup\":\"SOUTH\",\"line\":{\"color\":\"#19d3f3\",\"dash\":\"solid\"},\"marker\":{\"symbol\":\"circle\"},\"mode\":\"lines\",\"name\":\"SOUTH\",\"orientation\":\"v\",\"showlegend\":true,\"x\":[\"2018-01-01T00:00:00\",\"2018-02-01T00:00:00\",\"2018-03-01T00:00:00\",\"2018-04-01T00:00:00\",\"2018-05-01T00:00:00\",\"2018-06-01T00:00:00\",\"2018-07-01T00:00:00\",\"2018-08-01T00:00:00\",\"2018-09-01T00:00:00\",\"2018-10-01T00:00:00\",\"2018-11-01T00:00:00\",\"2018-12-01T00:00:00\",\"2019-01-01T00:00:00\",\"2019-02-01T00:00:00\",\"2019-03-01T00:00:00\",\"2019-04-01T00:00:00\",\"2019-05-01T00:00:00\",\"2019-06-01T00:00:00\",\"2019-07-01T00:00:00\",\"2019-08-01T00:00:00\",\"2019-09-01T00:00:00\",\"2019-10-01T00:00:00\",\"2019-11-01T00:00:00\",\"2019-12-01T00:00:00\",\"2020-01-01T00:00:00\",\"2020-02-01T00:00:00\",\"2020-03-01T00:00:00\",\"2020-04-01T00:00:00\",\"2020-05-01T00:00:00\",\"2020-06-01T00:00:00\",\"2020-07-01T00:00:00\",\"2020-08-01T00:00:00\",\"2020-09-01T00:00:00\",\"2020-10-01T00:00:00\",\"2020-11-01T00:00:00\",\"2020-12-01T00:00:00\",\"2021-01-01T00:00:00\",\"2021-02-01T00:00:00\",\"2021-03-01T00:00:00\",\"2021-04-01T00:00:00\",\"2021-05-01T00:00:00\",\"2021-06-01T00:00:00\",\"2021-07-01T00:00:00\",\"2021-08-01T00:00:00\",\"2021-09-01T00:00:00\",\"2021-10-01T00:00:00\",\"2021-11-01T00:00:00\",\"2021-12-01T00:00:00\",\"2022-01-01T00:00:00\",\"2022-02-01T00:00:00\",\"2022-03-01T00:00:00\",\"2022-04-01T00:00:00\",\"2022-05-01T00:00:00\",\"2022-06-01T00:00:00\",\"2022-07-01T00:00:00\",\"2022-08-01T00:00:00\",\"2022-09-01T00:00:00\",\"2022-10-01T00:00:00\",\"2022-11-01T00:00:00\",\"2022-12-01T00:00:00\",\"2023-01-01T00:00:00\",\"2023-02-01T00:00:00\",\"2023-03-01T00:00:00\",\"2023-04-01T00:00:00\",\"2023-05-01T00:00:00\",\"2023-06-01T00:00:00\",\"2023-07-01T00:00:00\",\"2023-08-01T00:00:00\",\"2023-09-01T00:00:00\",\"2023-10-01T00:00:00\",\"2023-11-01T00:00:00\",\"2023-12-01T00:00:00\"],\"xaxis\":\"x\",\"y\":[371,286,295,339,354,336,424,422,437,425,342,352,376,290,342,398,375,488,486,529,484,454,395,338,338,382,344,295,207,221,297,352,394,398,299,254,234,188,245,194,234,217,293,298,253,258,353,249,325,283,367,325,386,369,337,361,311,292,245,260,320,247,353,307,278,303,305,321,300,258,246,204],\"yaxis\":\"y\",\"type\":\"scatter\"},{\"hovertemplate\":\"Sector=SOUTHEAST\\u003cbr\\u003eDate=%{x}\\u003cbr\\u003eCrime Count=%{y}\\u003cextra\\u003e\\u003c\\u002fextra\\u003e\",\"legendgroup\":\"SOUTHEAST\",\"line\":{\"color\":\"#FF6692\",\"dash\":\"solid\"},\"marker\":{\"symbol\":\"circle\"},\"mode\":\"lines\",\"name\":\"SOUTHEAST\",\"orientation\":\"v\",\"showlegend\":true,\"x\":[\"2018-01-01T00:00:00\",\"2018-02-01T00:00:00\",\"2018-03-01T00:00:00\",\"2018-04-01T00:00:00\",\"2018-05-01T00:00:00\",\"2018-06-01T00:00:00\",\"2018-07-01T00:00:00\",\"2018-08-01T00:00:00\",\"2018-09-01T00:00:00\",\"2018-10-01T00:00:00\",\"2018-11-01T00:00:00\",\"2018-12-01T00:00:00\",\"2019-01-01T00:00:00\",\"2019-02-01T00:00:00\",\"2019-03-01T00:00:00\",\"2019-04-01T00:00:00\",\"2019-05-01T00:00:00\",\"2019-06-01T00:00:00\",\"2019-07-01T00:00:00\",\"2019-08-01T00:00:00\",\"2019-09-01T00:00:00\",\"2019-10-01T00:00:00\",\"2019-11-01T00:00:00\",\"2019-12-01T00:00:00\",\"2020-01-01T00:00:00\",\"2020-02-01T00:00:00\",\"2020-03-01T00:00:00\",\"2020-04-01T00:00:00\",\"2020-05-01T00:00:00\",\"2020-06-01T00:00:00\",\"2020-07-01T00:00:00\",\"2020-08-01T00:00:00\",\"2020-09-01T00:00:00\",\"2020-10-01T00:00:00\",\"2020-11-01T00:00:00\",\"2020-12-01T00:00:00\",\"2021-01-01T00:00:00\",\"2021-02-01T00:00:00\",\"2021-03-01T00:00:00\",\"2021-04-01T00:00:00\",\"2021-05-01T00:00:00\",\"2021-06-01T00:00:00\",\"2021-07-01T00:00:00\",\"2021-08-01T00:00:00\",\"2021-09-01T00:00:00\",\"2021-10-01T00:00:00\",\"2021-11-01T00:00:00\",\"2021-12-01T00:00:00\",\"2022-01-01T00:00:00\",\"2022-02-01T00:00:00\",\"2022-03-01T00:00:00\",\"2022-04-01T00:00:00\",\"2022-05-01T00:00:00\",\"2022-06-01T00:00:00\",\"2022-07-01T00:00:00\",\"2022-08-01T00:00:00\",\"2022-09-01T00:00:00\",\"2022-10-01T00:00:00\",\"2022-11-01T00:00:00\",\"2022-12-01T00:00:00\",\"2023-01-01T00:00:00\",\"2023-02-01T00:00:00\",\"2023-03-01T00:00:00\",\"2023-04-01T00:00:00\",\"2023-05-01T00:00:00\",\"2023-06-01T00:00:00\",\"2023-07-01T00:00:00\",\"2023-08-01T00:00:00\",\"2023-09-01T00:00:00\",\"2023-10-01T00:00:00\",\"2023-11-01T00:00:00\",\"2023-12-01T00:00:00\"],\"xaxis\":\"x\",\"y\":[173,125,172,156,191,187,213,236,165,158,158,189,195,121,144,168,177,202,212,230,244,211,194,184,254,204,204,167,106,123,153,232,190,168,103,120,116,80,105,120,110,105,124,154,166,163,161,130,128,167,211,136,191,194,169,172,139,170,109,143,137,126,135,142,175,171,148,136,137,126,157,116],\"yaxis\":\"y\",\"type\":\"scatter\"},{\"hovertemplate\":\"Sector=WEST\\u003cbr\\u003eDate=%{x}\\u003cbr\\u003eCrime Count=%{y}\\u003cextra\\u003e\\u003c\\u002fextra\\u003e\",\"legendgroup\":\"WEST\",\"line\":{\"color\":\"#B6E880\",\"dash\":\"solid\"},\"marker\":{\"symbol\":\"circle\"},\"mode\":\"lines\",\"name\":\"WEST\",\"orientation\":\"v\",\"showlegend\":true,\"x\":[\"2018-01-01T00:00:00\",\"2018-02-01T00:00:00\",\"2018-03-01T00:00:00\",\"2018-04-01T00:00:00\",\"2018-05-01T00:00:00\",\"2018-06-01T00:00:00\",\"2018-07-01T00:00:00\",\"2018-08-01T00:00:00\",\"2018-09-01T00:00:00\",\"2018-10-01T00:00:00\",\"2018-11-01T00:00:00\",\"2018-12-01T00:00:00\",\"2019-01-01T00:00:00\",\"2019-02-01T00:00:00\",\"2019-03-01T00:00:00\",\"2019-04-01T00:00:00\",\"2019-05-01T00:00:00\",\"2019-06-01T00:00:00\",\"2019-07-01T00:00:00\",\"2019-08-01T00:00:00\",\"2019-09-01T00:00:00\",\"2019-10-01T00:00:00\",\"2019-11-01T00:00:00\",\"2019-12-01T00:00:00\",\"2020-01-01T00:00:00\",\"2020-02-01T00:00:00\",\"2020-03-01T00:00:00\",\"2020-04-01T00:00:00\",\"2020-05-01T00:00:00\",\"2020-06-01T00:00:00\",\"2020-07-01T00:00:00\",\"2020-08-01T00:00:00\",\"2020-09-01T00:00:00\",\"2020-10-01T00:00:00\",\"2020-11-01T00:00:00\",\"2020-12-01T00:00:00\",\"2021-01-01T00:00:00\",\"2021-02-01T00:00:00\",\"2021-03-01T00:00:00\",\"2021-04-01T00:00:00\",\"2021-05-01T00:00:00\",\"2021-06-01T00:00:00\",\"2021-07-01T00:00:00\",\"2021-08-01T00:00:00\",\"2021-09-01T00:00:00\",\"2021-10-01T00:00:00\",\"2021-11-01T00:00:00\",\"2021-12-01T00:00:00\",\"2022-01-01T00:00:00\",\"2022-02-01T00:00:00\",\"2022-03-01T00:00:00\",\"2022-04-01T00:00:00\",\"2022-05-01T00:00:00\",\"2022-06-01T00:00:00\",\"2022-07-01T00:00:00\",\"2022-08-01T00:00:00\",\"2022-09-01T00:00:00\",\"2022-10-01T00:00:00\",\"2022-11-01T00:00:00\",\"2022-12-01T00:00:00\",\"2023-01-01T00:00:00\",\"2023-02-01T00:00:00\",\"2023-03-01T00:00:00\",\"2023-04-01T00:00:00\",\"2023-05-01T00:00:00\",\"2023-06-01T00:00:00\",\"2023-07-01T00:00:00\",\"2023-08-01T00:00:00\",\"2023-09-01T00:00:00\",\"2023-10-01T00:00:00\",\"2023-11-01T00:00:00\",\"2023-12-01T00:00:00\"],\"xaxis\":\"x\",\"y\":[208,153,134,144,189,183,196,225,225,213,138,175,178,115,128,169,214,204,246,243,262,210,167,150,149,192,187,128,122,121,149,163,212,189,163,107,132,115,133,125,117,148,154,143,164,180,150,153,181,163,208,115,132,132,134,138,125,146,77,126,133,103,121,102,147,128,140,121,121,103,92,118],\"yaxis\":\"y\",\"type\":\"scatter\"}],                        {\"template\":{\"data\":{\"histogram2dcontour\":[{\"type\":\"histogram2dcontour\",\"colorbar\":{\"outlinewidth\":0,\"ticks\":\"\"},\"colorscale\":[[0.0,\"#0d0887\"],[0.1111111111111111,\"#46039f\"],[0.2222222222222222,\"#7201a8\"],[0.3333333333333333,\"#9c179e\"],[0.4444444444444444,\"#bd3786\"],[0.5555555555555556,\"#d8576b\"],[0.6666666666666666,\"#ed7953\"],[0.7777777777777778,\"#fb9f3a\"],[0.8888888888888888,\"#fdca26\"],[1.0,\"#f0f921\"]]}],\"choropleth\":[{\"type\":\"choropleth\",\"colorbar\":{\"outlinewidth\":0,\"ticks\":\"\"}}],\"histogram2d\":[{\"type\":\"histogram2d\",\"colorbar\":{\"outlinewidth\":0,\"ticks\":\"\"},\"colorscale\":[[0.0,\"#0d0887\"],[0.1111111111111111,\"#46039f\"],[0.2222222222222222,\"#7201a8\"],[0.3333333333333333,\"#9c179e\"],[0.4444444444444444,\"#bd3786\"],[0.5555555555555556,\"#d8576b\"],[0.6666666666666666,\"#ed7953\"],[0.7777777777777778,\"#fb9f3a\"],[0.8888888888888888,\"#fdca26\"],[1.0,\"#f0f921\"]]}],\"heatmap\":[{\"type\":\"heatmap\",\"colorbar\":{\"outlinewidth\":0,\"ticks\":\"\"},\"colorscale\":[[0.0,\"#0d0887\"],[0.1111111111111111,\"#46039f\"],[0.2222222222222222,\"#7201a8\"],[0.3333333333333333,\"#9c179e\"],[0.4444444444444444,\"#bd3786\"],[0.5555555555555556,\"#d8576b\"],[0.6666666666666666,\"#ed7953\"],[0.7777777777777778,\"#fb9f3a\"],[0.8888888888888888,\"#fdca26\"],[1.0,\"#f0f921\"]]}],\"heatmapgl\":[{\"type\":\"heatmapgl\",\"colorbar\":{\"outlinewidth\":0,\"ticks\":\"\"},\"colorscale\":[[0.0,\"#0d0887\"],[0.1111111111111111,\"#46039f\"],[0.2222222222222222,\"#7201a8\"],[0.3333333333333333,\"#9c179e\"],[0.4444444444444444,\"#bd3786\"],[0.5555555555555556,\"#d8576b\"],[0.6666666666666666,\"#ed7953\"],[0.7777777777777778,\"#fb9f3a\"],[0.8888888888888888,\"#fdca26\"],[1.0,\"#f0f921\"]]}],\"contourcarpet\":[{\"type\":\"contourcarpet\",\"colorbar\":{\"outlinewidth\":0,\"ticks\":\"\"}}],\"contour\":[{\"type\":\"contour\",\"colorbar\":{\"outlinewidth\":0,\"ticks\":\"\"},\"colorscale\":[[0.0,\"#0d0887\"],[0.1111111111111111,\"#46039f\"],[0.2222222222222222,\"#7201a8\"],[0.3333333333333333,\"#9c179e\"],[0.4444444444444444,\"#bd3786\"],[0.5555555555555556,\"#d8576b\"],[0.6666666666666666,\"#ed7953\"],[0.7777777777777778,\"#fb9f3a\"],[0.8888888888888888,\"#fdca26\"],[1.0,\"#f0f921\"]]}],\"surface\":[{\"type\":\"surface\",\"colorbar\":{\"outlinewidth\":0,\"ticks\":\"\"},\"colorscale\":[[0.0,\"#0d0887\"],[0.1111111111111111,\"#46039f\"],[0.2222222222222222,\"#7201a8\"],[0.3333333333333333,\"#9c179e\"],[0.4444444444444444,\"#bd3786\"],[0.5555555555555556,\"#d8576b\"],[0.6666666666666666,\"#ed7953\"],[0.7777777777777778,\"#fb9f3a\"],[0.8888888888888888,\"#fdca26\"],[1.0,\"#f0f921\"]]}],\"mesh3d\":[{\"type\":\"mesh3d\",\"colorbar\":{\"outlinewidth\":0,\"ticks\":\"\"}}],\"scatter\":[{\"fillpattern\":{\"fillmode\":\"overlay\",\"size\":10,\"solidity\":0.2},\"type\":\"scatter\"}],\"parcoords\":[{\"type\":\"parcoords\",\"line\":{\"colorbar\":{\"outlinewidth\":0,\"ticks\":\"\"}}}],\"scatterpolargl\":[{\"type\":\"scatterpolargl\",\"marker\":{\"colorbar\":{\"outlinewidth\":0,\"ticks\":\"\"}}}],\"bar\":[{\"error_x\":{\"color\":\"#2a3f5f\"},\"error_y\":{\"color\":\"#2a3f5f\"},\"marker\":{\"line\":{\"color\":\"#E5ECF6\",\"width\":0.5},\"pattern\":{\"fillmode\":\"overlay\",\"size\":10,\"solidity\":0.2}},\"type\":\"bar\"}],\"scattergeo\":[{\"type\":\"scattergeo\",\"marker\":{\"colorbar\":{\"outlinewidth\":0,\"ticks\":\"\"}}}],\"scatterpolar\":[{\"type\":\"scatterpolar\",\"marker\":{\"colorbar\":{\"outlinewidth\":0,\"ticks\":\"\"}}}],\"histogram\":[{\"marker\":{\"pattern\":{\"fillmode\":\"overlay\",\"size\":10,\"solidity\":0.2}},\"type\":\"histogram\"}],\"scattergl\":[{\"type\":\"scattergl\",\"marker\":{\"colorbar\":{\"outlinewidth\":0,\"ticks\":\"\"}}}],\"scatter3d\":[{\"type\":\"scatter3d\",\"line\":{\"colorbar\":{\"outlinewidth\":0,\"ticks\":\"\"}},\"marker\":{\"colorbar\":{\"outlinewidth\":0,\"ticks\":\"\"}}}],\"scattermapbox\":[{\"type\":\"scattermapbox\",\"marker\":{\"colorbar\":{\"outlinewidth\":0,\"ticks\":\"\"}}}],\"scatterternary\":[{\"type\":\"scatterternary\",\"marker\":{\"colorbar\":{\"outlinewidth\":0,\"ticks\":\"\"}}}],\"scattercarpet\":[{\"type\":\"scattercarpet\",\"marker\":{\"colorbar\":{\"outlinewidth\":0,\"ticks\":\"\"}}}],\"carpet\":[{\"aaxis\":{\"endlinecolor\":\"#2a3f5f\",\"gridcolor\":\"white\",\"linecolor\":\"white\",\"minorgridcolor\":\"white\",\"startlinecolor\":\"#2a3f5f\"},\"baxis\":{\"endlinecolor\":\"#2a3f5f\",\"gridcolor\":\"white\",\"linecolor\":\"white\",\"minorgridcolor\":\"white\",\"startlinecolor\":\"#2a3f5f\"},\"type\":\"carpet\"}],\"table\":[{\"cells\":{\"fill\":{\"color\":\"#EBF0F8\"},\"line\":{\"color\":\"white\"}},\"header\":{\"fill\":{\"color\":\"#C8D4E3\"},\"line\":{\"color\":\"white\"}},\"type\":\"table\"}],\"barpolar\":[{\"marker\":{\"line\":{\"color\":\"#E5ECF6\",\"width\":0.5},\"pattern\":{\"fillmode\":\"overlay\",\"size\":10,\"solidity\":0.2}},\"type\":\"barpolar\"}],\"pie\":[{\"automargin\":true,\"type\":\"pie\"}]},\"layout\":{\"autotypenumbers\":\"strict\",\"colorway\":[\"#636efa\",\"#EF553B\",\"#00cc96\",\"#ab63fa\",\"#FFA15A\",\"#19d3f3\",\"#FF6692\",\"#B6E880\",\"#FF97FF\",\"#FECB52\"],\"font\":{\"color\":\"#2a3f5f\"},\"hovermode\":\"closest\",\"hoverlabel\":{\"align\":\"left\"},\"paper_bgcolor\":\"white\",\"plot_bgcolor\":\"#E5ECF6\",\"polar\":{\"bgcolor\":\"#E5ECF6\",\"angularaxis\":{\"gridcolor\":\"white\",\"linecolor\":\"white\",\"ticks\":\"\"},\"radialaxis\":{\"gridcolor\":\"white\",\"linecolor\":\"white\",\"ticks\":\"\"}},\"ternary\":{\"bgcolor\":\"#E5ECF6\",\"aaxis\":{\"gridcolor\":\"white\",\"linecolor\":\"white\",\"ticks\":\"\"},\"baxis\":{\"gridcolor\":\"white\",\"linecolor\":\"white\",\"ticks\":\"\"},\"caxis\":{\"gridcolor\":\"white\",\"linecolor\":\"white\",\"ticks\":\"\"}},\"coloraxis\":{\"colorbar\":{\"outlinewidth\":0,\"ticks\":\"\"}},\"colorscale\":{\"sequential\":[[0.0,\"#0d0887\"],[0.1111111111111111,\"#46039f\"],[0.2222222222222222,\"#7201a8\"],[0.3333333333333333,\"#9c179e\"],[0.4444444444444444,\"#bd3786\"],[0.5555555555555556,\"#d8576b\"],[0.6666666666666666,\"#ed7953\"],[0.7777777777777778,\"#fb9f3a\"],[0.8888888888888888,\"#fdca26\"],[1.0,\"#f0f921\"]],\"sequentialminus\":[[0.0,\"#0d0887\"],[0.1111111111111111,\"#46039f\"],[0.2222222222222222,\"#7201a8\"],[0.3333333333333333,\"#9c179e\"],[0.4444444444444444,\"#bd3786\"],[0.5555555555555556,\"#d8576b\"],[0.6666666666666666,\"#ed7953\"],[0.7777777777777778,\"#fb9f3a\"],[0.8888888888888888,\"#fdca26\"],[1.0,\"#f0f921\"]],\"diverging\":[[0,\"#8e0152\"],[0.1,\"#c51b7d\"],[0.2,\"#de77ae\"],[0.3,\"#f1b6da\"],[0.4,\"#fde0ef\"],[0.5,\"#f7f7f7\"],[0.6,\"#e6f5d0\"],[0.7,\"#b8e186\"],[0.8,\"#7fbc41\"],[0.9,\"#4d9221\"],[1,\"#276419\"]]},\"xaxis\":{\"gridcolor\":\"white\",\"linecolor\":\"white\",\"ticks\":\"\",\"title\":{\"standoff\":15},\"zerolinecolor\":\"white\",\"automargin\":true,\"zerolinewidth\":2},\"yaxis\":{\"gridcolor\":\"white\",\"linecolor\":\"white\",\"ticks\":\"\",\"title\":{\"standoff\":15},\"zerolinecolor\":\"white\",\"automargin\":true,\"zerolinewidth\":2},\"scene\":{\"xaxis\":{\"backgroundcolor\":\"#E5ECF6\",\"gridcolor\":\"white\",\"linecolor\":\"white\",\"showbackground\":true,\"ticks\":\"\",\"zerolinecolor\":\"white\",\"gridwidth\":2},\"yaxis\":{\"backgroundcolor\":\"#E5ECF6\",\"gridcolor\":\"white\",\"linecolor\":\"white\",\"showbackground\":true,\"ticks\":\"\",\"zerolinecolor\":\"white\",\"gridwidth\":2},\"zaxis\":{\"backgroundcolor\":\"#E5ECF6\",\"gridcolor\":\"white\",\"linecolor\":\"white\",\"showbackground\":true,\"ticks\":\"\",\"zerolinecolor\":\"white\",\"gridwidth\":2}},\"shapedefaults\":{\"line\":{\"color\":\"#2a3f5f\"}},\"annotationdefaults\":{\"arrowcolor\":\"#2a3f5f\",\"arrowhead\":0,\"arrowwidth\":1},\"geo\":{\"bgcolor\":\"white\",\"landcolor\":\"#E5ECF6\",\"subunitcolor\":\"white\",\"showland\":true,\"showlakes\":true,\"lakecolor\":\"white\"},\"title\":{\"x\":0.05},\"mapbox\":{\"style\":\"light\"}}},\"xaxis\":{\"anchor\":\"y\",\"domain\":[0.0,1.0],\"title\":{\"text\":\"Date\"}},\"yaxis\":{\"anchor\":\"x\",\"domain\":[0.0,1.0],\"title\":{\"text\":\"Crime count\"}},\"legend\":{\"title\":{\"text\":\"Sector\"},\"tracegroupgap\":0},\"title\":{\"text\":\"Crime Count Over Time by Sector\"},\"width\":2000,\"height\":1000},                        {\"responsive\": true}                    ).then(function(){\n",
              "                            \n",
              "var gd = document.getElementById('fd926610-8fe5-4b34-ab74-08db1499ba61');\n",
              "var x = new MutationObserver(function (mutations, observer) {{\n",
              "        var display = window.getComputedStyle(gd).display;\n",
              "        if (!display || display === 'none') {{\n",
              "            console.log([gd, 'removed!']);\n",
              "            Plotly.purge(gd);\n",
              "            observer.disconnect();\n",
              "        }}\n",
              "}});\n",
              "\n",
              "// Listen for the removal of the full notebook cells\n",
              "var notebookContainer = gd.closest('#notebook-container');\n",
              "if (notebookContainer) {{\n",
              "    x.observe(notebookContainer, {childList: true});\n",
              "}}\n",
              "\n",
              "// Listen for the clearing of the current output cell\n",
              "var outputEl = gd.closest('.output');\n",
              "if (outputEl) {{\n",
              "    x.observe(outputEl, {childList: true});\n",
              "}}\n",
              "\n",
              "                        })                };                            </script>        </div>\n",
              "</body>\n",
              "</html>"
            ]
          },
          "metadata": {}
        }
      ],
      "source": [
        "import pandas as pd\n",
        "import plotly.express as px\n",
        "\n",
        "df_grouped = df_clean.groupby(['Sector', 'Date'])['Crime Count'].sum().reset_index()\n",
        "fig = px.line(df_grouped, x='Date', y='Crime Count', color='Sector', title='Crime Count Over Time by Sector')\n",
        "fig.update_layout(xaxis_title='Date', yaxis_title='Crime count', legend_title='Sector', width=2000, height=1000)\n",
        "fig.show()\n",
        "# py.plot(fig, filename=\"Crime count over time\", auto_open = True)\n"
      ]
    },
    {
      "cell_type": "markdown",
      "metadata": {
        "id": "1HjCQxO6YHQg"
      },
      "source": [
        "As we can see, crimes in general have been decreasing over time, in addition to highlighting that 'Centre' and 'Northeast' are the areas with the highest amount of crimes historically."
      ]
    },
    {
      "cell_type": "code",
      "execution_count": 86,
      "metadata": {
        "colab": {
          "base_uri": "https://localhost:8080/",
          "height": 1000
        },
        "id": "fXqGOhGWYHQg",
        "outputId": "c8d2b147-6517-4ac8-b043-a06ee75a4692"
      },
      "outputs": [
        {
          "output_type": "display_data",
          "data": {
            "text/html": [
              "<html>\n",
              "<head><meta charset=\"utf-8\" /></head>\n",
              "<body>\n",
              "    <div>            <script src=\"https://cdnjs.cloudflare.com/ajax/libs/mathjax/2.7.5/MathJax.js?config=TeX-AMS-MML_SVG\"></script><script type=\"text/javascript\">if (window.MathJax && window.MathJax.Hub && window.MathJax.Hub.Config) {window.MathJax.Hub.Config({SVG: {font: \"STIX-Web\"}});}</script>                <script type=\"text/javascript\">window.PlotlyConfig = {MathJaxConfig: 'local'};</script>\n",
              "        <script charset=\"utf-8\" src=\"https://cdn.plot.ly/plotly-2.24.1.min.js\"></script>                <div id=\"389521ed-d6ec-4867-9e0e-e005c16e2dd6\" class=\"plotly-graph-div\" style=\"height:1000px; width:2000px;\"></div>            <script type=\"text/javascript\">                                    window.PLOTLYENV=window.PLOTLYENV || {};                                    if (document.getElementById(\"389521ed-d6ec-4867-9e0e-e005c16e2dd6\")) {                    Plotly.newPlot(                        \"389521ed-d6ec-4867-9e0e-e005c16e2dd6\",                        [{\"hovertemplate\":\"Category=Assault (Non-domestic)\\u003cbr\\u003eDate=%{x}\\u003cbr\\u003eCrime Count=%{y}\\u003cextra\\u003e\\u003c\\u002fextra\\u003e\",\"legendgroup\":\"Assault (Non-domestic)\",\"line\":{\"color\":\"#636efa\",\"dash\":\"solid\"},\"marker\":{\"symbol\":\"circle\"},\"mode\":\"lines\",\"name\":\"Assault (Non-domestic)\",\"orientation\":\"v\",\"showlegend\":true,\"x\":[\"2018-01-01T00:00:00\",\"2018-02-01T00:00:00\",\"2018-03-01T00:00:00\",\"2018-04-01T00:00:00\",\"2018-05-01T00:00:00\",\"2018-06-01T00:00:00\",\"2018-07-01T00:00:00\",\"2018-08-01T00:00:00\",\"2018-09-01T00:00:00\",\"2018-10-01T00:00:00\",\"2018-11-01T00:00:00\",\"2018-12-01T00:00:00\",\"2019-01-01T00:00:00\",\"2019-02-01T00:00:00\",\"2019-03-01T00:00:00\",\"2019-04-01T00:00:00\",\"2019-05-01T00:00:00\",\"2019-06-01T00:00:00\",\"2019-07-01T00:00:00\",\"2019-08-01T00:00:00\",\"2019-09-01T00:00:00\",\"2019-10-01T00:00:00\",\"2019-11-01T00:00:00\",\"2019-12-01T00:00:00\",\"2020-01-01T00:00:00\",\"2020-02-01T00:00:00\",\"2020-03-01T00:00:00\",\"2020-04-01T00:00:00\",\"2020-05-01T00:00:00\",\"2020-06-01T00:00:00\",\"2020-07-01T00:00:00\",\"2020-08-01T00:00:00\",\"2020-09-01T00:00:00\",\"2020-10-01T00:00:00\",\"2020-11-01T00:00:00\",\"2020-12-01T00:00:00\",\"2021-01-01T00:00:00\",\"2021-02-01T00:00:00\",\"2021-03-01T00:00:00\",\"2021-04-01T00:00:00\",\"2021-05-01T00:00:00\",\"2021-06-01T00:00:00\",\"2021-07-01T00:00:00\",\"2021-08-01T00:00:00\",\"2021-09-01T00:00:00\",\"2021-10-01T00:00:00\",\"2021-11-01T00:00:00\",\"2021-12-01T00:00:00\",\"2022-01-01T00:00:00\",\"2022-02-01T00:00:00\",\"2022-03-01T00:00:00\",\"2022-04-01T00:00:00\",\"2022-05-01T00:00:00\",\"2022-06-01T00:00:00\",\"2022-07-01T00:00:00\",\"2022-08-01T00:00:00\",\"2022-09-01T00:00:00\",\"2022-10-01T00:00:00\",\"2022-11-01T00:00:00\",\"2022-12-01T00:00:00\",\"2023-01-01T00:00:00\",\"2023-02-01T00:00:00\",\"2023-03-01T00:00:00\",\"2023-04-01T00:00:00\",\"2023-05-01T00:00:00\",\"2023-06-01T00:00:00\",\"2023-07-01T00:00:00\",\"2023-08-01T00:00:00\",\"2023-09-01T00:00:00\",\"2023-10-01T00:00:00\",\"2023-11-01T00:00:00\",\"2023-12-01T00:00:00\"],\"xaxis\":\"x\",\"y\":[256,260,291,294,402,378,329,351,296,337,311,323,345,251,319,304,330,350,379,332,330,361,313,299,278,330,247,222,229,335,392,373,351,289,247,236,277,243,290,291,312,389,384,397,391,371,392,299,321,309,365,313,366,391,377,380,350,370,299,298,299,323,383,387,431,451,418,433,393,355,357,346],\"yaxis\":\"y\",\"type\":\"scatter\"},{\"hovertemplate\":\"Category=Break & Enter - Commercial\\u003cbr\\u003eDate=%{x}\\u003cbr\\u003eCrime Count=%{y}\\u003cextra\\u003e\\u003c\\u002fextra\\u003e\",\"legendgroup\":\"Break & Enter - Commercial\",\"line\":{\"color\":\"#EF553B\",\"dash\":\"solid\"},\"marker\":{\"symbol\":\"circle\"},\"mode\":\"lines\",\"name\":\"Break & Enter - Commercial\",\"orientation\":\"v\",\"showlegend\":true,\"x\":[\"2018-01-01T00:00:00\",\"2018-02-01T00:00:00\",\"2018-03-01T00:00:00\",\"2018-04-01T00:00:00\",\"2018-05-01T00:00:00\",\"2018-06-01T00:00:00\",\"2018-07-01T00:00:00\",\"2018-08-01T00:00:00\",\"2018-09-01T00:00:00\",\"2018-10-01T00:00:00\",\"2018-11-01T00:00:00\",\"2018-12-01T00:00:00\",\"2019-01-01T00:00:00\",\"2019-02-01T00:00:00\",\"2019-03-01T00:00:00\",\"2019-04-01T00:00:00\",\"2019-05-01T00:00:00\",\"2019-06-01T00:00:00\",\"2019-07-01T00:00:00\",\"2019-08-01T00:00:00\",\"2019-09-01T00:00:00\",\"2019-10-01T00:00:00\",\"2019-11-01T00:00:00\",\"2019-12-01T00:00:00\",\"2020-01-01T00:00:00\",\"2020-02-01T00:00:00\",\"2020-03-01T00:00:00\",\"2020-04-01T00:00:00\",\"2020-05-01T00:00:00\",\"2020-06-01T00:00:00\",\"2020-07-01T00:00:00\",\"2020-08-01T00:00:00\",\"2020-09-01T00:00:00\",\"2020-10-01T00:00:00\",\"2020-11-01T00:00:00\",\"2020-12-01T00:00:00\",\"2021-01-01T00:00:00\",\"2021-02-01T00:00:00\",\"2021-03-01T00:00:00\",\"2021-04-01T00:00:00\",\"2021-05-01T00:00:00\",\"2021-06-01T00:00:00\",\"2021-07-01T00:00:00\",\"2021-08-01T00:00:00\",\"2021-09-01T00:00:00\",\"2021-10-01T00:00:00\",\"2021-11-01T00:00:00\",\"2021-12-01T00:00:00\",\"2022-01-01T00:00:00\",\"2022-02-01T00:00:00\",\"2022-03-01T00:00:00\",\"2022-04-01T00:00:00\",\"2022-05-01T00:00:00\",\"2022-06-01T00:00:00\",\"2022-07-01T00:00:00\",\"2022-08-01T00:00:00\",\"2022-09-01T00:00:00\",\"2022-10-01T00:00:00\",\"2022-11-01T00:00:00\",\"2022-12-01T00:00:00\",\"2023-01-01T00:00:00\",\"2023-02-01T00:00:00\",\"2023-03-01T00:00:00\",\"2023-04-01T00:00:00\",\"2023-05-01T00:00:00\",\"2023-06-01T00:00:00\",\"2023-07-01T00:00:00\",\"2023-08-01T00:00:00\",\"2023-09-01T00:00:00\",\"2023-10-01T00:00:00\",\"2023-11-01T00:00:00\",\"2023-12-01T00:00:00\"],\"xaxis\":\"x\",\"y\":[393,313,411,384,450,363,491,545,440,411,390,463,539,416,466,423,474,492,462,554,639,517,423,377,393,442,508,399,263,290,313,368,316,327,278,306,293,235,256,269,261,189,284,285,301,285,257,297,410,403,487,379,362,381,299,356,311,299,265,321,343,244,364,272,263,266,258,280,259,273,305,217],\"yaxis\":\"y\",\"type\":\"scatter\"},{\"hovertemplate\":\"Category=Break & Enter - Dwelling\\u003cbr\\u003eDate=%{x}\\u003cbr\\u003eCrime Count=%{y}\\u003cextra\\u003e\\u003c\\u002fextra\\u003e\",\"legendgroup\":\"Break & Enter - Dwelling\",\"line\":{\"color\":\"#00cc96\",\"dash\":\"solid\"},\"marker\":{\"symbol\":\"circle\"},\"mode\":\"lines\",\"name\":\"Break & Enter - Dwelling\",\"orientation\":\"v\",\"showlegend\":true,\"x\":[\"2018-01-01T00:00:00\",\"2018-02-01T00:00:00\",\"2018-03-01T00:00:00\",\"2018-04-01T00:00:00\",\"2018-05-01T00:00:00\",\"2018-06-01T00:00:00\",\"2018-07-01T00:00:00\",\"2018-08-01T00:00:00\",\"2018-09-01T00:00:00\",\"2018-10-01T00:00:00\",\"2018-11-01T00:00:00\",\"2018-12-01T00:00:00\",\"2019-01-01T00:00:00\",\"2019-02-01T00:00:00\",\"2019-03-01T00:00:00\",\"2019-04-01T00:00:00\",\"2019-05-01T00:00:00\",\"2019-06-01T00:00:00\",\"2019-07-01T00:00:00\",\"2019-08-01T00:00:00\",\"2019-09-01T00:00:00\",\"2019-10-01T00:00:00\",\"2019-11-01T00:00:00\",\"2019-12-01T00:00:00\",\"2020-01-01T00:00:00\",\"2020-02-01T00:00:00\",\"2020-03-01T00:00:00\",\"2020-04-01T00:00:00\",\"2020-05-01T00:00:00\",\"2020-06-01T00:00:00\",\"2020-07-01T00:00:00\",\"2020-08-01T00:00:00\",\"2020-09-01T00:00:00\",\"2020-10-01T00:00:00\",\"2020-11-01T00:00:00\",\"2020-12-01T00:00:00\",\"2021-01-01T00:00:00\",\"2021-02-01T00:00:00\",\"2021-03-01T00:00:00\",\"2021-04-01T00:00:00\",\"2021-05-01T00:00:00\",\"2021-06-01T00:00:00\",\"2021-07-01T00:00:00\",\"2021-08-01T00:00:00\",\"2021-09-01T00:00:00\",\"2021-10-01T00:00:00\",\"2021-11-01T00:00:00\",\"2021-12-01T00:00:00\",\"2022-01-01T00:00:00\",\"2022-02-01T00:00:00\",\"2022-03-01T00:00:00\",\"2022-04-01T00:00:00\",\"2022-05-01T00:00:00\",\"2022-06-01T00:00:00\",\"2022-07-01T00:00:00\",\"2022-08-01T00:00:00\",\"2022-09-01T00:00:00\",\"2022-10-01T00:00:00\",\"2022-11-01T00:00:00\",\"2022-12-01T00:00:00\",\"2023-01-01T00:00:00\",\"2023-02-01T00:00:00\",\"2023-03-01T00:00:00\",\"2023-04-01T00:00:00\",\"2023-05-01T00:00:00\",\"2023-06-01T00:00:00\",\"2023-07-01T00:00:00\",\"2023-08-01T00:00:00\",\"2023-09-01T00:00:00\",\"2023-10-01T00:00:00\",\"2023-11-01T00:00:00\",\"2023-12-01T00:00:00\"],\"xaxis\":\"x\",\"y\":[216,186,210,177,201,249,266,295,240,265,188,200,178,128,163,152,172,258,277,249,277,193,168,186,159,168,142,107,109,119,136,206,158,152,118,112,105,83,86,104,104,132,171,197,145,150,160,140,143,112,159,110,142,158,144,135,136,143,83,121,139,87,125,131,127,150,128,140,136,106,115,141],\"yaxis\":\"y\",\"type\":\"scatter\"},{\"hovertemplate\":\"Category=Break & Enter - Other Premises\\u003cbr\\u003eDate=%{x}\\u003cbr\\u003eCrime Count=%{y}\\u003cextra\\u003e\\u003c\\u002fextra\\u003e\",\"legendgroup\":\"Break & Enter - Other Premises\",\"line\":{\"color\":\"#ab63fa\",\"dash\":\"solid\"},\"marker\":{\"symbol\":\"circle\"},\"mode\":\"lines\",\"name\":\"Break & Enter - Other Premises\",\"orientation\":\"v\",\"showlegend\":true,\"x\":[\"2018-01-01T00:00:00\",\"2018-02-01T00:00:00\",\"2018-03-01T00:00:00\",\"2018-04-01T00:00:00\",\"2018-05-01T00:00:00\",\"2018-06-01T00:00:00\",\"2018-07-01T00:00:00\",\"2018-08-01T00:00:00\",\"2018-09-01T00:00:00\",\"2018-10-01T00:00:00\",\"2018-11-01T00:00:00\",\"2018-12-01T00:00:00\",\"2019-01-01T00:00:00\",\"2019-02-01T00:00:00\",\"2019-03-01T00:00:00\",\"2019-04-01T00:00:00\",\"2019-05-01T00:00:00\",\"2019-06-01T00:00:00\",\"2019-07-01T00:00:00\",\"2019-08-01T00:00:00\",\"2019-09-01T00:00:00\",\"2019-10-01T00:00:00\",\"2019-11-01T00:00:00\",\"2019-12-01T00:00:00\",\"2020-01-01T00:00:00\",\"2020-02-01T00:00:00\",\"2020-03-01T00:00:00\",\"2020-04-01T00:00:00\",\"2020-05-01T00:00:00\",\"2020-06-01T00:00:00\",\"2020-07-01T00:00:00\",\"2020-08-01T00:00:00\",\"2020-09-01T00:00:00\",\"2020-10-01T00:00:00\",\"2020-11-01T00:00:00\",\"2020-12-01T00:00:00\",\"2021-01-01T00:00:00\",\"2021-02-01T00:00:00\",\"2021-03-01T00:00:00\",\"2021-04-01T00:00:00\",\"2021-05-01T00:00:00\",\"2021-06-01T00:00:00\",\"2021-07-01T00:00:00\",\"2021-08-01T00:00:00\",\"2021-09-01T00:00:00\",\"2021-10-01T00:00:00\",\"2021-11-01T00:00:00\",\"2021-12-01T00:00:00\",\"2022-01-01T00:00:00\",\"2022-02-01T00:00:00\",\"2022-03-01T00:00:00\",\"2022-04-01T00:00:00\",\"2022-05-01T00:00:00\",\"2022-06-01T00:00:00\",\"2022-07-01T00:00:00\",\"2022-08-01T00:00:00\",\"2022-09-01T00:00:00\",\"2022-10-01T00:00:00\",\"2022-11-01T00:00:00\",\"2022-12-01T00:00:00\",\"2023-01-01T00:00:00\",\"2023-02-01T00:00:00\",\"2023-03-01T00:00:00\",\"2023-04-01T00:00:00\",\"2023-05-01T00:00:00\",\"2023-06-01T00:00:00\",\"2023-07-01T00:00:00\",\"2023-08-01T00:00:00\",\"2023-09-01T00:00:00\",\"2023-10-01T00:00:00\",\"2023-11-01T00:00:00\",\"2023-12-01T00:00:00\"],\"xaxis\":\"x\",\"y\":[133,115,106,184,213,222,215,197,213,191,167,147,174,142,168,192,202,214,219,259,215,190,158,170,179,180,179,203,147,222,217,301,299,220,199,154,151,87,133,133,136,159,175,177,192,176,168,148,170,156,199,202,200,189,150,155,150,146,113,118,99,73,75,114,123,128,138,163,97,95,127,66],\"yaxis\":\"y\",\"type\":\"scatter\"},{\"hovertemplate\":\"Category=Commercial Robbery\\u003cbr\\u003eDate=%{x}\\u003cbr\\u003eCrime Count=%{y}\\u003cextra\\u003e\\u003c\\u002fextra\\u003e\",\"legendgroup\":\"Commercial Robbery\",\"line\":{\"color\":\"#FFA15A\",\"dash\":\"solid\"},\"marker\":{\"symbol\":\"circle\"},\"mode\":\"lines\",\"name\":\"Commercial Robbery\",\"orientation\":\"v\",\"showlegend\":true,\"x\":[\"2018-01-01T00:00:00\",\"2018-02-01T00:00:00\",\"2018-03-01T00:00:00\",\"2018-04-01T00:00:00\",\"2018-05-01T00:00:00\",\"2018-06-01T00:00:00\",\"2018-07-01T00:00:00\",\"2018-08-01T00:00:00\",\"2018-09-01T00:00:00\",\"2018-10-01T00:00:00\",\"2018-11-01T00:00:00\",\"2018-12-01T00:00:00\",\"2019-01-01T00:00:00\",\"2019-02-01T00:00:00\",\"2019-03-01T00:00:00\",\"2019-04-01T00:00:00\",\"2019-05-01T00:00:00\",\"2019-06-01T00:00:00\",\"2019-07-01T00:00:00\",\"2019-08-01T00:00:00\",\"2019-09-01T00:00:00\",\"2019-10-01T00:00:00\",\"2019-11-01T00:00:00\",\"2019-12-01T00:00:00\",\"2020-01-01T00:00:00\",\"2020-02-01T00:00:00\",\"2020-03-01T00:00:00\",\"2020-04-01T00:00:00\",\"2020-05-01T00:00:00\",\"2020-06-01T00:00:00\",\"2020-07-01T00:00:00\",\"2020-08-01T00:00:00\",\"2020-09-01T00:00:00\",\"2020-10-01T00:00:00\",\"2020-11-01T00:00:00\",\"2020-12-01T00:00:00\",\"2021-01-01T00:00:00\",\"2021-02-01T00:00:00\",\"2021-03-01T00:00:00\",\"2021-04-01T00:00:00\",\"2021-05-01T00:00:00\",\"2021-06-01T00:00:00\",\"2021-07-01T00:00:00\",\"2021-08-01T00:00:00\",\"2021-09-01T00:00:00\",\"2021-10-01T00:00:00\",\"2021-11-01T00:00:00\",\"2021-12-01T00:00:00\",\"2022-01-01T00:00:00\",\"2022-02-01T00:00:00\",\"2022-03-01T00:00:00\",\"2022-04-01T00:00:00\",\"2022-05-01T00:00:00\",\"2022-06-01T00:00:00\",\"2022-07-01T00:00:00\",\"2022-08-01T00:00:00\",\"2022-09-01T00:00:00\",\"2022-10-01T00:00:00\",\"2022-11-01T00:00:00\",\"2022-12-01T00:00:00\",\"2023-01-01T00:00:00\",\"2023-02-01T00:00:00\",\"2023-03-01T00:00:00\",\"2023-04-01T00:00:00\",\"2023-05-01T00:00:00\",\"2023-06-01T00:00:00\",\"2023-07-01T00:00:00\",\"2023-08-01T00:00:00\",\"2023-09-01T00:00:00\",\"2023-10-01T00:00:00\",\"2023-11-01T00:00:00\",\"2023-12-01T00:00:00\"],\"xaxis\":\"x\",\"y\":[25,24,22,21,33,31,25,22,24,26,33,19,24,32,24,20,21,28,32,20,34,43,52,52,31,32,31,13,10,12,11,27,35,19,30,30,34,30,25,19,18,29,25,39,25,33,33,49,46,43,51,34,25,41,19,22,34,37,21,18,23,21,28,19,22,30,24,23,18,25,41,37],\"yaxis\":\"y\",\"type\":\"scatter\"},{\"hovertemplate\":\"Category=Street Robbery\\u003cbr\\u003eDate=%{x}\\u003cbr\\u003eCrime Count=%{y}\\u003cextra\\u003e\\u003c\\u002fextra\\u003e\",\"legendgroup\":\"Street Robbery\",\"line\":{\"color\":\"#19d3f3\",\"dash\":\"solid\"},\"marker\":{\"symbol\":\"circle\"},\"mode\":\"lines\",\"name\":\"Street Robbery\",\"orientation\":\"v\",\"showlegend\":true,\"x\":[\"2018-01-01T00:00:00\",\"2018-02-01T00:00:00\",\"2018-03-01T00:00:00\",\"2018-04-01T00:00:00\",\"2018-05-01T00:00:00\",\"2018-06-01T00:00:00\",\"2018-07-01T00:00:00\",\"2018-08-01T00:00:00\",\"2018-09-01T00:00:00\",\"2018-10-01T00:00:00\",\"2018-11-01T00:00:00\",\"2018-12-01T00:00:00\",\"2019-01-01T00:00:00\",\"2019-02-01T00:00:00\",\"2019-03-01T00:00:00\",\"2019-04-01T00:00:00\",\"2019-05-01T00:00:00\",\"2019-06-01T00:00:00\",\"2019-07-01T00:00:00\",\"2019-08-01T00:00:00\",\"2019-09-01T00:00:00\",\"2019-10-01T00:00:00\",\"2019-11-01T00:00:00\",\"2019-12-01T00:00:00\",\"2020-01-01T00:00:00\",\"2020-02-01T00:00:00\",\"2020-03-01T00:00:00\",\"2020-04-01T00:00:00\",\"2020-05-01T00:00:00\",\"2020-06-01T00:00:00\",\"2020-07-01T00:00:00\",\"2020-08-01T00:00:00\",\"2020-09-01T00:00:00\",\"2020-10-01T00:00:00\",\"2020-11-01T00:00:00\",\"2020-12-01T00:00:00\",\"2021-01-01T00:00:00\",\"2021-02-01T00:00:00\",\"2021-03-01T00:00:00\",\"2021-04-01T00:00:00\",\"2021-05-01T00:00:00\",\"2021-06-01T00:00:00\",\"2021-07-01T00:00:00\",\"2021-08-01T00:00:00\",\"2021-09-01T00:00:00\",\"2021-10-01T00:00:00\",\"2021-11-01T00:00:00\",\"2021-12-01T00:00:00\",\"2022-01-01T00:00:00\",\"2022-02-01T00:00:00\",\"2022-03-01T00:00:00\",\"2022-04-01T00:00:00\",\"2022-05-01T00:00:00\",\"2022-06-01T00:00:00\",\"2022-07-01T00:00:00\",\"2022-08-01T00:00:00\",\"2022-09-01T00:00:00\",\"2022-10-01T00:00:00\",\"2022-11-01T00:00:00\",\"2022-12-01T00:00:00\",\"2023-01-01T00:00:00\",\"2023-02-01T00:00:00\",\"2023-03-01T00:00:00\",\"2023-04-01T00:00:00\",\"2023-05-01T00:00:00\",\"2023-06-01T00:00:00\",\"2023-07-01T00:00:00\",\"2023-08-01T00:00:00\",\"2023-09-01T00:00:00\",\"2023-10-01T00:00:00\",\"2023-11-01T00:00:00\",\"2023-12-01T00:00:00\"],\"xaxis\":\"x\",\"y\":[38,35,39,43,71,52,61,63,61,62,70,63,64,20,54,52,49,45,64,58,73,71,51,48,66,59,52,28,32,23,40,59,42,43,46,35,32,43,36,53,63,46,63,48,45,52,60,34,51,40,38,33,49,33,37,61,65,58,38,33,43,45,75,55,71,75,60,62,57,54,49,47],\"yaxis\":\"y\",\"type\":\"scatter\"},{\"hovertemplate\":\"Category=Theft FROM Vehicle\\u003cbr\\u003eDate=%{x}\\u003cbr\\u003eCrime Count=%{y}\\u003cextra\\u003e\\u003c\\u002fextra\\u003e\",\"legendgroup\":\"Theft FROM Vehicle\",\"line\":{\"color\":\"#FF6692\",\"dash\":\"solid\"},\"marker\":{\"symbol\":\"circle\"},\"mode\":\"lines\",\"name\":\"Theft FROM Vehicle\",\"orientation\":\"v\",\"showlegend\":true,\"x\":[\"2018-01-01T00:00:00\",\"2018-02-01T00:00:00\",\"2018-03-01T00:00:00\",\"2018-04-01T00:00:00\",\"2018-05-01T00:00:00\",\"2018-06-01T00:00:00\",\"2018-07-01T00:00:00\",\"2018-08-01T00:00:00\",\"2018-09-01T00:00:00\",\"2018-10-01T00:00:00\",\"2018-11-01T00:00:00\",\"2018-12-01T00:00:00\",\"2019-01-01T00:00:00\",\"2019-02-01T00:00:00\",\"2019-03-01T00:00:00\",\"2019-04-01T00:00:00\",\"2019-05-01T00:00:00\",\"2019-06-01T00:00:00\",\"2019-07-01T00:00:00\",\"2019-08-01T00:00:00\",\"2019-09-01T00:00:00\",\"2019-10-01T00:00:00\",\"2019-11-01T00:00:00\",\"2019-12-01T00:00:00\",\"2020-01-01T00:00:00\",\"2020-02-01T00:00:00\",\"2020-03-01T00:00:00\",\"2020-04-01T00:00:00\",\"2020-05-01T00:00:00\",\"2020-06-01T00:00:00\",\"2020-07-01T00:00:00\",\"2020-08-01T00:00:00\",\"2020-09-01T00:00:00\",\"2020-10-01T00:00:00\",\"2020-11-01T00:00:00\",\"2020-12-01T00:00:00\",\"2021-01-01T00:00:00\",\"2021-02-01T00:00:00\",\"2021-03-01T00:00:00\",\"2021-04-01T00:00:00\",\"2021-05-01T00:00:00\",\"2021-06-01T00:00:00\",\"2021-07-01T00:00:00\",\"2021-08-01T00:00:00\",\"2021-09-01T00:00:00\",\"2021-10-01T00:00:00\",\"2021-11-01T00:00:00\",\"2021-12-01T00:00:00\",\"2022-01-01T00:00:00\",\"2022-02-01T00:00:00\",\"2022-03-01T00:00:00\",\"2022-04-01T00:00:00\",\"2022-05-01T00:00:00\",\"2022-06-01T00:00:00\",\"2022-07-01T00:00:00\",\"2022-08-01T00:00:00\",\"2022-09-01T00:00:00\",\"2022-10-01T00:00:00\",\"2022-11-01T00:00:00\",\"2022-12-01T00:00:00\",\"2023-01-01T00:00:00\",\"2023-02-01T00:00:00\",\"2023-03-01T00:00:00\",\"2023-04-01T00:00:00\",\"2023-05-01T00:00:00\",\"2023-06-01T00:00:00\",\"2023-07-01T00:00:00\",\"2023-08-01T00:00:00\",\"2023-09-01T00:00:00\",\"2023-10-01T00:00:00\",\"2023-11-01T00:00:00\",\"2023-12-01T00:00:00\"],\"xaxis\":\"x\",\"y\":[959,638,815,870,1059,1033,1315,1399,1289,1267,1027,953,1094,713,917,1093,1265,1342,1519,1613,1507,1310,1250,1100,1169,1203,1080,1067,793,821,1072,1187,1219,1220,877,679,818,615,846,819,844,778,901,962,909,943,937,786,1055,895,1194,1062,1144,1212,1090,1134,971,935,838,814,859,754,866,808,879,896,842,734,686,592,589,446],\"yaxis\":\"y\",\"type\":\"scatter\"},{\"hovertemplate\":\"Category=Theft OF Vehicle\\u003cbr\\u003eDate=%{x}\\u003cbr\\u003eCrime Count=%{y}\\u003cextra\\u003e\\u003c\\u002fextra\\u003e\",\"legendgroup\":\"Theft OF Vehicle\",\"line\":{\"color\":\"#B6E880\",\"dash\":\"solid\"},\"marker\":{\"symbol\":\"circle\"},\"mode\":\"lines\",\"name\":\"Theft OF Vehicle\",\"orientation\":\"v\",\"showlegend\":true,\"x\":[\"2018-01-01T00:00:00\",\"2018-02-01T00:00:00\",\"2018-03-01T00:00:00\",\"2018-04-01T00:00:00\",\"2018-05-01T00:00:00\",\"2018-06-01T00:00:00\",\"2018-07-01T00:00:00\",\"2018-08-01T00:00:00\",\"2018-09-01T00:00:00\",\"2018-10-01T00:00:00\",\"2018-11-01T00:00:00\",\"2018-12-01T00:00:00\",\"2019-01-01T00:00:00\",\"2019-02-01T00:00:00\",\"2019-03-01T00:00:00\",\"2019-04-01T00:00:00\",\"2019-05-01T00:00:00\",\"2019-06-01T00:00:00\",\"2019-07-01T00:00:00\",\"2019-08-01T00:00:00\",\"2019-09-01T00:00:00\",\"2019-10-01T00:00:00\",\"2019-11-01T00:00:00\",\"2019-12-01T00:00:00\",\"2020-01-01T00:00:00\",\"2020-02-01T00:00:00\",\"2020-03-01T00:00:00\",\"2020-04-01T00:00:00\",\"2020-05-01T00:00:00\",\"2020-06-01T00:00:00\",\"2020-07-01T00:00:00\",\"2020-08-01T00:00:00\",\"2020-09-01T00:00:00\",\"2020-10-01T00:00:00\",\"2020-11-01T00:00:00\",\"2020-12-01T00:00:00\",\"2021-01-01T00:00:00\",\"2021-02-01T00:00:00\",\"2021-03-01T00:00:00\",\"2021-04-01T00:00:00\",\"2021-05-01T00:00:00\",\"2021-06-01T00:00:00\",\"2021-07-01T00:00:00\",\"2021-08-01T00:00:00\",\"2021-09-01T00:00:00\",\"2021-10-01T00:00:00\",\"2021-11-01T00:00:00\",\"2021-12-01T00:00:00\",\"2022-01-01T00:00:00\",\"2022-02-01T00:00:00\",\"2022-03-01T00:00:00\",\"2022-04-01T00:00:00\",\"2022-05-01T00:00:00\",\"2022-06-01T00:00:00\",\"2022-07-01T00:00:00\",\"2022-08-01T00:00:00\",\"2022-09-01T00:00:00\",\"2022-10-01T00:00:00\",\"2022-11-01T00:00:00\",\"2022-12-01T00:00:00\",\"2023-01-01T00:00:00\",\"2023-02-01T00:00:00\",\"2023-03-01T00:00:00\",\"2023-04-01T00:00:00\",\"2023-05-01T00:00:00\",\"2023-06-01T00:00:00\",\"2023-07-01T00:00:00\",\"2023-08-01T00:00:00\",\"2023-09-01T00:00:00\",\"2023-10-01T00:00:00\",\"2023-11-01T00:00:00\",\"2023-12-01T00:00:00\"],\"xaxis\":\"x\",\"y\":[600,550,501,513,455,419,591,503,492,478,455,499,460,465,433,440,483,464,625,561,647,507,505,438,509,441,468,420,259,295,354,379,408,409,350,357,437,378,319,351,314,323,391,371,369,351,385,456,477,456,542,432,464,447,441,532,351,429,396,452,423,343,437,323,369,379,375,353,401,348,335,362],\"yaxis\":\"y\",\"type\":\"scatter\"},{\"hovertemplate\":\"Category=Violence Other (Non-domestic)\\u003cbr\\u003eDate=%{x}\\u003cbr\\u003eCrime Count=%{y}\\u003cextra\\u003e\\u003c\\u002fextra\\u003e\",\"legendgroup\":\"Violence Other (Non-domestic)\",\"line\":{\"color\":\"#FF97FF\",\"dash\":\"solid\"},\"marker\":{\"symbol\":\"circle\"},\"mode\":\"lines\",\"name\":\"Violence Other (Non-domestic)\",\"orientation\":\"v\",\"showlegend\":true,\"x\":[\"2018-01-01T00:00:00\",\"2018-02-01T00:00:00\",\"2018-03-01T00:00:00\",\"2018-04-01T00:00:00\",\"2018-05-01T00:00:00\",\"2018-06-01T00:00:00\",\"2018-07-01T00:00:00\",\"2018-08-01T00:00:00\",\"2018-09-01T00:00:00\",\"2018-10-01T00:00:00\",\"2018-11-01T00:00:00\",\"2018-12-01T00:00:00\",\"2019-01-01T00:00:00\",\"2019-02-01T00:00:00\",\"2019-03-01T00:00:00\",\"2019-04-01T00:00:00\",\"2019-05-01T00:00:00\",\"2019-06-01T00:00:00\",\"2019-07-01T00:00:00\",\"2019-08-01T00:00:00\",\"2019-09-01T00:00:00\",\"2019-10-01T00:00:00\",\"2019-11-01T00:00:00\",\"2019-12-01T00:00:00\",\"2020-01-01T00:00:00\",\"2020-02-01T00:00:00\",\"2020-03-01T00:00:00\",\"2020-04-01T00:00:00\",\"2020-05-01T00:00:00\",\"2020-06-01T00:00:00\",\"2020-07-01T00:00:00\",\"2020-08-01T00:00:00\",\"2020-09-01T00:00:00\",\"2020-10-01T00:00:00\",\"2020-11-01T00:00:00\",\"2020-12-01T00:00:00\",\"2021-01-01T00:00:00\",\"2021-02-01T00:00:00\",\"2021-03-01T00:00:00\",\"2021-04-01T00:00:00\",\"2021-05-01T00:00:00\",\"2021-06-01T00:00:00\",\"2021-07-01T00:00:00\",\"2021-08-01T00:00:00\",\"2021-09-01T00:00:00\",\"2021-10-01T00:00:00\",\"2021-11-01T00:00:00\",\"2021-12-01T00:00:00\",\"2022-01-01T00:00:00\",\"2022-02-01T00:00:00\",\"2022-03-01T00:00:00\",\"2022-04-01T00:00:00\",\"2022-05-01T00:00:00\",\"2022-06-01T00:00:00\",\"2022-07-01T00:00:00\",\"2022-08-01T00:00:00\",\"2022-09-01T00:00:00\",\"2022-10-01T00:00:00\",\"2022-11-01T00:00:00\",\"2022-12-01T00:00:00\",\"2023-01-01T00:00:00\",\"2023-02-01T00:00:00\",\"2023-03-01T00:00:00\",\"2023-04-01T00:00:00\",\"2023-05-01T00:00:00\",\"2023-06-01T00:00:00\",\"2023-07-01T00:00:00\",\"2023-08-01T00:00:00\",\"2023-09-01T00:00:00\",\"2023-10-01T00:00:00\",\"2023-11-01T00:00:00\",\"2023-12-01T00:00:00\"],\"xaxis\":\"x\",\"y\":[190,146,175,154,175,188,158,182,154,174,165,150,204,153,158,147,169,163,180,146,163,158,180,152,196,159,146,124,138,182,203,192,191,182,166,135,182,131,177,164,169,190,181,195,220,186,198,186,146,172,174,170,168,156,218,156,184,208,158,174,174,168,193,185,237,199,203,186,168,155,139,122],\"yaxis\":\"y\",\"type\":\"scatter\"}],                        {\"template\":{\"data\":{\"histogram2dcontour\":[{\"type\":\"histogram2dcontour\",\"colorbar\":{\"outlinewidth\":0,\"ticks\":\"\"},\"colorscale\":[[0.0,\"#0d0887\"],[0.1111111111111111,\"#46039f\"],[0.2222222222222222,\"#7201a8\"],[0.3333333333333333,\"#9c179e\"],[0.4444444444444444,\"#bd3786\"],[0.5555555555555556,\"#d8576b\"],[0.6666666666666666,\"#ed7953\"],[0.7777777777777778,\"#fb9f3a\"],[0.8888888888888888,\"#fdca26\"],[1.0,\"#f0f921\"]]}],\"choropleth\":[{\"type\":\"choropleth\",\"colorbar\":{\"outlinewidth\":0,\"ticks\":\"\"}}],\"histogram2d\":[{\"type\":\"histogram2d\",\"colorbar\":{\"outlinewidth\":0,\"ticks\":\"\"},\"colorscale\":[[0.0,\"#0d0887\"],[0.1111111111111111,\"#46039f\"],[0.2222222222222222,\"#7201a8\"],[0.3333333333333333,\"#9c179e\"],[0.4444444444444444,\"#bd3786\"],[0.5555555555555556,\"#d8576b\"],[0.6666666666666666,\"#ed7953\"],[0.7777777777777778,\"#fb9f3a\"],[0.8888888888888888,\"#fdca26\"],[1.0,\"#f0f921\"]]}],\"heatmap\":[{\"type\":\"heatmap\",\"colorbar\":{\"outlinewidth\":0,\"ticks\":\"\"},\"colorscale\":[[0.0,\"#0d0887\"],[0.1111111111111111,\"#46039f\"],[0.2222222222222222,\"#7201a8\"],[0.3333333333333333,\"#9c179e\"],[0.4444444444444444,\"#bd3786\"],[0.5555555555555556,\"#d8576b\"],[0.6666666666666666,\"#ed7953\"],[0.7777777777777778,\"#fb9f3a\"],[0.8888888888888888,\"#fdca26\"],[1.0,\"#f0f921\"]]}],\"heatmapgl\":[{\"type\":\"heatmapgl\",\"colorbar\":{\"outlinewidth\":0,\"ticks\":\"\"},\"colorscale\":[[0.0,\"#0d0887\"],[0.1111111111111111,\"#46039f\"],[0.2222222222222222,\"#7201a8\"],[0.3333333333333333,\"#9c179e\"],[0.4444444444444444,\"#bd3786\"],[0.5555555555555556,\"#d8576b\"],[0.6666666666666666,\"#ed7953\"],[0.7777777777777778,\"#fb9f3a\"],[0.8888888888888888,\"#fdca26\"],[1.0,\"#f0f921\"]]}],\"contourcarpet\":[{\"type\":\"contourcarpet\",\"colorbar\":{\"outlinewidth\":0,\"ticks\":\"\"}}],\"contour\":[{\"type\":\"contour\",\"colorbar\":{\"outlinewidth\":0,\"ticks\":\"\"},\"colorscale\":[[0.0,\"#0d0887\"],[0.1111111111111111,\"#46039f\"],[0.2222222222222222,\"#7201a8\"],[0.3333333333333333,\"#9c179e\"],[0.4444444444444444,\"#bd3786\"],[0.5555555555555556,\"#d8576b\"],[0.6666666666666666,\"#ed7953\"],[0.7777777777777778,\"#fb9f3a\"],[0.8888888888888888,\"#fdca26\"],[1.0,\"#f0f921\"]]}],\"surface\":[{\"type\":\"surface\",\"colorbar\":{\"outlinewidth\":0,\"ticks\":\"\"},\"colorscale\":[[0.0,\"#0d0887\"],[0.1111111111111111,\"#46039f\"],[0.2222222222222222,\"#7201a8\"],[0.3333333333333333,\"#9c179e\"],[0.4444444444444444,\"#bd3786\"],[0.5555555555555556,\"#d8576b\"],[0.6666666666666666,\"#ed7953\"],[0.7777777777777778,\"#fb9f3a\"],[0.8888888888888888,\"#fdca26\"],[1.0,\"#f0f921\"]]}],\"mesh3d\":[{\"type\":\"mesh3d\",\"colorbar\":{\"outlinewidth\":0,\"ticks\":\"\"}}],\"scatter\":[{\"fillpattern\":{\"fillmode\":\"overlay\",\"size\":10,\"solidity\":0.2},\"type\":\"scatter\"}],\"parcoords\":[{\"type\":\"parcoords\",\"line\":{\"colorbar\":{\"outlinewidth\":0,\"ticks\":\"\"}}}],\"scatterpolargl\":[{\"type\":\"scatterpolargl\",\"marker\":{\"colorbar\":{\"outlinewidth\":0,\"ticks\":\"\"}}}],\"bar\":[{\"error_x\":{\"color\":\"#2a3f5f\"},\"error_y\":{\"color\":\"#2a3f5f\"},\"marker\":{\"line\":{\"color\":\"#E5ECF6\",\"width\":0.5},\"pattern\":{\"fillmode\":\"overlay\",\"size\":10,\"solidity\":0.2}},\"type\":\"bar\"}],\"scattergeo\":[{\"type\":\"scattergeo\",\"marker\":{\"colorbar\":{\"outlinewidth\":0,\"ticks\":\"\"}}}],\"scatterpolar\":[{\"type\":\"scatterpolar\",\"marker\":{\"colorbar\":{\"outlinewidth\":0,\"ticks\":\"\"}}}],\"histogram\":[{\"marker\":{\"pattern\":{\"fillmode\":\"overlay\",\"size\":10,\"solidity\":0.2}},\"type\":\"histogram\"}],\"scattergl\":[{\"type\":\"scattergl\",\"marker\":{\"colorbar\":{\"outlinewidth\":0,\"ticks\":\"\"}}}],\"scatter3d\":[{\"type\":\"scatter3d\",\"line\":{\"colorbar\":{\"outlinewidth\":0,\"ticks\":\"\"}},\"marker\":{\"colorbar\":{\"outlinewidth\":0,\"ticks\":\"\"}}}],\"scattermapbox\":[{\"type\":\"scattermapbox\",\"marker\":{\"colorbar\":{\"outlinewidth\":0,\"ticks\":\"\"}}}],\"scatterternary\":[{\"type\":\"scatterternary\",\"marker\":{\"colorbar\":{\"outlinewidth\":0,\"ticks\":\"\"}}}],\"scattercarpet\":[{\"type\":\"scattercarpet\",\"marker\":{\"colorbar\":{\"outlinewidth\":0,\"ticks\":\"\"}}}],\"carpet\":[{\"aaxis\":{\"endlinecolor\":\"#2a3f5f\",\"gridcolor\":\"white\",\"linecolor\":\"white\",\"minorgridcolor\":\"white\",\"startlinecolor\":\"#2a3f5f\"},\"baxis\":{\"endlinecolor\":\"#2a3f5f\",\"gridcolor\":\"white\",\"linecolor\":\"white\",\"minorgridcolor\":\"white\",\"startlinecolor\":\"#2a3f5f\"},\"type\":\"carpet\"}],\"table\":[{\"cells\":{\"fill\":{\"color\":\"#EBF0F8\"},\"line\":{\"color\":\"white\"}},\"header\":{\"fill\":{\"color\":\"#C8D4E3\"},\"line\":{\"color\":\"white\"}},\"type\":\"table\"}],\"barpolar\":[{\"marker\":{\"line\":{\"color\":\"#E5ECF6\",\"width\":0.5},\"pattern\":{\"fillmode\":\"overlay\",\"size\":10,\"solidity\":0.2}},\"type\":\"barpolar\"}],\"pie\":[{\"automargin\":true,\"type\":\"pie\"}]},\"layout\":{\"autotypenumbers\":\"strict\",\"colorway\":[\"#636efa\",\"#EF553B\",\"#00cc96\",\"#ab63fa\",\"#FFA15A\",\"#19d3f3\",\"#FF6692\",\"#B6E880\",\"#FF97FF\",\"#FECB52\"],\"font\":{\"color\":\"#2a3f5f\"},\"hovermode\":\"closest\",\"hoverlabel\":{\"align\":\"left\"},\"paper_bgcolor\":\"white\",\"plot_bgcolor\":\"#E5ECF6\",\"polar\":{\"bgcolor\":\"#E5ECF6\",\"angularaxis\":{\"gridcolor\":\"white\",\"linecolor\":\"white\",\"ticks\":\"\"},\"radialaxis\":{\"gridcolor\":\"white\",\"linecolor\":\"white\",\"ticks\":\"\"}},\"ternary\":{\"bgcolor\":\"#E5ECF6\",\"aaxis\":{\"gridcolor\":\"white\",\"linecolor\":\"white\",\"ticks\":\"\"},\"baxis\":{\"gridcolor\":\"white\",\"linecolor\":\"white\",\"ticks\":\"\"},\"caxis\":{\"gridcolor\":\"white\",\"linecolor\":\"white\",\"ticks\":\"\"}},\"coloraxis\":{\"colorbar\":{\"outlinewidth\":0,\"ticks\":\"\"}},\"colorscale\":{\"sequential\":[[0.0,\"#0d0887\"],[0.1111111111111111,\"#46039f\"],[0.2222222222222222,\"#7201a8\"],[0.3333333333333333,\"#9c179e\"],[0.4444444444444444,\"#bd3786\"],[0.5555555555555556,\"#d8576b\"],[0.6666666666666666,\"#ed7953\"],[0.7777777777777778,\"#fb9f3a\"],[0.8888888888888888,\"#fdca26\"],[1.0,\"#f0f921\"]],\"sequentialminus\":[[0.0,\"#0d0887\"],[0.1111111111111111,\"#46039f\"],[0.2222222222222222,\"#7201a8\"],[0.3333333333333333,\"#9c179e\"],[0.4444444444444444,\"#bd3786\"],[0.5555555555555556,\"#d8576b\"],[0.6666666666666666,\"#ed7953\"],[0.7777777777777778,\"#fb9f3a\"],[0.8888888888888888,\"#fdca26\"],[1.0,\"#f0f921\"]],\"diverging\":[[0,\"#8e0152\"],[0.1,\"#c51b7d\"],[0.2,\"#de77ae\"],[0.3,\"#f1b6da\"],[0.4,\"#fde0ef\"],[0.5,\"#f7f7f7\"],[0.6,\"#e6f5d0\"],[0.7,\"#b8e186\"],[0.8,\"#7fbc41\"],[0.9,\"#4d9221\"],[1,\"#276419\"]]},\"xaxis\":{\"gridcolor\":\"white\",\"linecolor\":\"white\",\"ticks\":\"\",\"title\":{\"standoff\":15},\"zerolinecolor\":\"white\",\"automargin\":true,\"zerolinewidth\":2},\"yaxis\":{\"gridcolor\":\"white\",\"linecolor\":\"white\",\"ticks\":\"\",\"title\":{\"standoff\":15},\"zerolinecolor\":\"white\",\"automargin\":true,\"zerolinewidth\":2},\"scene\":{\"xaxis\":{\"backgroundcolor\":\"#E5ECF6\",\"gridcolor\":\"white\",\"linecolor\":\"white\",\"showbackground\":true,\"ticks\":\"\",\"zerolinecolor\":\"white\",\"gridwidth\":2},\"yaxis\":{\"backgroundcolor\":\"#E5ECF6\",\"gridcolor\":\"white\",\"linecolor\":\"white\",\"showbackground\":true,\"ticks\":\"\",\"zerolinecolor\":\"white\",\"gridwidth\":2},\"zaxis\":{\"backgroundcolor\":\"#E5ECF6\",\"gridcolor\":\"white\",\"linecolor\":\"white\",\"showbackground\":true,\"ticks\":\"\",\"zerolinecolor\":\"white\",\"gridwidth\":2}},\"shapedefaults\":{\"line\":{\"color\":\"#2a3f5f\"}},\"annotationdefaults\":{\"arrowcolor\":\"#2a3f5f\",\"arrowhead\":0,\"arrowwidth\":1},\"geo\":{\"bgcolor\":\"white\",\"landcolor\":\"#E5ECF6\",\"subunitcolor\":\"white\",\"showland\":true,\"showlakes\":true,\"lakecolor\":\"white\"},\"title\":{\"x\":0.05},\"mapbox\":{\"style\":\"light\"}}},\"xaxis\":{\"anchor\":\"y\",\"domain\":[0.0,1.0],\"title\":{\"text\":\"Date\"}},\"yaxis\":{\"anchor\":\"x\",\"domain\":[0.0,1.0],\"title\":{\"text\":\"Crime count\"}},\"legend\":{\"title\":{\"text\":\"Category\"},\"tracegroupgap\":0},\"title\":{\"text\":\"Crime Count Over Time by Type\"},\"width\":2000,\"height\":1000},                        {\"responsive\": true}                    ).then(function(){\n",
              "                            \n",
              "var gd = document.getElementById('389521ed-d6ec-4867-9e0e-e005c16e2dd6');\n",
              "var x = new MutationObserver(function (mutations, observer) {{\n",
              "        var display = window.getComputedStyle(gd).display;\n",
              "        if (!display || display === 'none') {{\n",
              "            console.log([gd, 'removed!']);\n",
              "            Plotly.purge(gd);\n",
              "            observer.disconnect();\n",
              "        }}\n",
              "}});\n",
              "\n",
              "// Listen for the removal of the full notebook cells\n",
              "var notebookContainer = gd.closest('#notebook-container');\n",
              "if (notebookContainer) {{\n",
              "    x.observe(notebookContainer, {childList: true});\n",
              "}}\n",
              "\n",
              "// Listen for the clearing of the current output cell\n",
              "var outputEl = gd.closest('.output');\n",
              "if (outputEl) {{\n",
              "    x.observe(outputEl, {childList: true});\n",
              "}}\n",
              "\n",
              "                        })                };                            </script>        </div>\n",
              "</body>\n",
              "</html>"
            ]
          },
          "metadata": {}
        }
      ],
      "source": [
        "import pandas as pd\n",
        "import plotly.express as px\n",
        "\n",
        "df_grouped = df_clean.groupby(['Category', 'Date'])['Crime Count'].sum().reset_index()\n",
        "fig = px.line(df_grouped, x='Date', y='Crime Count', color='Category', title='Crime Count Over Time by Type')\n",
        "fig.update_layout(xaxis_title='Date', yaxis_title='Crime count', legend_title='Category', width=2000, height=1000)\n",
        "fig.show()\n",
        "# py.plot(fig, filename=\"Crime count over time 2\", auto_open = True)"
      ]
    },
    {
      "cell_type": "markdown",
      "metadata": {
        "id": "rY-dSV_UYHQg"
      },
      "source": [
        "In this graph we can also see that the crimes have remained the same, with the exception of 'theft from vehicle', which is the category with the highest number of crimes historically. We can see that this category has been decreasing over time"
      ]
    },
    {
      "cell_type": "markdown",
      "metadata": {
        "id": "6oGNv4eFYHQg"
      },
      "source": [
        "## Crime Rate per Capita"
      ]
    },
    {
      "cell_type": "markdown",
      "metadata": {
        "id": "34mOAwMoYHQh"
      },
      "source": [
        "To solve this question, I will create a tree map to show wich community of the city have the highest number of crimes per 1000 people"
      ]
    },
    {
      "cell_type": "code",
      "execution_count": 87,
      "metadata": {
        "id": "am2zVmWwYHQh"
      },
      "outputs": [],
      "source": [
        "df = pd.read_csv('Data_2.csv')"
      ]
    },
    {
      "cell_type": "code",
      "execution_count": 88,
      "metadata": {
        "colab": {
          "base_uri": "https://localhost:8080/",
          "height": 1000
        },
        "id": "_BBYb_8lYHQj",
        "outputId": "8f05fcf6-5a24-4004-8232-831cddd5c8e7"
      },
      "outputs": [
        {
          "output_type": "display_data",
          "data": {
            "text/html": [
              "<html>\n",
              "<head><meta charset=\"utf-8\" /></head>\n",
              "<body>\n",
              "    <div>            <script src=\"https://cdnjs.cloudflare.com/ajax/libs/mathjax/2.7.5/MathJax.js?config=TeX-AMS-MML_SVG\"></script><script type=\"text/javascript\">if (window.MathJax && window.MathJax.Hub && window.MathJax.Hub.Config) {window.MathJax.Hub.Config({SVG: {font: \"STIX-Web\"}});}</script>                <script type=\"text/javascript\">window.PlotlyConfig = {MathJaxConfig: 'local'};</script>\n",
              "        <script charset=\"utf-8\" src=\"https://cdn.plot.ly/plotly-2.24.1.min.js\"></script>                <div id=\"9735a1c9-296b-47ef-a451-4343b4412efe\" class=\"plotly-graph-div\" style=\"height:1000px; width:1500px;\"></div>            <script type=\"text/javascript\">                                    window.PLOTLYENV=window.PLOTLYENV || {};                                    if (document.getElementById(\"9735a1c9-296b-47ef-a451-4343b4412efe\")) {                    Plotly.newPlot(                        \"9735a1c9-296b-47ef-a451-4343b4412efe\",                        [{\"branchvalues\":\"total\",\"domain\":{\"x\":[0.0,1.0],\"y\":[0.0,1.0]},\"hovertemplate\":\"labels=%{label}\\u003cbr\\u003ecrime_rate_per_1000=%{value}\\u003cbr\\u003eparent=%{parent}\\u003cbr\\u003eid=%{id}\\u003cextra\\u003e\\u003c\\u002fextra\\u003e\",\"ids\":[\"ABBEYDALE\",\"ACADIA\",\"ALBERT PARK\\u002fRADISSON HEIGHTS\",\"ALTADORE\",\"APPLEWOOD PARK\",\"ARBOUR LAKE\",\"ASPEN WOODS\",\"AUBURN BAY\",\"BANFF TRAIL\",\"BANKVIEW\",\"BAYVIEW\",\"BEDDINGTON HEIGHTS\",\"BEL-AIRE\",\"BELMONT\",\"BELTLINE\",\"BELVEDERE\",\"BONAVISTA DOWNS\",\"BOWNESS\",\"BRAESIDE\",\"BRENTWOOD\",\"BRIDGELAND\\u002fRIVERSIDE\",\"BRIDLEWOOD\",\"BRITANNIA\",\"CAMBRIAN HEIGHTS\",\"CANYON MEADOWS\",\"CAPITOL HILL\",\"CARRINGTON\",\"CASTLERIDGE\",\"CEDARBRAE\",\"CHAPARRAL\",\"CHARLESWOOD\",\"CHINATOWN\",\"CHINOOK PARK\",\"CHRISTIE PARK\",\"CITADEL\",\"CITYSCAPE\",\"CLIFF BUNGALOW\",\"COACH HILL\",\"COLLINGWOOD\",\"COPPERFIELD\",\"CORAL SPRINGS\",\"CORNERSTONE\",\"COUGAR RIDGE\",\"COUNTRY HILLS\",\"COUNTRY HILLS VILLAGE\",\"COVENTRY HILLS\",\"CRANSTON\",\"CRESCENT HEIGHTS\",\"CRESTMONT\",\"CURRIE BARRACKS\",\"DALHOUSIE\",\"DEER RIDGE\",\"DEER RUN\",\"DIAMOND COVE\",\"DISCOVERY RIDGE\",\"DOUGLASDALE\\u002fGLEN\",\"DOVER\",\"DOWNTOWN COMMERCIAL CORE\",\"DOWNTOWN EAST VILLAGE\",\"DOWNTOWN WEST END\",\"EAGLE RIDGE\",\"EAU CLAIRE\",\"EDGEMONT\",\"ELBOW PARK\",\"ELBOYA\",\"ERIN WOODS\",\"ERLTON\",\"EVANSTON\",\"EVERGREEN\",\"FAIRVIEW\",\"FALCONRIDGE\",\"FOOTHILLS\",\"FOREST HEIGHTS\",\"FOREST LAWN\",\"FOREST LAWN INDUSTRIAL\",\"GARRISON GREEN\",\"GARRISON WOODS\",\"GLAMORGAN\",\"GLENBROOK\",\"GLENDALE\",\"GREENVIEW\",\"GREENVIEW INDUSTRIAL PARK\",\"GREENWOOD\\u002fGREENBRIAR\",\"HAMPTONS\",\"HARVEST HILLS\",\"HAWKWOOD\",\"HAYSBORO\",\"HIDDEN VALLEY\",\"HIGHLAND PARK\",\"HIGHWOOD\",\"HILLHURST\",\"HOUNSFIELD HEIGHTS\\u002fBRIAR HILL\",\"HUNTINGTON HILLS\",\"INGLEWOOD\",\"KELVIN GROVE\",\"KILLARNEY\\u002fGLENGARRY\",\"KINCORA\",\"KINGSLAND\",\"LAKE BONAVISTA\",\"LAKEVIEW\",\"LEGACY\",\"LINCOLN PARK\",\"LIVINGSTON\",\"LOWER MOUNT ROYAL\",\"MACEWAN GLEN\",\"MAHOGANY\",\"MANCHESTER\",\"MAPLE RIDGE\",\"MARLBOROUGH\",\"MARLBOROUGH PARK\",\"MARTINDALE\",\"MAYFAIR\",\"MAYLAND HEIGHTS\",\"MCKENZIE LAKE\",\"MCKENZIE TOWNE\",\"MEADOWLARK PARK\",\"MIDNAPORE\",\"MILLRISE\",\"MISSION\",\"MONTEREY PARK\",\"MONTGOMERY\",\"MOUNT PLEASANT\",\"NEW BRIGHTON\",\"NOLAN HILL\",\"NORTH GLENMORE PARK\",\"NORTH HAVEN\",\"NORTH HAVEN UPPER\",\"OAKRIDGE\",\"OGDEN\",\"PALLISER\",\"PANORAMA HILLS\",\"PARKDALE\",\"PARKHILL\",\"PARKLAND\",\"PATTERSON\",\"PENBROOKE MEADOWS\",\"PINE CREEK\",\"PINERIDGE\",\"POINT MCKAY\",\"PUMP HILL\",\"QUEENS PARK VILLAGE\",\"QUEENSLAND\",\"RAMSAY\",\"RANCHLANDS\",\"RED CARPET\",\"REDSTONE\",\"RENFREW\",\"RICHMOND\",\"RIDEAU PARK\",\"RIVERBEND\",\"ROCKY RIDGE\",\"ROSEDALE\",\"ROSEMONT\",\"ROSSCARROCK\",\"ROXBORO\",\"ROYAL OAK\",\"RUNDLE\",\"RUTLAND PARK\",\"SADDLE RIDGE\",\"SADDLE RIDGE INDUSTRIAL\",\"SAGE HILL\",\"SANDSTONE VALLEY\",\"SCARBORO\",\"SCARBORO\\u002f SUNALTA WEST\",\"SCENIC ACRES\",\"SETON\",\"SHAGANAPPI\",\"SHAWNEE SLOPES\",\"SHAWNESSY\",\"SHEPARD INDUSTRIAL\",\"SHERWOOD\",\"SIGNAL HILL\",\"SILVER SPRINGS\",\"SILVERADO\",\"SKYVIEW RANCH\",\"SOMERSET\",\"SOUTH CALGARY\",\"SOUTHVIEW\",\"SOUTHWOOD\",\"SPRINGBANK HILL\",\"SPRUCE CLIFF\",\"ST. ANDREWS HEIGHTS\",\"STRATHCONA PARK\",\"SUNALTA\",\"SUNDANCE\",\"SUNNYSIDE\",\"SUNRIDGE\",\"TARADALE\",\"TEMPLE\",\"THORNCLIFFE\",\"TUSCANY\",\"TUXEDO PARK\",\"UNIVERSITY DISTRICT\",\"UNIVERSITY HEIGHTS\",\"UNIVERSITY OF CALGARY\",\"UPPER MOUNT ROYAL\",\"VALLEY RIDGE\",\"VARSITY\",\"VISTA HEIGHTS\",\"WALDEN\",\"WEST HILLHURST\",\"WEST SPRINGS\",\"WESTGATE\",\"WHITEHORN\",\"WILDWOOD\",\"WILLOW PARK\",\"WINDSOR PARK\",\"WINSTON HEIGHTS\\u002fMOUNTVIEW\",\"WOODBINE\",\"WOODLANDS\",\"YORKVILLE\"],\"labels\":[\"ABBEYDALE\",\"ACADIA\",\"ALBERT PARK\\u002fRADISSON HEIGHTS\",\"ALTADORE\",\"APPLEWOOD PARK\",\"ARBOUR LAKE\",\"ASPEN WOODS\",\"AUBURN BAY\",\"BANFF TRAIL\",\"BANKVIEW\",\"BAYVIEW\",\"BEDDINGTON HEIGHTS\",\"BEL-AIRE\",\"BELMONT\",\"BELTLINE\",\"BELVEDERE\",\"BONAVISTA DOWNS\",\"BOWNESS\",\"BRAESIDE\",\"BRENTWOOD\",\"BRIDGELAND\\u002fRIVERSIDE\",\"BRIDLEWOOD\",\"BRITANNIA\",\"CAMBRIAN HEIGHTS\",\"CANYON MEADOWS\",\"CAPITOL HILL\",\"CARRINGTON\",\"CASTLERIDGE\",\"CEDARBRAE\",\"CHAPARRAL\",\"CHARLESWOOD\",\"CHINATOWN\",\"CHINOOK PARK\",\"CHRISTIE PARK\",\"CITADEL\",\"CITYSCAPE\",\"CLIFF BUNGALOW\",\"COACH HILL\",\"COLLINGWOOD\",\"COPPERFIELD\",\"CORAL SPRINGS\",\"CORNERSTONE\",\"COUGAR RIDGE\",\"COUNTRY HILLS\",\"COUNTRY HILLS VILLAGE\",\"COVENTRY HILLS\",\"CRANSTON\",\"CRESCENT HEIGHTS\",\"CRESTMONT\",\"CURRIE BARRACKS\",\"DALHOUSIE\",\"DEER RIDGE\",\"DEER RUN\",\"DIAMOND COVE\",\"DISCOVERY RIDGE\",\"DOUGLASDALE\\u002fGLEN\",\"DOVER\",\"DOWNTOWN COMMERCIAL CORE\",\"DOWNTOWN EAST VILLAGE\",\"DOWNTOWN WEST END\",\"EAGLE RIDGE\",\"EAU CLAIRE\",\"EDGEMONT\",\"ELBOW PARK\",\"ELBOYA\",\"ERIN WOODS\",\"ERLTON\",\"EVANSTON\",\"EVERGREEN\",\"FAIRVIEW\",\"FALCONRIDGE\",\"FOOTHILLS\",\"FOREST HEIGHTS\",\"FOREST LAWN\",\"FOREST LAWN INDUSTRIAL\",\"GARRISON GREEN\",\"GARRISON WOODS\",\"GLAMORGAN\",\"GLENBROOK\",\"GLENDALE\",\"GREENVIEW\",\"GREENVIEW INDUSTRIAL PARK\",\"GREENWOOD\\u002fGREENBRIAR\",\"HAMPTONS\",\"HARVEST HILLS\",\"HAWKWOOD\",\"HAYSBORO\",\"HIDDEN VALLEY\",\"HIGHLAND PARK\",\"HIGHWOOD\",\"HILLHURST\",\"HOUNSFIELD HEIGHTS\\u002fBRIAR HILL\",\"HUNTINGTON HILLS\",\"INGLEWOOD\",\"KELVIN GROVE\",\"KILLARNEY\\u002fGLENGARRY\",\"KINCORA\",\"KINGSLAND\",\"LAKE BONAVISTA\",\"LAKEVIEW\",\"LEGACY\",\"LINCOLN PARK\",\"LIVINGSTON\",\"LOWER MOUNT ROYAL\",\"MACEWAN GLEN\",\"MAHOGANY\",\"MANCHESTER\",\"MAPLE RIDGE\",\"MARLBOROUGH\",\"MARLBOROUGH PARK\",\"MARTINDALE\",\"MAYFAIR\",\"MAYLAND HEIGHTS\",\"MCKENZIE LAKE\",\"MCKENZIE TOWNE\",\"MEADOWLARK PARK\",\"MIDNAPORE\",\"MILLRISE\",\"MISSION\",\"MONTEREY PARK\",\"MONTGOMERY\",\"MOUNT PLEASANT\",\"NEW BRIGHTON\",\"NOLAN HILL\",\"NORTH GLENMORE PARK\",\"NORTH HAVEN\",\"NORTH HAVEN UPPER\",\"OAKRIDGE\",\"OGDEN\",\"PALLISER\",\"PANORAMA HILLS\",\"PARKDALE\",\"PARKHILL\",\"PARKLAND\",\"PATTERSON\",\"PENBROOKE MEADOWS\",\"PINE CREEK\",\"PINERIDGE\",\"POINT MCKAY\",\"PUMP HILL\",\"QUEENS PARK VILLAGE\",\"QUEENSLAND\",\"RAMSAY\",\"RANCHLANDS\",\"RED CARPET\",\"REDSTONE\",\"RENFREW\",\"RICHMOND\",\"RIDEAU PARK\",\"RIVERBEND\",\"ROCKY RIDGE\",\"ROSEDALE\",\"ROSEMONT\",\"ROSSCARROCK\",\"ROXBORO\",\"ROYAL OAK\",\"RUNDLE\",\"RUTLAND PARK\",\"SADDLE RIDGE\",\"SADDLE RIDGE INDUSTRIAL\",\"SAGE HILL\",\"SANDSTONE VALLEY\",\"SCARBORO\",\"SCARBORO\\u002f SUNALTA WEST\",\"SCENIC ACRES\",\"SETON\",\"SHAGANAPPI\",\"SHAWNEE SLOPES\",\"SHAWNESSY\",\"SHEPARD INDUSTRIAL\",\"SHERWOOD\",\"SIGNAL HILL\",\"SILVER SPRINGS\",\"SILVERADO\",\"SKYVIEW RANCH\",\"SOMERSET\",\"SOUTH CALGARY\",\"SOUTHVIEW\",\"SOUTHWOOD\",\"SPRINGBANK HILL\",\"SPRUCE CLIFF\",\"ST. ANDREWS HEIGHTS\",\"STRATHCONA PARK\",\"SUNALTA\",\"SUNDANCE\",\"SUNNYSIDE\",\"SUNRIDGE\",\"TARADALE\",\"TEMPLE\",\"THORNCLIFFE\",\"TUSCANY\",\"TUXEDO PARK\",\"UNIVERSITY DISTRICT\",\"UNIVERSITY HEIGHTS\",\"UNIVERSITY OF CALGARY\",\"UPPER MOUNT ROYAL\",\"VALLEY RIDGE\",\"VARSITY\",\"VISTA HEIGHTS\",\"WALDEN\",\"WEST HILLHURST\",\"WEST SPRINGS\",\"WESTGATE\",\"WHITEHORN\",\"WILDWOOD\",\"WILLOW PARK\",\"WINDSOR PARK\",\"WINSTON HEIGHTS\\u002fMOUNTVIEW\",\"WOODBINE\",\"WOODLANDS\",\"YORKVILLE\"],\"name\":\"\",\"parents\":[\"\",\"\",\"\",\"\",\"\",\"\",\"\",\"\",\"\",\"\",\"\",\"\",\"\",\"\",\"\",\"\",\"\",\"\",\"\",\"\",\"\",\"\",\"\",\"\",\"\",\"\",\"\",\"\",\"\",\"\",\"\",\"\",\"\",\"\",\"\",\"\",\"\",\"\",\"\",\"\",\"\",\"\",\"\",\"\",\"\",\"\",\"\",\"\",\"\",\"\",\"\",\"\",\"\",\"\",\"\",\"\",\"\",\"\",\"\",\"\",\"\",\"\",\"\",\"\",\"\",\"\",\"\",\"\",\"\",\"\",\"\",\"\",\"\",\"\",\"\",\"\",\"\",\"\",\"\",\"\",\"\",\"\",\"\",\"\",\"\",\"\",\"\",\"\",\"\",\"\",\"\",\"\",\"\",\"\",\"\",\"\",\"\",\"\",\"\",\"\",\"\",\"\",\"\",\"\",\"\",\"\",\"\",\"\",\"\",\"\",\"\",\"\",\"\",\"\",\"\",\"\",\"\",\"\",\"\",\"\",\"\",\"\",\"\",\"\",\"\",\"\",\"\",\"\",\"\",\"\",\"\",\"\",\"\",\"\",\"\",\"\",\"\",\"\",\"\",\"\",\"\",\"\",\"\",\"\",\"\",\"\",\"\",\"\",\"\",\"\",\"\",\"\",\"\",\"\",\"\",\"\",\"\",\"\",\"\",\"\",\"\",\"\",\"\",\"\",\"\",\"\",\"\",\"\",\"\",\"\",\"\",\"\",\"\",\"\",\"\",\"\",\"\",\"\",\"\",\"\",\"\",\"\",\"\",\"\",\"\",\"\",\"\",\"\",\"\",\"\",\"\",\"\",\"\",\"\",\"\",\"\",\"\",\"\",\"\",\"\",\"\",\"\",\"\",\"\",\"\",\"\",\"\",\"\",\"\",\"\",\"\"],\"values\":[111.63,176.81,274.83,146.79,96.12,122.7,54.41,52.48,305.08,272.64,129.16,101.62,138.46,313.95,376.9,3731.71,63.58,217.85,89.58,198.71,297.73,43.27,191.3,136.54,111.88,273.82,218.53,144.28,74.66,41.41,113.48,172.0,111.31,88.82,37.21,84.41,475.46,71.21,142.29,49.99,77.57,160.5,47.73,79.9,220.25,57.62,44.51,319.34,63.91,28.53,111.19,91.62,52.32,72.46,52.1,69.56,204.13,791.89,480.35,214.0,751.66,268.97,50.86,132.56,200.11,136.9,266.14,37.66,33.81,170.32,183.23,4851.74,195.66,383.41,4520.33,70.39,40.12,127.11,117.84,191.32,228.23,3977.78,91.52,40.5,96.77,50.39,200.85,51.62,276.19,219.66,304.36,368.12,139.64,272.86,149.24,191.93,53.71,279.22,111.34,94.3,74.3,117.69,114.42,294.76,55.53,53.46,633.17,111.69,241.21,166.14,123.55,125.0,205.17,52.07,70.17,1408.39,89.0,70.87,287.52,82.72,312.07,245.71,46.63,44.24,161.02,93.26,73.46,73.81,149.25,89.87,48.89,154.72,308.1,56.56,79.01,176.64,2000.0,202.45,80.42,84.15,145.05,71.68,205.75,74.54,149.94,73.02,237.16,204.76,163.3,75.08,40.72,166.03,145.93,306.48,127.96,43.4,173.6,141.85,87.18,11360.0,79.76,55.72,197.64,147.13,62.35,495.59,271.83,152.28,135.99,1956.86,69.0,89.96,80.19,46.24,103.1,70.35,248.54,406.65,217.58,56.22,107.43,317.55,54.41,410.31,53.51,266.43,190363.64,79.42,152.77,161.24,40.23,297.78,255.32,142.42,59.99,163.03,50.31,137.49,240.08,58.45,187.68,53.91,93.69,135.29,117.02,208.15,229.49,267.4,60.91,97.13,1785.71],\"type\":\"treemap\"}],                        {\"template\":{\"data\":{\"histogram2dcontour\":[{\"type\":\"histogram2dcontour\",\"colorbar\":{\"outlinewidth\":0,\"ticks\":\"\"},\"colorscale\":[[0.0,\"#0d0887\"],[0.1111111111111111,\"#46039f\"],[0.2222222222222222,\"#7201a8\"],[0.3333333333333333,\"#9c179e\"],[0.4444444444444444,\"#bd3786\"],[0.5555555555555556,\"#d8576b\"],[0.6666666666666666,\"#ed7953\"],[0.7777777777777778,\"#fb9f3a\"],[0.8888888888888888,\"#fdca26\"],[1.0,\"#f0f921\"]]}],\"choropleth\":[{\"type\":\"choropleth\",\"colorbar\":{\"outlinewidth\":0,\"ticks\":\"\"}}],\"histogram2d\":[{\"type\":\"histogram2d\",\"colorbar\":{\"outlinewidth\":0,\"ticks\":\"\"},\"colorscale\":[[0.0,\"#0d0887\"],[0.1111111111111111,\"#46039f\"],[0.2222222222222222,\"#7201a8\"],[0.3333333333333333,\"#9c179e\"],[0.4444444444444444,\"#bd3786\"],[0.5555555555555556,\"#d8576b\"],[0.6666666666666666,\"#ed7953\"],[0.7777777777777778,\"#fb9f3a\"],[0.8888888888888888,\"#fdca26\"],[1.0,\"#f0f921\"]]}],\"heatmap\":[{\"type\":\"heatmap\",\"colorbar\":{\"outlinewidth\":0,\"ticks\":\"\"},\"colorscale\":[[0.0,\"#0d0887\"],[0.1111111111111111,\"#46039f\"],[0.2222222222222222,\"#7201a8\"],[0.3333333333333333,\"#9c179e\"],[0.4444444444444444,\"#bd3786\"],[0.5555555555555556,\"#d8576b\"],[0.6666666666666666,\"#ed7953\"],[0.7777777777777778,\"#fb9f3a\"],[0.8888888888888888,\"#fdca26\"],[1.0,\"#f0f921\"]]}],\"heatmapgl\":[{\"type\":\"heatmapgl\",\"colorbar\":{\"outlinewidth\":0,\"ticks\":\"\"},\"colorscale\":[[0.0,\"#0d0887\"],[0.1111111111111111,\"#46039f\"],[0.2222222222222222,\"#7201a8\"],[0.3333333333333333,\"#9c179e\"],[0.4444444444444444,\"#bd3786\"],[0.5555555555555556,\"#d8576b\"],[0.6666666666666666,\"#ed7953\"],[0.7777777777777778,\"#fb9f3a\"],[0.8888888888888888,\"#fdca26\"],[1.0,\"#f0f921\"]]}],\"contourcarpet\":[{\"type\":\"contourcarpet\",\"colorbar\":{\"outlinewidth\":0,\"ticks\":\"\"}}],\"contour\":[{\"type\":\"contour\",\"colorbar\":{\"outlinewidth\":0,\"ticks\":\"\"},\"colorscale\":[[0.0,\"#0d0887\"],[0.1111111111111111,\"#46039f\"],[0.2222222222222222,\"#7201a8\"],[0.3333333333333333,\"#9c179e\"],[0.4444444444444444,\"#bd3786\"],[0.5555555555555556,\"#d8576b\"],[0.6666666666666666,\"#ed7953\"],[0.7777777777777778,\"#fb9f3a\"],[0.8888888888888888,\"#fdca26\"],[1.0,\"#f0f921\"]]}],\"surface\":[{\"type\":\"surface\",\"colorbar\":{\"outlinewidth\":0,\"ticks\":\"\"},\"colorscale\":[[0.0,\"#0d0887\"],[0.1111111111111111,\"#46039f\"],[0.2222222222222222,\"#7201a8\"],[0.3333333333333333,\"#9c179e\"],[0.4444444444444444,\"#bd3786\"],[0.5555555555555556,\"#d8576b\"],[0.6666666666666666,\"#ed7953\"],[0.7777777777777778,\"#fb9f3a\"],[0.8888888888888888,\"#fdca26\"],[1.0,\"#f0f921\"]]}],\"mesh3d\":[{\"type\":\"mesh3d\",\"colorbar\":{\"outlinewidth\":0,\"ticks\":\"\"}}],\"scatter\":[{\"fillpattern\":{\"fillmode\":\"overlay\",\"size\":10,\"solidity\":0.2},\"type\":\"scatter\"}],\"parcoords\":[{\"type\":\"parcoords\",\"line\":{\"colorbar\":{\"outlinewidth\":0,\"ticks\":\"\"}}}],\"scatterpolargl\":[{\"type\":\"scatterpolargl\",\"marker\":{\"colorbar\":{\"outlinewidth\":0,\"ticks\":\"\"}}}],\"bar\":[{\"error_x\":{\"color\":\"#2a3f5f\"},\"error_y\":{\"color\":\"#2a3f5f\"},\"marker\":{\"line\":{\"color\":\"#E5ECF6\",\"width\":0.5},\"pattern\":{\"fillmode\":\"overlay\",\"size\":10,\"solidity\":0.2}},\"type\":\"bar\"}],\"scattergeo\":[{\"type\":\"scattergeo\",\"marker\":{\"colorbar\":{\"outlinewidth\":0,\"ticks\":\"\"}}}],\"scatterpolar\":[{\"type\":\"scatterpolar\",\"marker\":{\"colorbar\":{\"outlinewidth\":0,\"ticks\":\"\"}}}],\"histogram\":[{\"marker\":{\"pattern\":{\"fillmode\":\"overlay\",\"size\":10,\"solidity\":0.2}},\"type\":\"histogram\"}],\"scattergl\":[{\"type\":\"scattergl\",\"marker\":{\"colorbar\":{\"outlinewidth\":0,\"ticks\":\"\"}}}],\"scatter3d\":[{\"type\":\"scatter3d\",\"line\":{\"colorbar\":{\"outlinewidth\":0,\"ticks\":\"\"}},\"marker\":{\"colorbar\":{\"outlinewidth\":0,\"ticks\":\"\"}}}],\"scattermapbox\":[{\"type\":\"scattermapbox\",\"marker\":{\"colorbar\":{\"outlinewidth\":0,\"ticks\":\"\"}}}],\"scatterternary\":[{\"type\":\"scatterternary\",\"marker\":{\"colorbar\":{\"outlinewidth\":0,\"ticks\":\"\"}}}],\"scattercarpet\":[{\"type\":\"scattercarpet\",\"marker\":{\"colorbar\":{\"outlinewidth\":0,\"ticks\":\"\"}}}],\"carpet\":[{\"aaxis\":{\"endlinecolor\":\"#2a3f5f\",\"gridcolor\":\"white\",\"linecolor\":\"white\",\"minorgridcolor\":\"white\",\"startlinecolor\":\"#2a3f5f\"},\"baxis\":{\"endlinecolor\":\"#2a3f5f\",\"gridcolor\":\"white\",\"linecolor\":\"white\",\"minorgridcolor\":\"white\",\"startlinecolor\":\"#2a3f5f\"},\"type\":\"carpet\"}],\"table\":[{\"cells\":{\"fill\":{\"color\":\"#EBF0F8\"},\"line\":{\"color\":\"white\"}},\"header\":{\"fill\":{\"color\":\"#C8D4E3\"},\"line\":{\"color\":\"white\"}},\"type\":\"table\"}],\"barpolar\":[{\"marker\":{\"line\":{\"color\":\"#E5ECF6\",\"width\":0.5},\"pattern\":{\"fillmode\":\"overlay\",\"size\":10,\"solidity\":0.2}},\"type\":\"barpolar\"}],\"pie\":[{\"automargin\":true,\"type\":\"pie\"}]},\"layout\":{\"autotypenumbers\":\"strict\",\"colorway\":[\"#636efa\",\"#EF553B\",\"#00cc96\",\"#ab63fa\",\"#FFA15A\",\"#19d3f3\",\"#FF6692\",\"#B6E880\",\"#FF97FF\",\"#FECB52\"],\"font\":{\"color\":\"#2a3f5f\"},\"hovermode\":\"closest\",\"hoverlabel\":{\"align\":\"left\"},\"paper_bgcolor\":\"white\",\"plot_bgcolor\":\"#E5ECF6\",\"polar\":{\"bgcolor\":\"#E5ECF6\",\"angularaxis\":{\"gridcolor\":\"white\",\"linecolor\":\"white\",\"ticks\":\"\"},\"radialaxis\":{\"gridcolor\":\"white\",\"linecolor\":\"white\",\"ticks\":\"\"}},\"ternary\":{\"bgcolor\":\"#E5ECF6\",\"aaxis\":{\"gridcolor\":\"white\",\"linecolor\":\"white\",\"ticks\":\"\"},\"baxis\":{\"gridcolor\":\"white\",\"linecolor\":\"white\",\"ticks\":\"\"},\"caxis\":{\"gridcolor\":\"white\",\"linecolor\":\"white\",\"ticks\":\"\"}},\"coloraxis\":{\"colorbar\":{\"outlinewidth\":0,\"ticks\":\"\"}},\"colorscale\":{\"sequential\":[[0.0,\"#0d0887\"],[0.1111111111111111,\"#46039f\"],[0.2222222222222222,\"#7201a8\"],[0.3333333333333333,\"#9c179e\"],[0.4444444444444444,\"#bd3786\"],[0.5555555555555556,\"#d8576b\"],[0.6666666666666666,\"#ed7953\"],[0.7777777777777778,\"#fb9f3a\"],[0.8888888888888888,\"#fdca26\"],[1.0,\"#f0f921\"]],\"sequentialminus\":[[0.0,\"#0d0887\"],[0.1111111111111111,\"#46039f\"],[0.2222222222222222,\"#7201a8\"],[0.3333333333333333,\"#9c179e\"],[0.4444444444444444,\"#bd3786\"],[0.5555555555555556,\"#d8576b\"],[0.6666666666666666,\"#ed7953\"],[0.7777777777777778,\"#fb9f3a\"],[0.8888888888888888,\"#fdca26\"],[1.0,\"#f0f921\"]],\"diverging\":[[0,\"#8e0152\"],[0.1,\"#c51b7d\"],[0.2,\"#de77ae\"],[0.3,\"#f1b6da\"],[0.4,\"#fde0ef\"],[0.5,\"#f7f7f7\"],[0.6,\"#e6f5d0\"],[0.7,\"#b8e186\"],[0.8,\"#7fbc41\"],[0.9,\"#4d9221\"],[1,\"#276419\"]]},\"xaxis\":{\"gridcolor\":\"white\",\"linecolor\":\"white\",\"ticks\":\"\",\"title\":{\"standoff\":15},\"zerolinecolor\":\"white\",\"automargin\":true,\"zerolinewidth\":2},\"yaxis\":{\"gridcolor\":\"white\",\"linecolor\":\"white\",\"ticks\":\"\",\"title\":{\"standoff\":15},\"zerolinecolor\":\"white\",\"automargin\":true,\"zerolinewidth\":2},\"scene\":{\"xaxis\":{\"backgroundcolor\":\"#E5ECF6\",\"gridcolor\":\"white\",\"linecolor\":\"white\",\"showbackground\":true,\"ticks\":\"\",\"zerolinecolor\":\"white\",\"gridwidth\":2},\"yaxis\":{\"backgroundcolor\":\"#E5ECF6\",\"gridcolor\":\"white\",\"linecolor\":\"white\",\"showbackground\":true,\"ticks\":\"\",\"zerolinecolor\":\"white\",\"gridwidth\":2},\"zaxis\":{\"backgroundcolor\":\"#E5ECF6\",\"gridcolor\":\"white\",\"linecolor\":\"white\",\"showbackground\":true,\"ticks\":\"\",\"zerolinecolor\":\"white\",\"gridwidth\":2}},\"shapedefaults\":{\"line\":{\"color\":\"#2a3f5f\"}},\"annotationdefaults\":{\"arrowcolor\":\"#2a3f5f\",\"arrowhead\":0,\"arrowwidth\":1},\"geo\":{\"bgcolor\":\"white\",\"landcolor\":\"#E5ECF6\",\"subunitcolor\":\"white\",\"showland\":true,\"showlakes\":true,\"lakecolor\":\"white\"},\"title\":{\"x\":0.05},\"mapbox\":{\"style\":\"light\"}}},\"legend\":{\"tracegroupgap\":0},\"margin\":{\"t\":60},\"title\":{\"text\":\"Crime Rates per Capita\"},\"width\":1500,\"height\":1000},                        {\"responsive\": true}                    ).then(function(){\n",
              "                            \n",
              "var gd = document.getElementById('9735a1c9-296b-47ef-a451-4343b4412efe');\n",
              "var x = new MutationObserver(function (mutations, observer) {{\n",
              "        var display = window.getComputedStyle(gd).display;\n",
              "        if (!display || display === 'none') {{\n",
              "            console.log([gd, 'removed!']);\n",
              "            Plotly.purge(gd);\n",
              "            observer.disconnect();\n",
              "        }}\n",
              "}});\n",
              "\n",
              "// Listen for the removal of the full notebook cells\n",
              "var notebookContainer = gd.closest('#notebook-container');\n",
              "if (notebookContainer) {{\n",
              "    x.observe(notebookContainer, {childList: true});\n",
              "}}\n",
              "\n",
              "// Listen for the clearing of the current output cell\n",
              "var outputEl = gd.closest('.output');\n",
              "if (outputEl) {{\n",
              "    x.observe(outputEl, {childList: true});\n",
              "}}\n",
              "\n",
              "                        })                };                            </script>        </div>\n",
              "</body>\n",
              "</html>"
            ]
          },
          "metadata": {}
        }
      ],
      "source": [
        "import pandas as pd\n",
        "import plotly.express as px\n",
        "\n",
        "df = pd.read_csv('Data_2.csv')\n",
        "fig = px.treemap(df, path=['Community Name'], values='crime_rate_per_1000')\n",
        "fig.update_layout(title='Crime Rates per Capita', width=1500, height=1000)\n",
        "fig.show()\n",
        "# py.plot(fig, filename=\"Tree map\", auto_open = True)"
      ]
    },
    {
      "cell_type": "markdown",
      "metadata": {
        "id": "gr9rhDrYYHQj"
      },
      "source": [
        "As we can see here, 'Sunridge' is the community with most crimes per 1000 people, followed by 'Saddle Ridge Industrial'. This is an important information, because is different from the previous graphs form what we saw previously (showing that most crimes are located in the centre of the city)"
      ]
    },
    {
      "cell_type": "markdown",
      "metadata": {
        "id": "Xml7hDdrYHQj"
      },
      "source": [
        "## Relationship Between Crimes and People"
      ]
    },
    {
      "cell_type": "markdown",
      "metadata": {
        "id": "Qbmk5XQtYHQj"
      },
      "source": [
        "For this question, I want to know if there is a relationship between the number of people and number of crimes. For this I will display a scatterplot using 'Resident Count' and the sum of 'Crime count'."
      ]
    },
    {
      "cell_type": "code",
      "execution_count": 106,
      "metadata": {
        "colab": {
          "base_uri": "https://localhost:8080/",
          "height": 561
        },
        "id": "nZAeff-jYHQj",
        "outputId": "87ded4ff-fc77-474a-b028-268cf235722a"
      },
      "outputs": [
        {
          "output_type": "display_data",
          "data": {
            "text/html": [
              "<html>\n",
              "<head><meta charset=\"utf-8\" /></head>\n",
              "<body>\n",
              "    <div>            <script src=\"https://cdnjs.cloudflare.com/ajax/libs/mathjax/2.7.5/MathJax.js?config=TeX-AMS-MML_SVG\"></script><script type=\"text/javascript\">if (window.MathJax && window.MathJax.Hub && window.MathJax.Hub.Config) {window.MathJax.Hub.Config({SVG: {font: \"STIX-Web\"}});}</script>                <script type=\"text/javascript\">window.PlotlyConfig = {MathJaxConfig: 'local'};</script>\n",
              "        <script charset=\"utf-8\" src=\"https://cdn.plot.ly/plotly-2.24.1.min.js\"></script>                <div id=\"a74bd977-8db3-40b7-8b0d-42da44494ecf\" class=\"plotly-graph-div\" style=\"height:525px; width:100%;\"></div>            <script type=\"text/javascript\">                                    window.PLOTLYENV=window.PLOTLYENV || {};                                    if (document.getElementById(\"a74bd977-8db3-40b7-8b0d-42da44494ecf\")) {                    Plotly.newPlot(                        \"a74bd977-8db3-40b7-8b0d-42da44494ecf\",                        [{\"hovertemplate\":\"Crime Count=%{x}\\u003cbr\\u003eResident Count=%{y}\\u003cextra\\u003e\\u003c\\u002fextra\\u003e\",\"legendgroup\":\"\",\"marker\":{\"color\":\"#636efa\",\"symbol\":\"circle\"},\"mode\":\"markers\",\"name\":\"\",\"orientation\":\"v\",\"showlegend\":false,\"x\":[19857,2094,53,284,153,27,556,895,499,227,1538,54,59,54,54,66,125,97,44,907,182,180,97,82,59,184,649,562,183,36,338,108,169,259,239,442,138,185,108,521,351,570,734,901,435,291,214,546,278,145,189,444,320,496,321,344,220,142,569,385,425,404,397,572,308,425,317,529,596,1030,416,262,125,300,1329,231,443,1019,405,1111,972,621,207,330,301,1060,1870,364,1098,1267,332,1127,223,1104,1409,1052,1322,502,1309,340,1299,264,1016,265,1433,1586,1109,505,281,420,450,520,427,1447,329,665,1223,583,455,884,364,1790,477,1210,1271,829,1996,1561,2114,2035,373,370,489,1019,671,2257,965,1422,1444,647,299,718,877,332,567,853,354,1475,2996,632,503,342,1416,601,1511,1280,696,6876,1417,540,994,2210,694,466,1274,514,521,559,2029,375,1146,2113,858,1860,1303,1952,580,1677,2429,1170,597,2029,508,1207,630,1626,547,524,1770,896,611,1205,698,1874,691,1760,783,924,1018,666,1283,1511,1685,727,1946,9471,1257],\"xaxis\":\"x\",\"y\":[0.0,11.0,14.0,25.0,41.0,86.0,123.0,225.0,255.0,302.0,317.0,390.0,401.0,422.0,432.0,455.0,572.0,594.0,599.0,644.0,690.0,705.0,751.0,896.0,928.0,931.0,1025.0,1134.0,1254.0,1262.0,1270.0,1343.0,1477.0,1560.0,1594.0,1626.0,1640.0,1662.0,1690.0,1691.0,1754.0,1795.0,1805.0,1895.0,1906.0,1911.0,1916.0,2030.0,2036.0,2060.0,2128.0,2158.0,2249.0,2258.0,2263.0,2305.0,2359.0,2367.0,2370.0,2391.0,2471.0,2478.0,2566.0,2597.0,2617.0,2648.0,2709.0,2765.0,2785.0,2798.0,2921.0,3104.0,3116.0,3202.0,3239.0,3244.0,3342.0,3457.0,3569.0,3625.0,3635.0,3646.0,3660.0,3672.0,3767.0,3838.0,3893.0,3973.0,4024.0,4153.0,4202.0,4230.0,4280.0,4442.0,4515.0,4584.0,4598.0,4673.0,4688.0,4743.0,4744.0,4754.0,4962.0,5065.0,5256.0,5326.0,5328.0,5355.0,5585.0,5690.0,5801.0,5805.0,5848.0,5889.0,5904.0,5957.0,5961.0,6002.0,6094.0,6127.0,6228.0,6246.0,6420.0,6447.0,6496.0,6522.0,6558.0,6582.0,6620.0,6835.0,6855.0,6889.0,6900.0,6942.0,6981.0,6997.0,7049.0,7080.0,7267.0,7270.0,7382.0,7420.0,7442.0,7505.0,7607.0,7624.0,7655.0,7685.0,7814.0,7924.0,8067.0,8398.0,8523.0,8543.0,8554.0,8576.0,8679.0,8683.0,8788.0,8866.0,8940.0,9162.0,9244.0,9248.0,9368.0,9446.0,9736.0,9943.0,10022.0,10077.0,10293.0,10351.0,10372.0,10520.0,10619.0,10653.0,10758.0,10977.0,11150.0,11514.0,11566.0,11688.0,11706.0,11707.0,11784.0,12019.0,12641.0,12654.0,12874.0,12881.0,13103.0,13395.0,13406.0,13420.0,13823.0,14245.0,15395.0,17607.0,17667.0,17685.0,18283.0,19026.0,19884.0,21500.0,22321.0,25129.0,25710.0],\"yaxis\":\"y\",\"type\":\"scatter\"},{\"hovertemplate\":\"\\u003cb\\u003eOLS trendline\\u003c\\u002fb\\u003e\\u003cbr\\u003eResident Count = 0.63721 * Crime Count + 5439.43\\u003cbr\\u003eR\\u003csup\\u003e2\\u003c\\u002fsup\\u003e=0.043025\\u003cbr\\u003e\\u003cbr\\u003eCrime Count=%{x}\\u003cbr\\u003eResident Count=%{y} \\u003cb\\u003e(trend)\\u003c\\u002fb\\u003e\\u003cextra\\u003e\\u003c\\u002fextra\\u003e\",\"legendgroup\":\"\",\"marker\":{\"color\":\"#636efa\",\"symbol\":\"circle\"},\"mode\":\"lines\",\"name\":\"\",\"showlegend\":false,\"x\":[27,36,44,53,54,54,54,59,59,66,82,97,97,108,108,125,125,138,142,145,153,169,180,182,183,184,185,189,207,214,220,223,227,231,239,259,262,264,265,278,281,284,291,299,300,301,308,317,320,321,329,330,332,332,338,340,342,344,351,354,364,364,370,373,375,385,397,404,405,416,420,425,425,427,435,442,443,444,450,455,466,477,489,496,499,502,503,505,508,514,520,521,521,524,529,540,546,547,556,559,562,567,569,570,572,580,583,596,597,601,611,621,630,632,647,649,665,666,671,691,694,696,698,718,727,734,783,829,853,858,877,884,895,896,901,907,924,965,972,994,1016,1018,1019,1019,1030,1052,1060,1098,1104,1109,1111,1127,1146,1170,1205,1207,1210,1223,1257,1267,1271,1274,1280,1283,1299,1303,1309,1322,1329,1409,1416,1417,1422,1433,1444,1447,1475,1511,1511,1538,1561,1586,1626,1677,1685,1760,1770,1790,1860,1870,1874,1946,1952,1996,2029,2029,2035,2094,2113,2114,2210,2257,2429,2996,6876,9471,19857],\"xaxis\":\"x\",\"y\":[5456.636179167367,5462.371072426379,5467.468755323279,5473.203648582292,5473.840858944404,5473.840858944404,5473.840858944404,5477.026910754967,5477.026910754967,5481.487383289754,5491.682749083553,5501.240904515241,5501.240904515241,5508.250218498478,5508.250218498478,5519.08279465439,5519.08279465439,5527.366529361852,5529.915370810302,5531.82700189664,5536.92468479354,5547.120050587339,5554.129364570577,5555.403785294802,5556.040995656915,5556.678206019027,5557.31541638114,5559.864257829589,5571.334044347614,5575.794516882402,5579.617779055076,5581.529410141414,5584.078251589864,5586.627093038313,5591.724775935213,5604.468983177463,5606.3806142638,5607.655034988025,5608.292245350138,5616.5759800576,5618.487611143938,5620.399242230275,5624.859714765063,5629.957397661962,5630.594608024075,5631.231818386187,5635.692290920974,5641.427184179987,5643.338815266325,5643.976025628437,5649.073708525337,5649.710918887449,5650.985339611674,5650.985339611674,5654.808601784349,5656.083022508574,5657.357443232799,5658.631863957024,5663.092336491812,5665.003967578149,5671.376071199274,5671.376071199274,5675.199333371948,5677.110964458286,5678.385385182511,5684.757488803636,5692.4040131489855,5696.864485683773,5697.501696045885,5704.511010029123,5707.059851477573,5710.245903288135,5710.245903288135,5711.52032401236,5716.61800690926,5721.078479444048,5721.71568980616,5722.352900168273,5726.1761623409475,5729.36221415151,5736.371528134747,5743.380842117985,5751.027366463334,5755.487838998121,5757.399470084459,5759.311101170796,5759.9483115329085,5761.222732257133,5763.134363343472,5766.957625516146,5770.780887688821,5771.418098050934,5771.418098050934,5773.329729137271,5776.515780947833,5783.52509493107,5787.348357103746,5787.985567465858,5793.7204607248705,5795.632091811208,5797.543722897545,5800.7297747081075,5802.004195432332,5802.641405794445,5803.91582651867,5809.01350941557,5810.925140501908,5819.20887520937,5819.846085571482,5822.394927019932,5828.767030641057,5835.139134262182,5840.874027521194,5842.148448245419,5851.706603677107,5852.9810244013315,5863.176390195131,5863.813600557243,5866.9996523678055,5879.743859610056,5881.655490696393,5882.929911420618,5884.204332144843,5896.948539387093,5902.683432646105,5907.143905180892,5938.367212924404,5967.678889581578,5982.971938272278,5986.15799008284,5998.264986962978,6002.725459497765,6009.734773481002,6010.371983843114,6013.5580356536775,6017.381297826352,6028.213873982264,6054.3394988288765,6058.799971363664,6072.818599330138,6086.837227296613,6088.1116480208375,6088.74885838295,6088.74885838295,6095.758172366187,6109.776800332662,6114.8744832295615,6139.088476989837,6142.911739162511,6146.097790973074,6147.372211697299,6157.567577491098,6169.674574371235,6184.967623061935,6207.269985735872,6208.544406460097,6210.456037546434,6218.739772253896,6240.404924565721,6246.777028186846,6249.325869635296,6251.237500721633,6255.060762894308,6256.972393980645,6267.167759774446,6269.716601222895,6273.53986339557,6281.823598103032,6286.284070637819,6337.260899606818,6341.721372141606,6342.358582503718,6345.54463431428,6352.553948297518,6359.563262280755,6361.474893367093,6379.316783506242,6402.2563565422915,6402.2563565422915,6419.461036319329,6434.116874647916,6450.0471337007275,6475.5355481852275,6508.033276652964,6513.130959549864,6560.9217367083,6567.293840329425,6580.038047571675,6624.642772919548,6631.014876540673,6633.563717989123,6679.442864061222,6683.266126233897,6711.303382166846,6732.331324116558,6732.331324116558,6736.154586289233,6773.749997653869,6785.856994534006,6786.494204896118,6847.666399658918,6877.615286678204,6987.215468961551,7348.513744279329,9820.889949275763,11474.450838957655,18092.517659857906],\"yaxis\":\"y\",\"type\":\"scatter\"}],                        {\"template\":{\"data\":{\"histogram2dcontour\":[{\"type\":\"histogram2dcontour\",\"colorbar\":{\"outlinewidth\":0,\"ticks\":\"\"},\"colorscale\":[[0.0,\"#0d0887\"],[0.1111111111111111,\"#46039f\"],[0.2222222222222222,\"#7201a8\"],[0.3333333333333333,\"#9c179e\"],[0.4444444444444444,\"#bd3786\"],[0.5555555555555556,\"#d8576b\"],[0.6666666666666666,\"#ed7953\"],[0.7777777777777778,\"#fb9f3a\"],[0.8888888888888888,\"#fdca26\"],[1.0,\"#f0f921\"]]}],\"choropleth\":[{\"type\":\"choropleth\",\"colorbar\":{\"outlinewidth\":0,\"ticks\":\"\"}}],\"histogram2d\":[{\"type\":\"histogram2d\",\"colorbar\":{\"outlinewidth\":0,\"ticks\":\"\"},\"colorscale\":[[0.0,\"#0d0887\"],[0.1111111111111111,\"#46039f\"],[0.2222222222222222,\"#7201a8\"],[0.3333333333333333,\"#9c179e\"],[0.4444444444444444,\"#bd3786\"],[0.5555555555555556,\"#d8576b\"],[0.6666666666666666,\"#ed7953\"],[0.7777777777777778,\"#fb9f3a\"],[0.8888888888888888,\"#fdca26\"],[1.0,\"#f0f921\"]]}],\"heatmap\":[{\"type\":\"heatmap\",\"colorbar\":{\"outlinewidth\":0,\"ticks\":\"\"},\"colorscale\":[[0.0,\"#0d0887\"],[0.1111111111111111,\"#46039f\"],[0.2222222222222222,\"#7201a8\"],[0.3333333333333333,\"#9c179e\"],[0.4444444444444444,\"#bd3786\"],[0.5555555555555556,\"#d8576b\"],[0.6666666666666666,\"#ed7953\"],[0.7777777777777778,\"#fb9f3a\"],[0.8888888888888888,\"#fdca26\"],[1.0,\"#f0f921\"]]}],\"heatmapgl\":[{\"type\":\"heatmapgl\",\"colorbar\":{\"outlinewidth\":0,\"ticks\":\"\"},\"colorscale\":[[0.0,\"#0d0887\"],[0.1111111111111111,\"#46039f\"],[0.2222222222222222,\"#7201a8\"],[0.3333333333333333,\"#9c179e\"],[0.4444444444444444,\"#bd3786\"],[0.5555555555555556,\"#d8576b\"],[0.6666666666666666,\"#ed7953\"],[0.7777777777777778,\"#fb9f3a\"],[0.8888888888888888,\"#fdca26\"],[1.0,\"#f0f921\"]]}],\"contourcarpet\":[{\"type\":\"contourcarpet\",\"colorbar\":{\"outlinewidth\":0,\"ticks\":\"\"}}],\"contour\":[{\"type\":\"contour\",\"colorbar\":{\"outlinewidth\":0,\"ticks\":\"\"},\"colorscale\":[[0.0,\"#0d0887\"],[0.1111111111111111,\"#46039f\"],[0.2222222222222222,\"#7201a8\"],[0.3333333333333333,\"#9c179e\"],[0.4444444444444444,\"#bd3786\"],[0.5555555555555556,\"#d8576b\"],[0.6666666666666666,\"#ed7953\"],[0.7777777777777778,\"#fb9f3a\"],[0.8888888888888888,\"#fdca26\"],[1.0,\"#f0f921\"]]}],\"surface\":[{\"type\":\"surface\",\"colorbar\":{\"outlinewidth\":0,\"ticks\":\"\"},\"colorscale\":[[0.0,\"#0d0887\"],[0.1111111111111111,\"#46039f\"],[0.2222222222222222,\"#7201a8\"],[0.3333333333333333,\"#9c179e\"],[0.4444444444444444,\"#bd3786\"],[0.5555555555555556,\"#d8576b\"],[0.6666666666666666,\"#ed7953\"],[0.7777777777777778,\"#fb9f3a\"],[0.8888888888888888,\"#fdca26\"],[1.0,\"#f0f921\"]]}],\"mesh3d\":[{\"type\":\"mesh3d\",\"colorbar\":{\"outlinewidth\":0,\"ticks\":\"\"}}],\"scatter\":[{\"fillpattern\":{\"fillmode\":\"overlay\",\"size\":10,\"solidity\":0.2},\"type\":\"scatter\"}],\"parcoords\":[{\"type\":\"parcoords\",\"line\":{\"colorbar\":{\"outlinewidth\":0,\"ticks\":\"\"}}}],\"scatterpolargl\":[{\"type\":\"scatterpolargl\",\"marker\":{\"colorbar\":{\"outlinewidth\":0,\"ticks\":\"\"}}}],\"bar\":[{\"error_x\":{\"color\":\"#2a3f5f\"},\"error_y\":{\"color\":\"#2a3f5f\"},\"marker\":{\"line\":{\"color\":\"#E5ECF6\",\"width\":0.5},\"pattern\":{\"fillmode\":\"overlay\",\"size\":10,\"solidity\":0.2}},\"type\":\"bar\"}],\"scattergeo\":[{\"type\":\"scattergeo\",\"marker\":{\"colorbar\":{\"outlinewidth\":0,\"ticks\":\"\"}}}],\"scatterpolar\":[{\"type\":\"scatterpolar\",\"marker\":{\"colorbar\":{\"outlinewidth\":0,\"ticks\":\"\"}}}],\"histogram\":[{\"marker\":{\"pattern\":{\"fillmode\":\"overlay\",\"size\":10,\"solidity\":0.2}},\"type\":\"histogram\"}],\"scattergl\":[{\"type\":\"scattergl\",\"marker\":{\"colorbar\":{\"outlinewidth\":0,\"ticks\":\"\"}}}],\"scatter3d\":[{\"type\":\"scatter3d\",\"line\":{\"colorbar\":{\"outlinewidth\":0,\"ticks\":\"\"}},\"marker\":{\"colorbar\":{\"outlinewidth\":0,\"ticks\":\"\"}}}],\"scattermapbox\":[{\"type\":\"scattermapbox\",\"marker\":{\"colorbar\":{\"outlinewidth\":0,\"ticks\":\"\"}}}],\"scatterternary\":[{\"type\":\"scatterternary\",\"marker\":{\"colorbar\":{\"outlinewidth\":0,\"ticks\":\"\"}}}],\"scattercarpet\":[{\"type\":\"scattercarpet\",\"marker\":{\"colorbar\":{\"outlinewidth\":0,\"ticks\":\"\"}}}],\"carpet\":[{\"aaxis\":{\"endlinecolor\":\"#2a3f5f\",\"gridcolor\":\"white\",\"linecolor\":\"white\",\"minorgridcolor\":\"white\",\"startlinecolor\":\"#2a3f5f\"},\"baxis\":{\"endlinecolor\":\"#2a3f5f\",\"gridcolor\":\"white\",\"linecolor\":\"white\",\"minorgridcolor\":\"white\",\"startlinecolor\":\"#2a3f5f\"},\"type\":\"carpet\"}],\"table\":[{\"cells\":{\"fill\":{\"color\":\"#EBF0F8\"},\"line\":{\"color\":\"white\"}},\"header\":{\"fill\":{\"color\":\"#C8D4E3\"},\"line\":{\"color\":\"white\"}},\"type\":\"table\"}],\"barpolar\":[{\"marker\":{\"line\":{\"color\":\"#E5ECF6\",\"width\":0.5},\"pattern\":{\"fillmode\":\"overlay\",\"size\":10,\"solidity\":0.2}},\"type\":\"barpolar\"}],\"pie\":[{\"automargin\":true,\"type\":\"pie\"}]},\"layout\":{\"autotypenumbers\":\"strict\",\"colorway\":[\"#636efa\",\"#EF553B\",\"#00cc96\",\"#ab63fa\",\"#FFA15A\",\"#19d3f3\",\"#FF6692\",\"#B6E880\",\"#FF97FF\",\"#FECB52\"],\"font\":{\"color\":\"#2a3f5f\"},\"hovermode\":\"closest\",\"hoverlabel\":{\"align\":\"left\"},\"paper_bgcolor\":\"white\",\"plot_bgcolor\":\"#E5ECF6\",\"polar\":{\"bgcolor\":\"#E5ECF6\",\"angularaxis\":{\"gridcolor\":\"white\",\"linecolor\":\"white\",\"ticks\":\"\"},\"radialaxis\":{\"gridcolor\":\"white\",\"linecolor\":\"white\",\"ticks\":\"\"}},\"ternary\":{\"bgcolor\":\"#E5ECF6\",\"aaxis\":{\"gridcolor\":\"white\",\"linecolor\":\"white\",\"ticks\":\"\"},\"baxis\":{\"gridcolor\":\"white\",\"linecolor\":\"white\",\"ticks\":\"\"},\"caxis\":{\"gridcolor\":\"white\",\"linecolor\":\"white\",\"ticks\":\"\"}},\"coloraxis\":{\"colorbar\":{\"outlinewidth\":0,\"ticks\":\"\"}},\"colorscale\":{\"sequential\":[[0.0,\"#0d0887\"],[0.1111111111111111,\"#46039f\"],[0.2222222222222222,\"#7201a8\"],[0.3333333333333333,\"#9c179e\"],[0.4444444444444444,\"#bd3786\"],[0.5555555555555556,\"#d8576b\"],[0.6666666666666666,\"#ed7953\"],[0.7777777777777778,\"#fb9f3a\"],[0.8888888888888888,\"#fdca26\"],[1.0,\"#f0f921\"]],\"sequentialminus\":[[0.0,\"#0d0887\"],[0.1111111111111111,\"#46039f\"],[0.2222222222222222,\"#7201a8\"],[0.3333333333333333,\"#9c179e\"],[0.4444444444444444,\"#bd3786\"],[0.5555555555555556,\"#d8576b\"],[0.6666666666666666,\"#ed7953\"],[0.7777777777777778,\"#fb9f3a\"],[0.8888888888888888,\"#fdca26\"],[1.0,\"#f0f921\"]],\"diverging\":[[0,\"#8e0152\"],[0.1,\"#c51b7d\"],[0.2,\"#de77ae\"],[0.3,\"#f1b6da\"],[0.4,\"#fde0ef\"],[0.5,\"#f7f7f7\"],[0.6,\"#e6f5d0\"],[0.7,\"#b8e186\"],[0.8,\"#7fbc41\"],[0.9,\"#4d9221\"],[1,\"#276419\"]]},\"xaxis\":{\"gridcolor\":\"white\",\"linecolor\":\"white\",\"ticks\":\"\",\"title\":{\"standoff\":15},\"zerolinecolor\":\"white\",\"automargin\":true,\"zerolinewidth\":2},\"yaxis\":{\"gridcolor\":\"white\",\"linecolor\":\"white\",\"ticks\":\"\",\"title\":{\"standoff\":15},\"zerolinecolor\":\"white\",\"automargin\":true,\"zerolinewidth\":2},\"scene\":{\"xaxis\":{\"backgroundcolor\":\"#E5ECF6\",\"gridcolor\":\"white\",\"linecolor\":\"white\",\"showbackground\":true,\"ticks\":\"\",\"zerolinecolor\":\"white\",\"gridwidth\":2},\"yaxis\":{\"backgroundcolor\":\"#E5ECF6\",\"gridcolor\":\"white\",\"linecolor\":\"white\",\"showbackground\":true,\"ticks\":\"\",\"zerolinecolor\":\"white\",\"gridwidth\":2},\"zaxis\":{\"backgroundcolor\":\"#E5ECF6\",\"gridcolor\":\"white\",\"linecolor\":\"white\",\"showbackground\":true,\"ticks\":\"\",\"zerolinecolor\":\"white\",\"gridwidth\":2}},\"shapedefaults\":{\"line\":{\"color\":\"#2a3f5f\"}},\"annotationdefaults\":{\"arrowcolor\":\"#2a3f5f\",\"arrowhead\":0,\"arrowwidth\":1},\"geo\":{\"bgcolor\":\"white\",\"landcolor\":\"#E5ECF6\",\"subunitcolor\":\"white\",\"showland\":true,\"showlakes\":true,\"lakecolor\":\"white\"},\"title\":{\"x\":0.05},\"mapbox\":{\"style\":\"light\"}}},\"xaxis\":{\"anchor\":\"y\",\"domain\":[0.0,1.0],\"title\":{\"text\":\"Crime Count\"}},\"yaxis\":{\"anchor\":\"x\",\"domain\":[0.0,1.0],\"title\":{\"text\":\"Resident Count\"}},\"legend\":{\"tracegroupgap\":0},\"margin\":{\"t\":60},\"title\":{\"text\":\"Residents vs Crimes\"}},                        {\"responsive\": true}                    ).then(function(){\n",
              "                            \n",
              "var gd = document.getElementById('a74bd977-8db3-40b7-8b0d-42da44494ecf');\n",
              "var x = new MutationObserver(function (mutations, observer) {{\n",
              "        var display = window.getComputedStyle(gd).display;\n",
              "        if (!display || display === 'none') {{\n",
              "            console.log([gd, 'removed!']);\n",
              "            Plotly.purge(gd);\n",
              "            observer.disconnect();\n",
              "        }}\n",
              "}});\n",
              "\n",
              "// Listen for the removal of the full notebook cells\n",
              "var notebookContainer = gd.closest('#notebook-container');\n",
              "if (notebookContainer) {{\n",
              "    x.observe(notebookContainer, {childList: true});\n",
              "}}\n",
              "\n",
              "// Listen for the clearing of the current output cell\n",
              "var outputEl = gd.closest('.output');\n",
              "if (outputEl) {{\n",
              "    x.observe(outputEl, {childList: true});\n",
              "}}\n",
              "\n",
              "                        })                };                            </script>        </div>\n",
              "</body>\n",
              "</html>"
            ]
          },
          "metadata": {}
        },
        {
          "output_type": "execute_result",
          "data": {
            "text/plain": [
              "'https://plotly.com/~LukWolf/24/'"
            ],
            "application/vnd.google.colaboratory.intrinsic+json": {
              "type": "string"
            }
          },
          "metadata": {},
          "execution_count": 106
        }
      ],
      "source": [
        "import plotly.express as px\n",
        "import pandas as pd\n",
        "\n",
        "df = df_clean.groupby('Resident Count')['Crime Count'].sum().reset_index()\n",
        "fig = px.scatter(df, x='Crime Count', y='Resident Count', trendline='ols')\n",
        "fig.update_layout(title='Residents vs Crimes')\n",
        "fig.show()\n",
        "# py.plot(fig, filename=\"Scatter 3\", auto_open = True)\n"
      ]
    },
    {
      "cell_type": "markdown",
      "metadata": {
        "id": "iOZGbZkbYHQj"
      },
      "source": [
        "In this graph, we can see that there is a relation between the number of people and crimes, but the next step is to eliminate those outliers, so we can see a more clear graph."
      ]
    },
    {
      "cell_type": "markdown",
      "metadata": {
        "id": "XTgEbUyZYHQj"
      },
      "source": [
        "## Without Outliers"
      ]
    },
    {
      "cell_type": "code",
      "execution_count": 107,
      "metadata": {
        "colab": {
          "base_uri": "https://localhost:8080/",
          "height": 1000
        },
        "id": "e_2bYA2wYHQj",
        "outputId": "d6514dc6-fd12-41a2-abce-563e330a4078"
      },
      "outputs": [
        {
          "output_type": "display_data",
          "data": {
            "text/html": [
              "<html>\n",
              "<head><meta charset=\"utf-8\" /></head>\n",
              "<body>\n",
              "    <div>            <script src=\"https://cdnjs.cloudflare.com/ajax/libs/mathjax/2.7.5/MathJax.js?config=TeX-AMS-MML_SVG\"></script><script type=\"text/javascript\">if (window.MathJax && window.MathJax.Hub && window.MathJax.Hub.Config) {window.MathJax.Hub.Config({SVG: {font: \"STIX-Web\"}});}</script>                <script type=\"text/javascript\">window.PlotlyConfig = {MathJaxConfig: 'local'};</script>\n",
              "        <script charset=\"utf-8\" src=\"https://cdn.plot.ly/plotly-2.24.1.min.js\"></script>                <div id=\"0d7b21b6-f90e-48fa-8187-5ec9fee62e01\" class=\"plotly-graph-div\" style=\"height:1000px; width:1700px;\"></div>            <script type=\"text/javascript\">                                    window.PLOTLYENV=window.PLOTLYENV || {};                                    if (document.getElementById(\"0d7b21b6-f90e-48fa-8187-5ec9fee62e01\")) {                    Plotly.newPlot(                        \"0d7b21b6-f90e-48fa-8187-5ec9fee62e01\",                        [{\"hovertemplate\":\"Crime Count=%{x}\\u003cbr\\u003eResident Count=%{y}\\u003cextra\\u003e\\u003c\\u002fextra\\u003e\",\"legendgroup\":\"\",\"marker\":{\"color\":\"#636efa\",\"symbol\":\"circle\"},\"mode\":\"markers\",\"name\":\"\",\"orientation\":\"v\",\"showlegend\":false,\"x\":[2094,53,284,153,27,556,895,499,227,1538,54,59,54,54,66,125,97,44,907,182,180,97,82,59,184,649,562,183,36,338,108,169,259,239,442,138,185,108,521,351,570,734,901,435,291,214,546,278,145,189,444,320,496,321,344,220,142,569,385,425,404,397,572,308,425,317,529,596,1030,416,262,125,300,1329,231,443,1019,405,1111,972,621,207,330,301,1060,1870,364,1098,1267,332,1127,223,1104,1409,1052,1322,502,1309,340,1299,264,1016,265,1433,1586,1109,505,281,420,450,520,427,1447,329,665,1223,583,455,884,364,1790,477,1210,1271,829,1996,1561,2114,2035,373,370,489,1019,671,2257,965,1422,1444,647,299,718,877,332,567,853,354,1475,2996,632,503,342,1416,601,1511,1280,696,1417,540,994,2210,694,466,1274,514,521,559,2029,375,1146,2113,858,1860,1303,1952,580,1677,2429,1170,597,2029,508,1207,630,1626,547,524,1770,896,611,1205,698,1874,691,1760,783,924,1018,666,1283,1511,1685,727,1946,1257],\"xaxis\":\"x\",\"y\":[11.0,14.0,25.0,41.0,86.0,123.0,225.0,255.0,302.0,317.0,390.0,401.0,422.0,432.0,455.0,572.0,594.0,599.0,644.0,690.0,705.0,751.0,896.0,928.0,931.0,1025.0,1134.0,1254.0,1262.0,1270.0,1343.0,1477.0,1560.0,1594.0,1626.0,1640.0,1662.0,1690.0,1691.0,1754.0,1795.0,1805.0,1895.0,1906.0,1911.0,1916.0,2030.0,2036.0,2060.0,2128.0,2158.0,2249.0,2258.0,2263.0,2305.0,2359.0,2367.0,2370.0,2391.0,2471.0,2478.0,2566.0,2597.0,2617.0,2648.0,2709.0,2765.0,2785.0,2798.0,2921.0,3104.0,3116.0,3202.0,3239.0,3244.0,3342.0,3457.0,3569.0,3625.0,3635.0,3646.0,3660.0,3672.0,3767.0,3838.0,3893.0,3973.0,4024.0,4153.0,4202.0,4230.0,4280.0,4442.0,4515.0,4584.0,4598.0,4673.0,4688.0,4743.0,4744.0,4754.0,4962.0,5065.0,5256.0,5326.0,5328.0,5355.0,5585.0,5690.0,5801.0,5805.0,5848.0,5889.0,5904.0,5957.0,5961.0,6002.0,6094.0,6127.0,6228.0,6246.0,6420.0,6447.0,6496.0,6522.0,6558.0,6582.0,6620.0,6835.0,6855.0,6889.0,6900.0,6942.0,6981.0,6997.0,7049.0,7080.0,7267.0,7270.0,7382.0,7420.0,7442.0,7505.0,7607.0,7624.0,7655.0,7685.0,7814.0,7924.0,8067.0,8398.0,8523.0,8543.0,8554.0,8576.0,8679.0,8788.0,8866.0,8940.0,9162.0,9244.0,9248.0,9368.0,9446.0,9736.0,9943.0,10022.0,10077.0,10293.0,10351.0,10372.0,10520.0,10619.0,10653.0,10758.0,10977.0,11150.0,11514.0,11566.0,11688.0,11706.0,11707.0,11784.0,12019.0,12641.0,12654.0,12874.0,12881.0,13103.0,13395.0,13406.0,13420.0,13823.0,14245.0,15395.0,17607.0,17667.0,17685.0,18283.0,19026.0,19884.0,21500.0,22321.0,25710.0],\"yaxis\":\"y\",\"type\":\"scatter\",\"line\":{\"color\":\"red\"}},{\"hovertemplate\":\"\\u003cb\\u003eOLS trendline\\u003c\\u002fb\\u003e\\u003cbr\\u003eResident Count = 3.90596 * Crime Count + 2944.27\\u003cbr\\u003eR\\u003csup\\u003e2\\u003c\\u002fsup\\u003e=0.231065\\u003cbr\\u003e\\u003cbr\\u003eCrime Count=%{x}\\u003cbr\\u003eResident Count=%{y} \\u003cb\\u003e(trend)\\u003c\\u002fb\\u003e\\u003cextra\\u003e\\u003c\\u002fextra\\u003e\",\"legendgroup\":\"\",\"marker\":{\"color\":\"#636efa\",\"symbol\":\"circle\"},\"mode\":\"lines\",\"name\":\"\",\"showlegend\":false,\"x\":[27,36,44,53,54,54,54,59,59,66,82,97,97,108,108,125,125,138,142,145,153,169,180,182,183,184,185,189,207,214,220,223,227,231,239,259,262,264,265,278,281,284,291,299,300,301,308,317,320,321,329,330,332,332,338,340,342,344,351,354,364,364,370,373,375,385,397,404,405,416,420,425,425,427,435,442,443,444,450,455,466,477,489,496,499,502,503,505,508,514,520,521,521,524,529,540,546,547,556,559,562,567,569,570,572,580,583,596,597,601,611,621,630,632,647,649,665,666,671,691,694,696,698,718,727,734,783,829,853,858,877,884,895,896,901,907,924,965,972,994,1016,1018,1019,1019,1030,1052,1060,1098,1104,1109,1111,1127,1146,1170,1205,1207,1210,1223,1257,1267,1271,1274,1280,1283,1299,1303,1309,1322,1329,1409,1416,1417,1422,1433,1444,1447,1475,1511,1511,1538,1561,1586,1626,1677,1685,1760,1770,1790,1860,1870,1874,1946,1952,1996,2029,2029,2035,2094,2113,2114,2210,2257,2429,2996],\"xaxis\":\"x\",\"y\":[3049.729318125634,3084.882939278494,3116.1306025254808,3151.284223678341,3155.1901815842143,3155.1901815842143,3155.1901815842143,3174.719971113581,3174.719971113581,3202.061676454694,3264.557002948667,3323.146371536767,3323.146371536767,3366.111908501374,3366.111908501374,3432.5131929012205,3432.5131929012205,3483.2906456775736,3498.914477301067,3510.632351018687,3541.8800142656737,3604.375340759647,3647.3408777242535,3655.152793536,3659.0587514418735,3662.964709347747,3666.87066725362,3682.4944988771135,3752.801741182833,3780.1434465239467,3803.579193959187,3815.297067676807,3830.9208993003,3846.5447309237934,3877.79239417078,3955.9115522882466,3967.6294260058667,3975.441341817613,3979.3472997234867,4030.12475249984,4041.84262621746,4053.56049993508,4080.902205276193,4112.14986852318,4116.055826429053,4119.961784334926,4147.30348967604,4182.4571108289,4194.174984546519,4198.080942452393,4229.328605699379,4233.234563605252,4241.046479416999,4241.046479416999,4264.482226852239,4272.294142663986,4280.106058475732,4287.917974287479,4315.2596796285925,4326.9775533462125,4366.0371324049465,4366.0371324049465,4389.472879840186,4401.190753557806,4409.002669369553,4448.062248428286,4494.933743298766,4522.275448639879,4526.181406545753,4569.146943510359,4584.770775133852,4604.300564663219,4604.300564663219,4612.112480474965,4643.360143721952,4670.701849063065,4674.607806968939,4678.513764874812,4701.949512310052,4721.479301839419,4764.4448388040255,4807.410375768632,4854.281870639112,4881.623575980226,4893.341449697846,4905.059323415466,4908.965281321339,4916.777197133086,4928.495070850706,4951.930818285946,4975.366565721185,4979.272523627059,4979.272523627059,4990.990397344678,5010.520186874045,5053.485723838652,5076.921471273892,5080.827429179765,5115.981050332625,5127.698924050245,5139.416797767864,5158.946587297232,5166.758503108978,5170.664461014852,5178.476376826598,5209.724040073585,5221.441913791205,5272.219366567559,5276.125324473432,5291.749156096925,5330.808735155659,5369.868314214391,5405.021935367251,5412.833851178998,5471.423219767098,5479.235135578845,5541.730462072817,5545.636419978691,5565.166209508057,5643.2853676255245,5655.0032413431445,5662.8151571548915,5670.627072966638,5748.746231084104,5783.899852236964,5811.241557578078,6002.63349496587,6182.307558636044,6276.050548377004,6295.580337906371,6369.793538117963,6397.135243459077,6440.100780423683,6444.006738329557,6463.536527858923,6486.972275294163,6553.37355969401,6713.517833834816,6740.85953917593,6826.790613105143,6912.721687034356,6920.533602846102,6924.439560751976,6924.439560751976,6967.4050977165825,7053.336171645796,7084.583834892783,7233.010235315969,7256.445982751209,7275.975772280576,7283.787688092322,7346.283014586295,7420.4962147978895,7514.239204538849,7650.947731244415,7658.759647056162,7670.477520773782,7721.254973550135,7854.0575423498285,7893.117121408562,7908.740953032055,7920.458826749675,7943.894574184915,7955.612447902535,8018.107774396508,8033.731606020002,8057.167353455242,8107.944806231595,8135.286511572708,8447.763144042576,8475.104849383688,8479.01080728956,8498.540596818928,8541.506133783534,8584.471670748142,8596.18954446576,8705.556365830214,8846.170850441653,8846.170850441653,8951.631713900235,9041.468745735321,9139.117693382153,9295.356009617088,9494.559862816626,9525.807526063614,9818.754369004113,9857.813948062845,9935.933106180313,10209.350159591446,10248.409738650178,10264.033570273672,10545.26253949655,10568.69828693179,10740.560434790219,10869.457045684037,10869.457045684037,10892.892793119277,11123.344309565804,11197.557509777398,11201.463467683272,11576.43542664711,11760.015448223156,12431.840208033369,14646.518340663548],\"yaxis\":\"y\",\"type\":\"scatter\",\"line\":{\"color\":\"red\"}}],                        {\"template\":{\"data\":{\"histogram2dcontour\":[{\"type\":\"histogram2dcontour\",\"colorbar\":{\"outlinewidth\":0,\"ticks\":\"\"},\"colorscale\":[[0.0,\"#0d0887\"],[0.1111111111111111,\"#46039f\"],[0.2222222222222222,\"#7201a8\"],[0.3333333333333333,\"#9c179e\"],[0.4444444444444444,\"#bd3786\"],[0.5555555555555556,\"#d8576b\"],[0.6666666666666666,\"#ed7953\"],[0.7777777777777778,\"#fb9f3a\"],[0.8888888888888888,\"#fdca26\"],[1.0,\"#f0f921\"]]}],\"choropleth\":[{\"type\":\"choropleth\",\"colorbar\":{\"outlinewidth\":0,\"ticks\":\"\"}}],\"histogram2d\":[{\"type\":\"histogram2d\",\"colorbar\":{\"outlinewidth\":0,\"ticks\":\"\"},\"colorscale\":[[0.0,\"#0d0887\"],[0.1111111111111111,\"#46039f\"],[0.2222222222222222,\"#7201a8\"],[0.3333333333333333,\"#9c179e\"],[0.4444444444444444,\"#bd3786\"],[0.5555555555555556,\"#d8576b\"],[0.6666666666666666,\"#ed7953\"],[0.7777777777777778,\"#fb9f3a\"],[0.8888888888888888,\"#fdca26\"],[1.0,\"#f0f921\"]]}],\"heatmap\":[{\"type\":\"heatmap\",\"colorbar\":{\"outlinewidth\":0,\"ticks\":\"\"},\"colorscale\":[[0.0,\"#0d0887\"],[0.1111111111111111,\"#46039f\"],[0.2222222222222222,\"#7201a8\"],[0.3333333333333333,\"#9c179e\"],[0.4444444444444444,\"#bd3786\"],[0.5555555555555556,\"#d8576b\"],[0.6666666666666666,\"#ed7953\"],[0.7777777777777778,\"#fb9f3a\"],[0.8888888888888888,\"#fdca26\"],[1.0,\"#f0f921\"]]}],\"heatmapgl\":[{\"type\":\"heatmapgl\",\"colorbar\":{\"outlinewidth\":0,\"ticks\":\"\"},\"colorscale\":[[0.0,\"#0d0887\"],[0.1111111111111111,\"#46039f\"],[0.2222222222222222,\"#7201a8\"],[0.3333333333333333,\"#9c179e\"],[0.4444444444444444,\"#bd3786\"],[0.5555555555555556,\"#d8576b\"],[0.6666666666666666,\"#ed7953\"],[0.7777777777777778,\"#fb9f3a\"],[0.8888888888888888,\"#fdca26\"],[1.0,\"#f0f921\"]]}],\"contourcarpet\":[{\"type\":\"contourcarpet\",\"colorbar\":{\"outlinewidth\":0,\"ticks\":\"\"}}],\"contour\":[{\"type\":\"contour\",\"colorbar\":{\"outlinewidth\":0,\"ticks\":\"\"},\"colorscale\":[[0.0,\"#0d0887\"],[0.1111111111111111,\"#46039f\"],[0.2222222222222222,\"#7201a8\"],[0.3333333333333333,\"#9c179e\"],[0.4444444444444444,\"#bd3786\"],[0.5555555555555556,\"#d8576b\"],[0.6666666666666666,\"#ed7953\"],[0.7777777777777778,\"#fb9f3a\"],[0.8888888888888888,\"#fdca26\"],[1.0,\"#f0f921\"]]}],\"surface\":[{\"type\":\"surface\",\"colorbar\":{\"outlinewidth\":0,\"ticks\":\"\"},\"colorscale\":[[0.0,\"#0d0887\"],[0.1111111111111111,\"#46039f\"],[0.2222222222222222,\"#7201a8\"],[0.3333333333333333,\"#9c179e\"],[0.4444444444444444,\"#bd3786\"],[0.5555555555555556,\"#d8576b\"],[0.6666666666666666,\"#ed7953\"],[0.7777777777777778,\"#fb9f3a\"],[0.8888888888888888,\"#fdca26\"],[1.0,\"#f0f921\"]]}],\"mesh3d\":[{\"type\":\"mesh3d\",\"colorbar\":{\"outlinewidth\":0,\"ticks\":\"\"}}],\"scatter\":[{\"fillpattern\":{\"fillmode\":\"overlay\",\"size\":10,\"solidity\":0.2},\"type\":\"scatter\"}],\"parcoords\":[{\"type\":\"parcoords\",\"line\":{\"colorbar\":{\"outlinewidth\":0,\"ticks\":\"\"}}}],\"scatterpolargl\":[{\"type\":\"scatterpolargl\",\"marker\":{\"colorbar\":{\"outlinewidth\":0,\"ticks\":\"\"}}}],\"bar\":[{\"error_x\":{\"color\":\"#2a3f5f\"},\"error_y\":{\"color\":\"#2a3f5f\"},\"marker\":{\"line\":{\"color\":\"#E5ECF6\",\"width\":0.5},\"pattern\":{\"fillmode\":\"overlay\",\"size\":10,\"solidity\":0.2}},\"type\":\"bar\"}],\"scattergeo\":[{\"type\":\"scattergeo\",\"marker\":{\"colorbar\":{\"outlinewidth\":0,\"ticks\":\"\"}}}],\"scatterpolar\":[{\"type\":\"scatterpolar\",\"marker\":{\"colorbar\":{\"outlinewidth\":0,\"ticks\":\"\"}}}],\"histogram\":[{\"marker\":{\"pattern\":{\"fillmode\":\"overlay\",\"size\":10,\"solidity\":0.2}},\"type\":\"histogram\"}],\"scattergl\":[{\"type\":\"scattergl\",\"marker\":{\"colorbar\":{\"outlinewidth\":0,\"ticks\":\"\"}}}],\"scatter3d\":[{\"type\":\"scatter3d\",\"line\":{\"colorbar\":{\"outlinewidth\":0,\"ticks\":\"\"}},\"marker\":{\"colorbar\":{\"outlinewidth\":0,\"ticks\":\"\"}}}],\"scattermapbox\":[{\"type\":\"scattermapbox\",\"marker\":{\"colorbar\":{\"outlinewidth\":0,\"ticks\":\"\"}}}],\"scatterternary\":[{\"type\":\"scatterternary\",\"marker\":{\"colorbar\":{\"outlinewidth\":0,\"ticks\":\"\"}}}],\"scattercarpet\":[{\"type\":\"scattercarpet\",\"marker\":{\"colorbar\":{\"outlinewidth\":0,\"ticks\":\"\"}}}],\"carpet\":[{\"aaxis\":{\"endlinecolor\":\"#2a3f5f\",\"gridcolor\":\"white\",\"linecolor\":\"white\",\"minorgridcolor\":\"white\",\"startlinecolor\":\"#2a3f5f\"},\"baxis\":{\"endlinecolor\":\"#2a3f5f\",\"gridcolor\":\"white\",\"linecolor\":\"white\",\"minorgridcolor\":\"white\",\"startlinecolor\":\"#2a3f5f\"},\"type\":\"carpet\"}],\"table\":[{\"cells\":{\"fill\":{\"color\":\"#EBF0F8\"},\"line\":{\"color\":\"white\"}},\"header\":{\"fill\":{\"color\":\"#C8D4E3\"},\"line\":{\"color\":\"white\"}},\"type\":\"table\"}],\"barpolar\":[{\"marker\":{\"line\":{\"color\":\"#E5ECF6\",\"width\":0.5},\"pattern\":{\"fillmode\":\"overlay\",\"size\":10,\"solidity\":0.2}},\"type\":\"barpolar\"}],\"pie\":[{\"automargin\":true,\"type\":\"pie\"}]},\"layout\":{\"autotypenumbers\":\"strict\",\"colorway\":[\"#636efa\",\"#EF553B\",\"#00cc96\",\"#ab63fa\",\"#FFA15A\",\"#19d3f3\",\"#FF6692\",\"#B6E880\",\"#FF97FF\",\"#FECB52\"],\"font\":{\"color\":\"#2a3f5f\"},\"hovermode\":\"closest\",\"hoverlabel\":{\"align\":\"left\"},\"paper_bgcolor\":\"white\",\"plot_bgcolor\":\"#E5ECF6\",\"polar\":{\"bgcolor\":\"#E5ECF6\",\"angularaxis\":{\"gridcolor\":\"white\",\"linecolor\":\"white\",\"ticks\":\"\"},\"radialaxis\":{\"gridcolor\":\"white\",\"linecolor\":\"white\",\"ticks\":\"\"}},\"ternary\":{\"bgcolor\":\"#E5ECF6\",\"aaxis\":{\"gridcolor\":\"white\",\"linecolor\":\"white\",\"ticks\":\"\"},\"baxis\":{\"gridcolor\":\"white\",\"linecolor\":\"white\",\"ticks\":\"\"},\"caxis\":{\"gridcolor\":\"white\",\"linecolor\":\"white\",\"ticks\":\"\"}},\"coloraxis\":{\"colorbar\":{\"outlinewidth\":0,\"ticks\":\"\"}},\"colorscale\":{\"sequential\":[[0.0,\"#0d0887\"],[0.1111111111111111,\"#46039f\"],[0.2222222222222222,\"#7201a8\"],[0.3333333333333333,\"#9c179e\"],[0.4444444444444444,\"#bd3786\"],[0.5555555555555556,\"#d8576b\"],[0.6666666666666666,\"#ed7953\"],[0.7777777777777778,\"#fb9f3a\"],[0.8888888888888888,\"#fdca26\"],[1.0,\"#f0f921\"]],\"sequentialminus\":[[0.0,\"#0d0887\"],[0.1111111111111111,\"#46039f\"],[0.2222222222222222,\"#7201a8\"],[0.3333333333333333,\"#9c179e\"],[0.4444444444444444,\"#bd3786\"],[0.5555555555555556,\"#d8576b\"],[0.6666666666666666,\"#ed7953\"],[0.7777777777777778,\"#fb9f3a\"],[0.8888888888888888,\"#fdca26\"],[1.0,\"#f0f921\"]],\"diverging\":[[0,\"#8e0152\"],[0.1,\"#c51b7d\"],[0.2,\"#de77ae\"],[0.3,\"#f1b6da\"],[0.4,\"#fde0ef\"],[0.5,\"#f7f7f7\"],[0.6,\"#e6f5d0\"],[0.7,\"#b8e186\"],[0.8,\"#7fbc41\"],[0.9,\"#4d9221\"],[1,\"#276419\"]]},\"xaxis\":{\"gridcolor\":\"white\",\"linecolor\":\"white\",\"ticks\":\"\",\"title\":{\"standoff\":15},\"zerolinecolor\":\"white\",\"automargin\":true,\"zerolinewidth\":2},\"yaxis\":{\"gridcolor\":\"white\",\"linecolor\":\"white\",\"ticks\":\"\",\"title\":{\"standoff\":15},\"zerolinecolor\":\"white\",\"automargin\":true,\"zerolinewidth\":2},\"scene\":{\"xaxis\":{\"backgroundcolor\":\"#E5ECF6\",\"gridcolor\":\"white\",\"linecolor\":\"white\",\"showbackground\":true,\"ticks\":\"\",\"zerolinecolor\":\"white\",\"gridwidth\":2},\"yaxis\":{\"backgroundcolor\":\"#E5ECF6\",\"gridcolor\":\"white\",\"linecolor\":\"white\",\"showbackground\":true,\"ticks\":\"\",\"zerolinecolor\":\"white\",\"gridwidth\":2},\"zaxis\":{\"backgroundcolor\":\"#E5ECF6\",\"gridcolor\":\"white\",\"linecolor\":\"white\",\"showbackground\":true,\"ticks\":\"\",\"zerolinecolor\":\"white\",\"gridwidth\":2}},\"shapedefaults\":{\"line\":{\"color\":\"#2a3f5f\"}},\"annotationdefaults\":{\"arrowcolor\":\"#2a3f5f\",\"arrowhead\":0,\"arrowwidth\":1},\"geo\":{\"bgcolor\":\"white\",\"landcolor\":\"#E5ECF6\",\"subunitcolor\":\"white\",\"showland\":true,\"showlakes\":true,\"lakecolor\":\"white\"},\"title\":{\"x\":0.05},\"mapbox\":{\"style\":\"light\"}}},\"xaxis\":{\"anchor\":\"y\",\"domain\":[0.0,1.0],\"title\":{\"text\":\"Crime Count\"}},\"yaxis\":{\"anchor\":\"x\",\"domain\":[0.0,1.0],\"title\":{\"text\":\"Resident Count\"}},\"legend\":{\"tracegroupgap\":0},\"margin\":{\"t\":60},\"title\":{\"text\":\"Residents vs Crimes (Correlation = 0.48)\"},\"height\":1000,\"width\":1700},                        {\"responsive\": true}                    ).then(function(){\n",
              "                            \n",
              "var gd = document.getElementById('0d7b21b6-f90e-48fa-8187-5ec9fee62e01');\n",
              "var x = new MutationObserver(function (mutations, observer) {{\n",
              "        var display = window.getComputedStyle(gd).display;\n",
              "        if (!display || display === 'none') {{\n",
              "            console.log([gd, 'removed!']);\n",
              "            Plotly.purge(gd);\n",
              "            observer.disconnect();\n",
              "        }}\n",
              "}});\n",
              "\n",
              "// Listen for the removal of the full notebook cells\n",
              "var notebookContainer = gd.closest('#notebook-container');\n",
              "if (notebookContainer) {{\n",
              "    x.observe(notebookContainer, {childList: true});\n",
              "}}\n",
              "\n",
              "// Listen for the clearing of the current output cell\n",
              "var outputEl = gd.closest('.output');\n",
              "if (outputEl) {{\n",
              "    x.observe(outputEl, {childList: true});\n",
              "}}\n",
              "\n",
              "                        })                };                            </script>        </div>\n",
              "</body>\n",
              "</html>"
            ]
          },
          "metadata": {}
        },
        {
          "output_type": "stream",
          "name": "stdout",
          "text": [
            "Correlation: 0.48\n"
          ]
        },
        {
          "output_type": "execute_result",
          "data": {
            "text/plain": [
              "'https://plotly.com/~LukWolf/26/'"
            ],
            "application/vnd.google.colaboratory.intrinsic+json": {
              "type": "string"
            }
          },
          "metadata": {},
          "execution_count": 107
        }
      ],
      "source": [
        "import plotly.express as px\n",
        "import pandas as pd\n",
        "\n",
        "df = df[df['Crime Count'] < 5000].groupby('Resident Count')['Crime Count'].sum().reset_index()\n",
        "df = df[df['Crime Count'] < 3000]\n",
        "\n",
        "fig = px.scatter(df, x='Crime Count', y='Resident Count', trendline='ols')\n",
        "fig.update_traces(line=dict(color='red'))\n",
        "fig.update_layout(title='Residents vs Crimes (Correlation = 0.48)', height=1000, width=1700)\n",
        "fig.show()\n",
        "\n",
        "print(\"Correlation: \" + str(round(df['Crime Count'].corr(df['Resident Count']),2)))\n",
        "# py.plot(fig, filename=\"Scatter 4\", auto_open = True)"
      ]
    },
    {
      "cell_type": "code",
      "execution_count": 91,
      "metadata": {
        "id": "OWzDEX5VYHQj"
      },
      "outputs": [],
      "source": [
        "# df.to_csv('Data_3.csv')"
      ]
    },
    {
      "cell_type": "markdown",
      "metadata": {
        "id": "lc_u1_GgYHQk"
      },
      "source": [
        "Now we can see that there is a possitive correlation between the number of residents and crime. I also calculated the correlation between these two variables, showing that the correlation is 0.48, confirming what the graph shows us"
      ]
    }
  ],
  "metadata": {
    "kernelspec": {
      "display_name": "base",
      "language": "python",
      "name": "python3"
    },
    "language_info": {
      "codemirror_mode": {
        "name": "ipython",
        "version": 3
      },
      "file_extension": ".py",
      "mimetype": "text/x-python",
      "name": "python",
      "nbconvert_exporter": "python",
      "pygments_lexer": "ipython3",
      "version": "3.11.5"
    },
    "colab": {
      "provenance": [],
      "include_colab_link": true
    }
  },
  "nbformat": 4,
  "nbformat_minor": 0
}